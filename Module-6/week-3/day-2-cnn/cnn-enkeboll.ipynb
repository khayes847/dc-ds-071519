{
 "cells": [
  {
   "cell_type": "markdown",
   "metadata": {},
   "source": [
    "<h1 style='text-align:center'>Convolutional Neural Networks</h1>"
   ]
  },
  {
   "cell_type": "markdown",
   "metadata": {},
   "source": [
    "### What are CNNs used for?"
   ]
  },
  {
   "cell_type": "code",
   "execution_count": null,
   "metadata": {},
   "outputs": [],
   "source": [
    "from IPython.display import IFrame\n",
    "IFrame(src=\"https://www.youtube.com/embed/ACmydtFDTGs\", width='622', height='466')"
   ]
  },
  {
   "cell_type": "markdown",
   "metadata": {},
   "source": [
    "CNNs are mainly used for image recognition/classification. They can be used for video analysis, NLP (sentiment analysis, topic modeling), and speech recognition. Today we'll be discussing how CNNs are you used to classify images. "
   ]
  },
  {
   "cell_type": "markdown",
   "metadata": {},
   "source": [
    "### How do our brains see an image? "
   ]
  },
  {
   "cell_type": "markdown",
   "metadata": {},
   "source": [
    "\n",
    "We might see some fluffy tail, a wet nose, flappy ears, and a good boy and conclude we are probably seeing dog. There is not one singular thing about a dog that our brain recognizes as a dog but an amalgamation of different patterns that allow us to make a probable guess.  \n"
   ]
  },
  {
   "cell_type": "markdown",
   "metadata": {},
   "source": [
    "<img src='./img/chihuahua.jpeg'/>"
   ]
  },
  {
   "cell_type": "markdown",
   "metadata": {},
   "source": [
    "### Convolutal Neural Networks - How computers see images"
   ]
  },
  {
   "cell_type": "markdown",
   "metadata": {},
   "source": [
    "<img src='./img/architecture.jpeg'/>"
   ]
  },
  {
   "cell_type": "markdown",
   "metadata": {},
   "source": [
    "###### Images"
   ]
  },
  {
   "cell_type": "markdown",
   "metadata": {},
   "source": [
    "To computers images are a 3D object - composed of 3 matrices - one for each primary color that can be combined in varying intensities to create different colors. Each element in a matrix represents the location of a pixel and contains a number between 0 and 255 which indicates the intensity of the corresponding primary color in that pixel. "
   ]
  },
  {
   "cell_type": "markdown",
   "metadata": {},
   "source": [
    "##### From wikipedia:\n",
    "\n",
    "    \"The RGB color model is an additive color model[1] in which red, green and blue light are added together in various ways to reproduce a broad array of colors. The name of the model comes from the initials of the three additive primary colors, red, green, and blue. The main purpose of the RGB color model is for the sensing, representation, and display of images in electronic systems, such as televisions and computers\""
   ]
  },
  {
   "cell_type": "markdown",
   "metadata": {},
   "source": [
    "<img src='./img/rgb.png'/>"
   ]
  },
  {
   "cell_type": "markdown",
   "metadata": {},
   "source": [
    "### Why do we want CNNs"
   ]
  },
  {
   "cell_type": "markdown",
   "metadata": {},
   "source": [
    "![](./img/NN_vs_CNN.png)"
   ]
  },
  {
   "cell_type": "markdown",
   "metadata": {},
   "source": [
    "![](./img/weight_sharing_1.png)"
   ]
  },
  {
   "cell_type": "markdown",
   "metadata": {},
   "source": [
    "### Convolution"
   ]
  },
  {
   "cell_type": "markdown",
   "metadata": {},
   "source": [
    "<b>To Convolve means to roll together</b><br/><br/>\n",
    "In the context of mathematics think of it as a way of mixing two functions by multiplying them.<br/><br/>\n",
    "\n",
    "Convolutional neural networks make use of linear algebra to identify patterns using the pixel values (intensity of R,G, or B). By taking a small matrix and moving it across an image and multiplying them together every time it moves our network can mathematically identify patterns in these images. This small matrix is known as a <b>\"kernel\"</b> or <b>\"filter\"</b> and each one is designed to identify a particular pattern in an image (edges, shapes, etc.)"
   ]
  },
  {
   "cell_type": "markdown",
   "metadata": {},
   "source": [
    "<img src='./img/convolve.gif' width='300px'/>"
   ]
  },
  {
   "cell_type": "markdown",
   "metadata": {},
   "source": [
    "![](./img/conv.gif)"
   ]
  },
  {
   "cell_type": "markdown",
   "metadata": {},
   "source": [
    "When a filter is \"rolled over\" an image the resulting matrix is called a <b>Feature Map</b> - literally a map of where each pattern of feature is in the image. Elements with higher values indicate the presence of that pattern the filter is looking. "
   ]
  },
  {
   "cell_type": "markdown",
   "metadata": {},
   "source": [
    "The values (or weights) of the filter are adjusted during back-propagation."
   ]
  },
  {
   "cell_type": "markdown",
   "metadata": {},
   "source": [
    "Every node in a neural network layer is a different filter looking for a certain pattern. "
   ]
  },
  {
   "cell_type": "markdown",
   "metadata": {},
   "source": [
    "##### Typically use 3X3 maps"
   ]
  },
  {
   "cell_type": "markdown",
   "metadata": {},
   "source": [
    "##### For N⨉N input and kernel size k⨉k the output size is M = N - k + 1"
   ]
  },
  {
   "cell_type": "markdown",
   "metadata": {},
   "source": [
    "<h3>Parameters</h4>"
   ]
  },
  {
   "cell_type": "markdown",
   "metadata": {},
   "source": [
    "<b>Padding</b> - Sometimes it is convenient to pad the input volume with zeros around the border. Helps with detecting patterns at the edge of an image. \n",
    "\n",
    "- Padding 'SAME' - keeps image the same size (k-1/2 on each side for map sized k) \n",
    "- Padding 'VALID' - padding is 0.\n",
    "\n",
    "Padding is used to control resolution in the output layer!"
   ]
  },
  {
   "cell_type": "markdown",
   "metadata": {},
   "source": [
    "<b>Stride</b> - The number of pixels to shift the filter on each \"roll\". The larger the stride the smaller the feature map will be - but we will lose more information.\n",
    "\n",
    "Used for:\n",
    " - faster processsing\n",
    " - invariance to translation\n",
    " \n",
    "$Output = \\frac{I + 2pad - map}{stride} + 1$"
   ]
  },
  {
   "cell_type": "markdown",
   "metadata": {},
   "source": [
    "### Pooling"
   ]
  },
  {
   "cell_type": "markdown",
   "metadata": {},
   "source": [
    "The feature maps are fed into a max pool layer, and like convolutions, this method is applied one patch at a time (usually 2x2). Max pooling simply takes the largest value from one patch of an image, places it in a new matrix next to the max values from other patches, and discards the rest of the information contained in the activation maps. Other methods exist such as average pooling (taking an average of the patch). "
   ]
  },
  {
   "cell_type": "markdown",
   "metadata": {},
   "source": [
    "<img src='./img/maxpool.png'/>"
   ]
  },
  {
   "cell_type": "markdown",
   "metadata": {},
   "source": [
    "\n",
    "This process results in a new feature map with reduced dimensionality that is then passed into another convolution layer to continue the pattern finding process. These steps are repeated until they are passed to a fully connected layer that proceeds to classify the image using the identified patterns. "
   ]
  },
  {
   "cell_type": "markdown",
   "metadata": {},
   "source": [
    "Used for:\n",
    "    - invarince for translation\n",
    "    - faster processing "
   ]
  },
  {
   "cell_type": "markdown",
   "metadata": {},
   "source": [
    "### Dilation"
   ]
  },
  {
   "cell_type": "markdown",
   "metadata": {},
   "source": [
    "Use for high resolution to reduce complexity"
   ]
  },
  {
   "cell_type": "markdown",
   "metadata": {},
   "source": [
    "$Output = \\frac{I + 2pad - map'}{stride} + 1$"
   ]
  },
  {
   "cell_type": "markdown",
   "metadata": {},
   "source": [
    "$map' = map + (map-1)*(dilate - 1)$"
   ]
  },
  {
   "cell_type": "markdown",
   "metadata": {},
   "source": [
    "### Classification"
   ]
  },
  {
   "cell_type": "markdown",
   "metadata": {},
   "source": [
    "Once the neural networks has collected a series of patterns that an image contains it is ready to make a guess as to what the image is. In order to do so, it starts by flattening the 2D matrix into a 1D vector, so it can be passed into a normal densely connected layer for classification. Then using this vector one or many densely connected layers will make a prediction as to what the image is. "
   ]
  },
  {
   "cell_type": "markdown",
   "metadata": {},
   "source": [
    "<img src=\"img/typical_CNN.png\" width=150>"
   ]
  },
  {
   "cell_type": "markdown",
   "metadata": {},
   "source": [
    "### Transfer Learning"
   ]
  },
  {
   "cell_type": "markdown",
   "metadata": {},
   "source": [
    "Transfer learning is the process of training the last few layers of a pre-trained model to make classifications for a specific use case. This is not exclusive to CNNs but can be applied other neural networks and ML models. Pre-trained CNN models have dozens to hundreds of layers that have been trained on millions of images. Through this training they are very good at identifying complex patterns in image and these collection of patterns can then be used to train the final densely connected layers to make a specific classification. Examples of these pre-trained models include ResNet, InceptionNet, VGG16 - many of which are available through Keras. "
   ]
  },
  {
   "cell_type": "markdown",
   "metadata": {},
   "source": [
    "### Code "
   ]
  },
  {
   "cell_type": "code",
   "execution_count": 1,
   "metadata": {
    "colab": {
     "base_uri": "https://localhost:8080/",
     "height": 34
    },
    "colab_type": "code",
    "id": "G96i9Pql73uM",
    "outputId": "916d9b1f-7d21-4fe1-bbeb-b24bd9f66766"
   },
   "outputs": [
    {
     "name": "stderr",
     "output_type": "stream",
     "text": [
      "Using TensorFlow backend.\n"
     ]
    }
   ],
   "source": [
    "import os\n",
    "import shutil\n",
    "\n",
    "import matplotlib.pyplot as plt\n",
    "import numpy as np\n",
    "import keras\n",
    "from keras import models\n",
    "from keras import layers\n",
    "from sklearn.metrics import confusion_matrix, f1_score\n",
    "from keras.models import load_model\n",
    "from keras.preprocessing.image import ImageDataGenerator, array_to_img, img_to_array, load_img\n",
    "\n",
    "np.random.seed(123)"
   ]
  },
  {
   "cell_type": "markdown",
   "metadata": {
    "colab_type": "text",
    "id": "m9na1fhXDRcu"
   },
   "source": [
    "## Load Training Data"
   ]
  },
  {
   "cell_type": "code",
   "execution_count": null,
   "metadata": {
    "colab": {
     "base_uri": "https://localhost:8080/",
     "height": 1000
    },
    "colab_type": "code",
    "id": "5cs_btuEPgpM",
    "outputId": "900dd0e7-d017-4162-cd16-9313f2d93226"
   },
   "outputs": [],
   "source": [
    "# download from https://www.kaggle.com/dansbecker/hot-dog-not-hot-dog/download\n",
    "!unzip data/hot-dog-not-hot-dog.zip -d data/"
   ]
  },
  {
   "cell_type": "markdown",
   "metadata": {
    "colab_type": "text",
    "id": "yqt9Rx1KDqGg"
   },
   "source": [
    "## Preprocess Images"
   ]
  },
  {
   "cell_type": "code",
   "execution_count": 2,
   "metadata": {
    "colab": {
     "base_uri": "https://localhost:8080/",
     "height": 34
    },
    "colab_type": "code",
    "id": "s8T5QO9573uv",
    "outputId": "a5d8296d-3980-4e80-b943-057200db4e25",
    "scrolled": true
   },
   "outputs": [
    {
     "name": "stdout",
     "output_type": "stream",
     "text": [
      "Found 500 images belonging to 2 classes.\n"
     ]
    }
   ],
   "source": [
    "# get all the data in the directory split/test, and reshape them\n",
    "data_te = ImageDataGenerator(rescale=1./255).flow_from_directory(\n",
    "    'data/test',\n",
    "    target_size=(224, 224),\n",
    "    batch_size=4419,\n",
    "    seed=123)"
   ]
  },
  {
   "cell_type": "code",
   "execution_count": 3,
   "metadata": {
    "colab": {
     "base_uri": "https://localhost:8080/",
     "height": 34
    },
    "colab_type": "code",
    "id": "0MgTcB1K388K",
    "outputId": "022b3799-eb29-45d2-f5c1-2ba597f4bad3"
   },
   "outputs": [
    {
     "name": "stdout",
     "output_type": "stream",
     "text": [
      "Found 498 images belonging to 2 classes.\n"
     ]
    }
   ],
   "source": [
    "data_tr = ImageDataGenerator(rescale=1./255).flow_from_directory(\n",
    "    'data/train',\n",
    "    target_size=(224, 224),\n",
    "    batch_size=4419,\n",
    "    seed=123)"
   ]
  },
  {
   "cell_type": "code",
   "execution_count": 4,
   "metadata": {
    "colab": {},
    "colab_type": "code",
    "id": "cKWqCS0K73u1"
   },
   "outputs": [],
   "source": [
    "#split images and labels\n",
    "images_tr, labels_tr = next(data_tr)"
   ]
  },
  {
   "cell_type": "code",
   "execution_count": 5,
   "metadata": {
    "colab": {
     "base_uri": "https://localhost:8080/",
     "height": 34
    },
    "colab_type": "code",
    "id": "okDFvQJlmt0S",
    "outputId": "8fd96008-718a-4125-b681-4f7ff6d4df67"
   },
   "outputs": [
    {
     "data": {
      "text/plain": [
       "(498, 224, 224, 3)"
      ]
     },
     "execution_count": 5,
     "metadata": {},
     "output_type": "execute_result"
    }
   ],
   "source": [
    "images_tr.shape"
   ]
  },
  {
   "cell_type": "code",
   "execution_count": 6,
   "metadata": {
    "colab": {},
    "colab_type": "code",
    "id": "sH9Z4IF44Rht"
   },
   "outputs": [],
   "source": [
    "#split images and labels\n",
    "images_te, labels_te = next(data_te)"
   ]
  },
  {
   "cell_type": "code",
   "execution_count": 7,
   "metadata": {
    "colab": {},
    "colab_type": "code",
    "id": "_G9eBDm_4Uv_"
   },
   "outputs": [],
   "source": [
    "images = np.concatenate((images_tr, images_te))"
   ]
  },
  {
   "cell_type": "code",
   "execution_count": 8,
   "metadata": {
    "colab": {},
    "colab_type": "code",
    "id": "qb_D17U_4eJ0"
   },
   "outputs": [],
   "source": [
    "labels = np.concatenate((labels_tr[:,0], labels_te[:,0]))"
   ]
  },
  {
   "cell_type": "code",
   "execution_count": 21,
   "metadata": {
    "colab": {
     "base_uri": "https://localhost:8080/",
     "height": 269
    },
    "colab_type": "code",
    "id": "Fcb6x5uE73u5",
    "outputId": "4194c044-476b-48bb-d8f3-908da34704a4"
   },
   "outputs": [
    {
     "data": {
      "image/png": "[encoded data removed]",
      "text/plain": [
       "<Figure size 432x288 with 1 Axes>"
      ]
     },
     "metadata": {
      "needs_background": "light"
     },
     "output_type": "display_data"
    }
   ],
   "source": [
    "%matplotlib inline\n",
    "import matplotlib.pyplot as plt\n",
    "plt.imshow(images[10])\n",
    "plt.show()"
   ]
  },
  {
   "cell_type": "markdown",
   "metadata": {
    "colab_type": "text",
    "id": "czJtmSRk3cXh"
   },
   "source": [
    "## 3. Convolutional neural network"
   ]
  },
  {
   "cell_type": "code",
   "execution_count": 10,
   "metadata": {
    "colab": {},
    "colab_type": "code",
    "id": "898G-tvC73wb"
   },
   "outputs": [],
   "source": [
    "from sklearn.model_selection import train_test_split\n",
    "X_model, X_test, y_model, y_test = train_test_split(images, labels, test_size=0.20, random_state=123)"
   ]
  },
  {
   "cell_type": "code",
   "execution_count": 11,
   "metadata": {
    "colab": {},
    "colab_type": "code",
    "id": "ryysKVws73wd"
   },
   "outputs": [],
   "source": [
    "from sklearn.model_selection import train_test_split\n",
    "X_train, X_val, y_train, y_val = train_test_split(X_model, y_model, test_size=0.20, random_state=123)"
   ]
  },
  {
   "cell_type": "code",
   "execution_count": 12,
   "metadata": {
    "colab": {},
    "colab_type": "code",
    "id": "zw0LD8xe73wf"
   },
   "outputs": [
    {
     "name": "stderr",
     "output_type": "stream",
     "text": [
      "WARNING: Logging before flag parsing goes to stderr.\n",
      "W1008 15:09:58.223983 4429833664 deprecation_wrapper.py:119] From /usr/local/lib/python3.7/site-packages/keras/backend/tensorflow_backend.py:4070: The name tf.nn.max_pool is deprecated. Please use tf.nn.max_pool2d instead.\n",
      "\n",
      "W1008 15:09:58.323482 4429833664 deprecation.py:323] From /usr/local/lib/python3.7/site-packages/tensorflow/python/ops/nn_impl.py:180: add_dispatch_support.<locals>.wrapper (from tensorflow.python.ops.array_ops) is deprecated and will be removed in a future version.\n",
      "Instructions for updating:\n",
      "Use tf.where in 2.0, which has the same broadcast rule as np.where\n"
     ]
    }
   ],
   "source": [
    "cnn = models.Sequential()\n",
    "cnn.add(layers.Conv2D(64, (3, 3), activation='relu', input_shape=(224, 224,  3), padding='SAME'))\n",
    "# 64 bias parameters\n",
    "# 64 * (3 * 3 * 3) weight parametrs\n",
    "# Output is 64*224*224\n",
    "cnn.add(layers.MaxPooling2D((2, 2)))\n",
    "# Output is 64*112*112\n",
    "cnn.add(layers.Conv2D(32, (3, 3), activation='relu'))\n",
    "# 32 bias parameters\n",
    "# 32 * (3*3*64)\n",
    "# Output is 32*112*112 \n",
    "cnn.add(layers.MaxPooling2D((2, 2)))\n",
    "cnn.add(layers.Flatten())\n",
    "cnn.add(layers.Dense(32, activation='relu'))\n",
    "cnn.add(layers.Dense(1, activation='sigmoid'))\n",
    "\n",
    "cnn.compile(loss='binary_crossentropy',\n",
    "              optimizer=\"sgd\",\n",
    "              metrics=['acc'])"
   ]
  },
  {
   "cell_type": "code",
   "execution_count": 13,
   "metadata": {
    "colab": {},
    "colab_type": "code",
    "id": "N0TyaG2cSn82"
   },
   "outputs": [],
   "source": [
    "saving_weights = keras.callbacks.ModelCheckpoint(\n",
    "    'weights.{epoch:02d}-{val_loss:.2f}.hdf5',\n",
    "    monitor='val_loss', verbose=0, save_best_only=False,\n",
    "    save_weights_only=False, mode='auto', period=10\n",
    ")"
   ]
  },
  {
   "cell_type": "code",
   "execution_count": 14,
   "metadata": {
    "colab": {},
    "colab_type": "code",
    "id": "RBKf5V1CSvZV"
   },
   "outputs": [],
   "source": [
    "reduce_lr = keras.callbacks.ReduceLROnPlateau(\n",
    "    monitor='val_loss', factor=0.1, patience=20,\n",
    "    verbose=0, mode='auto', min_delta=0.0001, min_lr=0)"
   ]
  },
  {
   "cell_type": "code",
   "execution_count": 15,
   "metadata": {
    "colab": {},
    "colab_type": "code",
    "id": "zLFrLlbeSxFO"
   },
   "outputs": [],
   "source": [
    "nan_problem = keras.callbacks.TerminateOnNaN()"
   ]
  },
  {
   "cell_type": "code",
   "execution_count": 16,
   "metadata": {
    "colab": {},
    "colab_type": "code",
    "id": "y3__e9-5TQon"
   },
   "outputs": [],
   "source": [
    "early_stop = keras.callbacks.EarlyStopping(\n",
    "    monitor='val_loss', min_delta=0, patience=20,\n",
    "    verbose=0, mode='auto', baseline=None, restore_best_weights=False)\n"
   ]
  },
  {
   "cell_type": "code",
   "execution_count": 17,
   "metadata": {
    "colab": {},
    "colab_type": "code",
    "id": "ep8osdqUTZ_Z"
   },
   "outputs": [],
   "source": [
    "csv_logger = keras.callbacks.CSVLogger('training.log')\n"
   ]
  },
  {
   "cell_type": "code",
   "execution_count": 18,
   "metadata": {
    "colab": {
     "base_uri": "https://localhost:8080/",
     "height": 391
    },
    "colab_type": "code",
    "id": "mx6119KJ5ox_",
    "outputId": "cd9476c1-8beb-4f3d-fdf9-dfa764275da3"
   },
   "outputs": [
    {
     "name": "stdout",
     "output_type": "stream",
     "text": [
      "Model: \"sequential_1\"\n",
      "_________________________________________________________________\n",
      "Layer (type)                 Output Shape              Param #   \n",
      "=================================================================\n",
      "conv2d_1 (Conv2D)            (None, 224, 224, 64)      1792      \n",
      "_________________________________________________________________\n",
      "max_pooling2d_1 (MaxPooling2 (None, 112, 112, 64)      0         \n",
      "_________________________________________________________________\n",
      "conv2d_2 (Conv2D)            (None, 110, 110, 32)      18464     \n",
      "_________________________________________________________________\n",
      "max_pooling2d_2 (MaxPooling2 (None, 55, 55, 32)        0         \n",
      "_________________________________________________________________\n",
      "flatten_1 (Flatten)          (None, 96800)             0         \n",
      "_________________________________________________________________\n",
      "dense_1 (Dense)              (None, 32)                3097632   \n",
      "_________________________________________________________________\n",
      "dense_2 (Dense)              (None, 1)                 33        \n",
      "=================================================================\n",
      "Total params: 3,117,921\n",
      "Trainable params: 3,117,921\n",
      "Non-trainable params: 0\n",
      "_________________________________________________________________\n",
      "None\n"
     ]
    }
   ],
   "source": [
    "print(cnn.summary())"
   ]
  },
  {
   "cell_type": "code",
   "execution_count": 19,
   "metadata": {
    "colab": {
     "base_uri": "https://localhost:8080/",
     "height": 1000
    },
    "colab_type": "code",
    "id": "oFim3wbY73wv",
    "outputId": "5e4fa080-82f4-466d-af80-65965257f10d",
    "scrolled": true
   },
   "outputs": [
    {
     "name": "stderr",
     "output_type": "stream",
     "text": [
      "W1008 15:10:35.331103 4429833664 deprecation_wrapper.py:119] From /usr/local/lib/python3.7/site-packages/keras/backend/tensorflow_backend.py:422: The name tf.global_variables is deprecated. Please use tf.compat.v1.global_variables instead.\n",
      "\n"
     ]
    },
    {
     "name": "stdout",
     "output_type": "stream",
     "text": [
      "Train on 638 samples, validate on 160 samples\n",
      "Epoch 1/10\n",
      "638/638 [==============================] - 29s 45ms/step - loss: 0.6922 - acc: 0.5235 - val_loss: 0.6931 - val_acc: 0.5688\n",
      "Epoch 2/10\n",
      "638/638 [==============================] - 20s 31ms/step - loss: 0.6996 - acc: 0.4953 - val_loss: 0.6961 - val_acc: 0.4750\n",
      "Epoch 3/10\n",
      "638/638 [==============================] - 20s 31ms/step - loss: 0.6865 - acc: 0.5345 - val_loss: 0.6919 - val_acc: 0.5437\n",
      "Epoch 4/10\n",
      "638/638 [==============================] - 20s 31ms/step - loss: 0.6846 - acc: 0.5752 - val_loss: 0.7083 - val_acc: 0.4313\n",
      "Epoch 5/10\n",
      "638/638 [==============================] - 19s 30ms/step - loss: 0.6817 - acc: 0.5596 - val_loss: 0.6970 - val_acc: 0.4563\n",
      "Epoch 6/10\n",
      "638/638 [==============================] - 19s 30ms/step - loss: 0.6864 - acc: 0.5580 - val_loss: 0.6906 - val_acc: 0.5688\n",
      "Epoch 7/10\n",
      "638/638 [==============================] - 23s 35ms/step - loss: 0.6878 - acc: 0.5893 - val_loss: 0.7280 - val_acc: 0.4313\n",
      "Epoch 8/10\n",
      "638/638 [==============================] - 19s 29ms/step - loss: 0.6865 - acc: 0.5188 - val_loss: 0.7041 - val_acc: 0.4313\n",
      "Epoch 9/10\n",
      "638/638 [==============================] - 19s 30ms/step - loss: 0.6787 - acc: 0.5627 - val_loss: 0.7244 - val_acc: 0.4313\n",
      "Epoch 10/10\n",
      "638/638 [==============================] - 18s 29ms/step - loss: 0.6767 - acc: 0.5423 - val_loss: 0.6999 - val_acc: 0.4688\n"
     ]
    }
   ],
   "source": [
    "cnn1 = cnn.fit(X_train,\n",
    "               y_train,\n",
    "               epochs=10,\n",
    "               batch_size=200,\n",
    "               validation_data=(X_val, y_val),\n",
    "               callbacks=[csv_logger, early_stop, nan_problem, reduce_lr, saving_weights])"
   ]
  },
  {
   "cell_type": "code",
   "execution_count": 22,
   "metadata": {
    "colab": {
     "base_uri": "https://localhost:8080/",
     "height": 295
    },
    "colab_type": "code",
    "id": "fV2LHFpZ73wy",
    "outputId": "367181cc-eb10-4382-b7ff-c8b7a5673c88"
   },
   "outputs": [
    {
     "data": {
      "image/png": "[encoded data removed]",
      "text/plain": [
       "<Figure size 1080x288 with 2 Axes>"
      ]
     },
     "metadata": {
      "needs_background": "light"
     },
     "output_type": "display_data"
    }
   ],
   "source": [
    "hist_cnn = cnn1.history\n",
    "loss_values = hist_cnn['loss']\n",
    "val_loss_values = hist_cnn['val_loss']\n",
    "acc_values = hist_cnn['acc']\n",
    "val_acc_values = hist_cnn['val_acc']\n",
    "\n",
    "\n",
    "epochs = range(1, len(loss_values) + 1)\n",
    "\n",
    "plt.figure(figsize=(15, 4))\n",
    "plt.subplot(121)\n",
    "plt.plot(epochs, loss_values, 'g.', label='Training loss')\n",
    "plt.plot(epochs, val_loss_values, 'g', label='Validation loss')\n",
    "\n",
    "plt.title('Training and validation loss')\n",
    "plt.xlabel('Epochs')\n",
    "plt.ylabel('Loss')\n",
    "plt.legend()\n",
    "\n",
    "plt.subplot(122)\n",
    "plt.plot(epochs, acc_values, 'r.', label='Training acc')\n",
    "plt.plot(epochs, val_acc_values, 'r', label='Validation acc')\n",
    "plt.title('Training and validation accuracy')\n",
    "plt.xlabel('Epochs')\n",
    "plt.ylabel('Accuracy')\n",
    "plt.legend()\n",
    "plt.show()"
   ]
  },
  {
   "cell_type": "code",
   "execution_count": 23,
   "metadata": {
    "colab": {
     "base_uri": "https://localhost:8080/",
     "height": 68
    },
    "colab_type": "code",
    "id": "JAd1W7eg73w3",
    "outputId": "e62eb046-2f6f-4307-e511-aa2d599efcbe"
   },
   "outputs": [
    {
     "name": "stdout",
     "output_type": "stream",
     "text": [
      "638/638 [==============================] - 4s 6ms/step\n",
      "200/200 [==============================] - 2s 8ms/step\n",
      "[0.6697195486215215, 0.5799372792243958] [0.6828210735321045, 0.5550000071525574]\n"
     ]
    }
   ],
   "source": [
    "results_train = cnn.evaluate(X_train, y_train)\n",
    "results_test = cnn.evaluate(X_test, y_test)\n",
    "print(results_train, results_test)"
   ]
  },
  {
   "cell_type": "code",
   "execution_count": null,
   "metadata": {
    "colab": {},
    "colab_type": "code",
    "id": "zWuNQvErXERw"
   },
   "outputs": [],
   "source": [
    "# This should load a weight file in, but I can't seem to figure out how to make this work\n",
    "# cnn.load_weights(\"weights.20-0.75.hdf5\")"
   ]
  },
  {
   "cell_type": "code",
   "execution_count": null,
   "metadata": {
    "colab": {
     "base_uri": "https://localhost:8080/",
     "height": 51
    },
    "colab_type": "code",
    "id": "mhOR2cULXt0g",
    "outputId": "6b82ce88-95a3-40d6-be94-dc58f8d75126"
   },
   "outputs": [],
   "source": [
    "# cnn.evaluate(X_val, y_val)"
   ]
  },
  {
   "cell_type": "markdown",
   "metadata": {
    "colab_type": "text",
    "id": "b5_EvP8L3wOC"
   },
   "source": [
    "## Transfer Learning"
   ]
  },
  {
   "cell_type": "markdown",
   "metadata": {
    "colab_type": "text",
    "id": "faebp_jJQCcQ"
   },
   "source": [
    "### InceptionNet"
   ]
  },
  {
   "cell_type": "code",
   "execution_count": 24,
   "metadata": {
    "colab": {},
    "colab_type": "code",
    "id": "khtt-CRtQK6A"
   },
   "outputs": [],
   "source": [
    "from keras.applications import inception_v3\n",
    "from keras.layers import Dense,GlobalAveragePooling2D\n",
    "from sklearn.metrics import confusion_matrix, f1_score\n",
    "from keras.models import Model"
   ]
  },
  {
   "cell_type": "code",
   "execution_count": 25,
   "metadata": {
    "colab": {},
    "colab_type": "code",
    "id": "HQbTTZCc5XJr"
   },
   "outputs": [
    {
     "name": "stderr",
     "output_type": "stream",
     "text": [
      "W1008 15:29:01.243215 4429833664 deprecation_wrapper.py:119] From /usr/local/lib/python3.7/site-packages/keras/backend/tensorflow_backend.py:4074: The name tf.nn.avg_pool is deprecated. Please use tf.nn.avg_pool2d instead.\n",
      "\n"
     ]
    }
   ],
   "source": [
    "imagenet=inception_v3.InceptionV3(weights='imagenet',include_top=False)\n",
    "imagenet_new=imagenet.output\n",
    "new_model = models.Sequential()\n",
    "new_model.add(imagenet)\n",
    "new_model.add(GlobalAveragePooling2D())\n",
    "new_model.add(Dense(1024,activation='relu'))\n",
    "new_model.add(Dense(1024,activation='relu')) #dense layer 2\n",
    "new_model.add(Dense(512,activation='relu')) #dense layer 3\n",
    "new_model.add(Dense(1,activation='sigmoid')) #final layer with softmax activation"
   ]
  },
  {
   "cell_type": "code",
   "execution_count": 26,
   "metadata": {
    "colab": {
     "base_uri": "https://localhost:8080/",
     "height": 1000
    },
    "colab_type": "code",
    "id": "OM6d6ywG3qse",
    "outputId": "0a794b29-b664-4d39-d233-0f61bac4a385"
   },
   "outputs": [
    {
     "name": "stdout",
     "output_type": "stream",
     "text": [
      "0 input_1 False\n",
      "1 conv2d_3 True\n",
      "2 batch_normalization_1 True\n",
      "3 activation_1 True\n",
      "4 conv2d_4 True\n",
      "5 batch_normalization_2 True\n",
      "6 activation_2 True\n",
      "7 conv2d_5 True\n",
      "8 batch_normalization_3 True\n",
      "9 activation_3 True\n",
      "10 max_pooling2d_3 True\n",
      "11 conv2d_6 True\n",
      "12 batch_normalization_4 True\n",
      "13 activation_4 True\n",
      "14 conv2d_7 True\n",
      "15 batch_normalization_5 True\n",
      "16 activation_5 True\n",
      "17 max_pooling2d_4 True\n",
      "18 conv2d_11 True\n",
      "19 batch_normalization_9 True\n",
      "20 activation_9 True\n",
      "21 conv2d_9 True\n",
      "22 conv2d_12 True\n",
      "23 batch_normalization_7 True\n",
      "24 batch_normalization_10 True\n",
      "25 activation_7 True\n",
      "26 activation_10 True\n",
      "27 average_pooling2d_1 True\n",
      "28 conv2d_8 True\n",
      "29 conv2d_10 True\n",
      "30 conv2d_13 True\n",
      "31 conv2d_14 True\n",
      "32 batch_normalization_6 True\n",
      "33 batch_normalization_8 True\n",
      "34 batch_normalization_11 True\n",
      "35 batch_normalization_12 True\n",
      "36 activation_6 True\n",
      "37 activation_8 True\n",
      "38 activation_11 True\n",
      "39 activation_12 True\n",
      "40 mixed0 True\n",
      "41 conv2d_18 True\n",
      "42 batch_normalization_16 True\n",
      "43 activation_16 True\n",
      "44 conv2d_16 True\n",
      "45 conv2d_19 True\n",
      "46 batch_normalization_14 True\n",
      "47 batch_normalization_17 True\n",
      "48 activation_14 True\n",
      "49 activation_17 True\n",
      "50 average_pooling2d_2 True\n",
      "51 conv2d_15 True\n",
      "52 conv2d_17 True\n",
      "53 conv2d_20 True\n",
      "54 conv2d_21 True\n",
      "55 batch_normalization_13 True\n",
      "56 batch_normalization_15 True\n",
      "57 batch_normalization_18 True\n",
      "58 batch_normalization_19 True\n",
      "59 activation_13 True\n",
      "60 activation_15 True\n",
      "61 activation_18 True\n",
      "62 activation_19 True\n",
      "63 mixed1 True\n",
      "64 conv2d_25 True\n",
      "65 batch_normalization_23 True\n",
      "66 activation_23 True\n",
      "67 conv2d_23 True\n",
      "68 conv2d_26 True\n",
      "69 batch_normalization_21 True\n",
      "70 batch_normalization_24 True\n",
      "71 activation_21 True\n",
      "72 activation_24 True\n",
      "73 average_pooling2d_3 True\n",
      "74 conv2d_22 True\n",
      "75 conv2d_24 True\n",
      "76 conv2d_27 True\n",
      "77 conv2d_28 True\n",
      "78 batch_normalization_20 True\n",
      "79 batch_normalization_22 True\n",
      "80 batch_normalization_25 True\n",
      "81 batch_normalization_26 True\n",
      "82 activation_20 True\n",
      "83 activation_22 True\n",
      "84 activation_25 True\n",
      "85 activation_26 True\n",
      "86 mixed2 True\n",
      "87 conv2d_30 True\n",
      "88 batch_normalization_28 True\n",
      "89 activation_28 True\n",
      "90 conv2d_31 True\n",
      "91 batch_normalization_29 True\n",
      "92 activation_29 True\n",
      "93 conv2d_29 True\n",
      "94 conv2d_32 True\n",
      "95 batch_normalization_27 True\n",
      "96 batch_normalization_30 True\n",
      "97 activation_27 True\n",
      "98 activation_30 True\n",
      "99 max_pooling2d_5 True\n",
      "100 mixed3 True\n",
      "101 conv2d_37 True\n",
      "102 batch_normalization_35 True\n",
      "103 activation_35 True\n",
      "104 conv2d_38 True\n",
      "105 batch_normalization_36 True\n",
      "106 activation_36 True\n",
      "107 conv2d_34 True\n",
      "108 conv2d_39 True\n",
      "109 batch_normalization_32 True\n",
      "110 batch_normalization_37 True\n",
      "111 activation_32 True\n",
      "112 activation_37 True\n",
      "113 conv2d_35 True\n",
      "114 conv2d_40 True\n",
      "115 batch_normalization_33 True\n",
      "116 batch_normalization_38 True\n",
      "117 activation_33 True\n",
      "118 activation_38 True\n",
      "119 average_pooling2d_4 True\n",
      "120 conv2d_33 True\n",
      "121 conv2d_36 True\n",
      "122 conv2d_41 True\n",
      "123 conv2d_42 True\n",
      "124 batch_normalization_31 True\n",
      "125 batch_normalization_34 True\n",
      "126 batch_normalization_39 True\n",
      "127 batch_normalization_40 True\n",
      "128 activation_31 True\n",
      "129 activation_34 True\n",
      "130 activation_39 True\n",
      "131 activation_40 True\n",
      "132 mixed4 True\n",
      "133 conv2d_47 True\n",
      "134 batch_normalization_45 True\n",
      "135 activation_45 True\n",
      "136 conv2d_48 True\n",
      "137 batch_normalization_46 True\n",
      "138 activation_46 True\n",
      "139 conv2d_44 True\n",
      "140 conv2d_49 True\n",
      "141 batch_normalization_42 True\n",
      "142 batch_normalization_47 True\n",
      "143 activation_42 True\n",
      "144 activation_47 True\n",
      "145 conv2d_45 True\n",
      "146 conv2d_50 True\n",
      "147 batch_normalization_43 True\n",
      "148 batch_normalization_48 True\n",
      "149 activation_43 True\n",
      "150 activation_48 True\n",
      "151 average_pooling2d_5 True\n",
      "152 conv2d_43 True\n",
      "153 conv2d_46 True\n",
      "154 conv2d_51 True\n",
      "155 conv2d_52 True\n",
      "156 batch_normalization_41 True\n",
      "157 batch_normalization_44 True\n",
      "158 batch_normalization_49 True\n",
      "159 batch_normalization_50 True\n",
      "160 activation_41 True\n",
      "161 activation_44 True\n",
      "162 activation_49 True\n",
      "163 activation_50 True\n",
      "164 mixed5 True\n",
      "165 conv2d_57 True\n",
      "166 batch_normalization_55 True\n",
      "167 activation_55 True\n",
      "168 conv2d_58 True\n",
      "169 batch_normalization_56 True\n",
      "170 activation_56 True\n",
      "171 conv2d_54 True\n",
      "172 conv2d_59 True\n",
      "173 batch_normalization_52 True\n",
      "174 batch_normalization_57 True\n",
      "175 activation_52 True\n",
      "176 activation_57 True\n",
      "177 conv2d_55 True\n",
      "178 conv2d_60 True\n",
      "179 batch_normalization_53 True\n",
      "180 batch_normalization_58 True\n",
      "181 activation_53 True\n",
      "182 activation_58 True\n",
      "183 average_pooling2d_6 True\n",
      "184 conv2d_53 True\n",
      "185 conv2d_56 True\n",
      "186 conv2d_61 True\n",
      "187 conv2d_62 True\n",
      "188 batch_normalization_51 True\n",
      "189 batch_normalization_54 True\n",
      "190 batch_normalization_59 True\n",
      "191 batch_normalization_60 True\n",
      "192 activation_51 True\n",
      "193 activation_54 True\n",
      "194 activation_59 True\n",
      "195 activation_60 True\n",
      "196 mixed6 True\n",
      "197 conv2d_67 True\n",
      "198 batch_normalization_65 True\n",
      "199 activation_65 True\n",
      "200 conv2d_68 True\n",
      "201 batch_normalization_66 True\n",
      "202 activation_66 True\n",
      "203 conv2d_64 True\n",
      "204 conv2d_69 True\n",
      "205 batch_normalization_62 True\n",
      "206 batch_normalization_67 True\n",
      "207 activation_62 True\n",
      "208 activation_67 True\n",
      "209 conv2d_65 True\n",
      "210 conv2d_70 True\n",
      "211 batch_normalization_63 True\n",
      "212 batch_normalization_68 True\n",
      "213 activation_63 True\n",
      "214 activation_68 True\n",
      "215 average_pooling2d_7 True\n",
      "216 conv2d_63 True\n",
      "217 conv2d_66 True\n",
      "218 conv2d_71 True\n",
      "219 conv2d_72 True\n",
      "220 batch_normalization_61 True\n",
      "221 batch_normalization_64 True\n",
      "222 batch_normalization_69 True\n",
      "223 batch_normalization_70 True\n",
      "224 activation_61 True\n",
      "225 activation_64 True\n",
      "226 activation_69 True\n",
      "227 activation_70 True\n",
      "228 mixed7 True\n",
      "229 conv2d_75 True\n",
      "230 batch_normalization_73 True\n",
      "231 activation_73 True\n",
      "232 conv2d_76 True\n",
      "233 batch_normalization_74 True\n",
      "234 activation_74 True\n",
      "235 conv2d_73 True\n",
      "236 conv2d_77 True\n",
      "237 batch_normalization_71 True\n",
      "238 batch_normalization_75 True\n",
      "239 activation_71 True\n",
      "240 activation_75 True\n",
      "241 conv2d_74 True\n",
      "242 conv2d_78 True\n",
      "243 batch_normalization_72 True\n",
      "244 batch_normalization_76 True\n",
      "245 activation_72 True\n",
      "246 activation_76 True\n",
      "247 max_pooling2d_6 True\n",
      "248 mixed8 True\n",
      "249 conv2d_83 True\n",
      "250 batch_normalization_81 True\n",
      "251 activation_81 True\n",
      "252 conv2d_80 True\n",
      "253 conv2d_84 True\n",
      "254 batch_normalization_78 True\n",
      "255 batch_normalization_82 True\n",
      "256 activation_78 True\n",
      "257 activation_82 True\n",
      "258 conv2d_81 True\n",
      "259 conv2d_82 True\n",
      "260 conv2d_85 True\n",
      "261 conv2d_86 True\n",
      "262 average_pooling2d_8 True\n",
      "263 conv2d_79 True\n",
      "264 batch_normalization_79 True\n",
      "265 batch_normalization_80 True\n",
      "266 batch_normalization_83 True\n",
      "267 batch_normalization_84 True\n",
      "268 conv2d_87 True\n",
      "269 batch_normalization_77 True\n",
      "270 activation_79 True\n",
      "271 activation_80 True\n",
      "272 activation_83 True\n",
      "273 activation_84 True\n",
      "274 batch_normalization_85 True\n",
      "275 activation_77 True\n",
      "276 mixed9_0 True\n",
      "277 concatenate_1 True\n",
      "278 activation_85 True\n",
      "279 mixed9 True\n",
      "280 conv2d_92 True\n",
      "281 batch_normalization_90 True\n",
      "282 activation_90 True\n",
      "283 conv2d_89 True\n",
      "284 conv2d_93 True\n",
      "285 batch_normalization_87 True\n",
      "286 batch_normalization_91 True\n",
      "287 activation_87 True\n",
      "288 activation_91 True\n",
      "289 conv2d_90 True\n",
      "290 conv2d_91 True\n",
      "291 conv2d_94 True\n",
      "292 conv2d_95 True\n",
      "293 average_pooling2d_9 True\n",
      "294 conv2d_88 True\n",
      "295 batch_normalization_88 True\n",
      "296 batch_normalization_89 True\n",
      "297 batch_normalization_92 True\n",
      "298 batch_normalization_93 True\n",
      "299 conv2d_96 True\n",
      "300 batch_normalization_86 True\n",
      "301 activation_88 True\n",
      "302 activation_89 True\n",
      "303 activation_92 True\n",
      "304 activation_93 True\n",
      "305 batch_normalization_94 True\n",
      "306 activation_86 True\n",
      "307 mixed9_1 True\n",
      "308 concatenate_2 True\n",
      "309 activation_94 True\n",
      "310 mixed10 True\n"
     ]
    }
   ],
   "source": [
    "for i, layer in enumerate(imagenet.layers):\n",
    "    print(i, layer.name, layer.trainable)"
   ]
  },
  {
   "cell_type": "code",
   "execution_count": 27,
   "metadata": {
    "colab": {
     "base_uri": "https://localhost:8080/",
     "height": 119
    },
    "colab_type": "code",
    "id": "8pDfw1J7_e9W",
    "outputId": "3245e403-579d-45cf-e556-18c11c24752d"
   },
   "outputs": [
    {
     "name": "stdout",
     "output_type": "stream",
     "text": [
      "0 inception_v3 True\n",
      "1 global_average_pooling2d_1 True\n",
      "2 dense_3 True\n",
      "3 dense_4 True\n",
      "4 dense_5 True\n",
      "5 dense_6 True\n"
     ]
    }
   ],
   "source": [
    "for i,layer in enumerate(new_model.layers):\n",
    "    print(i,layer.name, layer.trainable)"
   ]
  },
  {
   "cell_type": "code",
   "execution_count": 28,
   "metadata": {
    "colab": {},
    "colab_type": "code",
    "id": "juyAVvVC_3YQ"
   },
   "outputs": [],
   "source": [
    "for layer in new_model.layers[:1]:\n",
    "    layer.trainable=False"
   ]
  },
  {
   "cell_type": "code",
   "execution_count": 29,
   "metadata": {
    "colab": {
     "base_uri": "https://localhost:8080/",
     "height": 119
    },
    "colab_type": "code",
    "id": "ACKbZrP6ACao",
    "outputId": "40907635-5b18-41a8-b8af-6ea84d7051cc"
   },
   "outputs": [
    {
     "name": "stdout",
     "output_type": "stream",
     "text": [
      "0 inception_v3 False\n",
      "1 global_average_pooling2d_1 True\n",
      "2 dense_3 True\n",
      "3 dense_4 True\n",
      "4 dense_5 True\n",
      "5 dense_6 True\n"
     ]
    }
   ],
   "source": [
    "for i,layer in enumerate(new_model.layers):\n",
    "    print(i,layer.name, layer.trainable)"
   ]
  },
  {
   "cell_type": "code",
   "execution_count": 30,
   "metadata": {
    "colab": {
     "base_uri": "https://localhost:8080/",
     "height": 391
    },
    "colab_type": "code",
    "id": "e2TFnnh3AKm9",
    "outputId": "a6bae237-a437-4cf8-9453-73f965fafd89"
   },
   "outputs": [
    {
     "name": "stdout",
     "output_type": "stream",
     "text": [
      "Train on 638 samples, validate on 160 samples\n",
      "Epoch 1/10\n",
      "638/638 [==============================] - 28s 44ms/step - loss: 0.8023 - accuracy: 0.6050 - val_loss: 0.2989 - val_accuracy: 0.8813\n",
      "Epoch 2/10\n",
      "638/638 [==============================] - 27s 42ms/step - loss: 0.4738 - accuracy: 0.7759 - val_loss: 1.7326 - val_accuracy: 0.5688\n",
      "Epoch 3/10\n",
      "638/638 [==============================] - 28s 43ms/step - loss: 0.3531 - accuracy: 0.8464 - val_loss: 0.5540 - val_accuracy: 0.8250\n",
      "Epoch 4/10\n",
      "638/638 [==============================] - 30s 47ms/step - loss: 0.3633 - accuracy: 0.8464 - val_loss: 0.3004 - val_accuracy: 0.8750\n",
      "Epoch 5/10\n",
      "638/638 [==============================] - 32s 50ms/step - loss: 0.3643 - accuracy: 0.8292 - val_loss: 0.3747 - val_accuracy: 0.8500\n",
      "Epoch 6/10\n",
      "638/638 [==============================] - 29s 46ms/step - loss: 0.2360 - accuracy: 0.9028 - val_loss: 0.8310 - val_accuracy: 0.8188\n",
      "Epoch 7/10\n",
      "638/638 [==============================] - 25s 40ms/step - loss: 0.1848 - accuracy: 0.9232 - val_loss: 0.6992 - val_accuracy: 0.8375\n",
      "Epoch 8/10\n",
      "638/638 [==============================] - 25s 40ms/step - loss: 0.1541 - accuracy: 0.9514 - val_loss: 0.8643 - val_accuracy: 0.8250\n",
      "Epoch 9/10\n",
      "638/638 [==============================] - 25s 40ms/step - loss: 0.1810 - accuracy: 0.9404 - val_loss: 0.7824 - val_accuracy: 0.8313\n",
      "Epoch 10/10\n",
      "638/638 [==============================] - 26s 40ms/step - loss: 0.1317 - accuracy: 0.9545 - val_loss: 0.5904 - val_accuracy: 0.8625\n"
     ]
    },
    {
     "data": {
      "text/plain": [
       "<keras.callbacks.callbacks.History at 0x1cc59e090>"
      ]
     },
     "execution_count": 30,
     "metadata": {},
     "output_type": "execute_result"
    }
   ],
   "source": [
    "new_model.compile(optimizer='Adam',\n",
    "                  loss='binary_crossentropy', metrics=['accuracy'])\n",
    "\n",
    "# step_size_train=train_generator.n//train_generator.batch_size\n",
    "new_model.fit(X_train,\n",
    "              y_train,\n",
    "              epochs=10,\n",
    "              batch_size=50,\n",
    "              validation_data=(X_val, y_val))"
   ]
  },
  {
   "cell_type": "code",
   "execution_count": 31,
   "metadata": {
    "colab": {
     "base_uri": "https://localhost:8080/",
     "height": 51
    },
    "colab_type": "code",
    "id": "T_C-Byd5BJ5w",
    "outputId": "4a49ef61-54c6-4476-d84d-fcb2ab6c8366"
   },
   "outputs": [
    {
     "name": "stdout",
     "output_type": "stream",
     "text": [
      "200/200 [==============================] - 7s 36ms/step\n"
     ]
    },
    {
     "data": {
      "text/plain": [
       "[0.6236589443683624, 0.8849999904632568]"
      ]
     },
     "execution_count": 31,
     "metadata": {},
     "output_type": "execute_result"
    }
   ],
   "source": [
    "new_model.evaluate(X_test, y_test)"
   ]
  },
  {
   "cell_type": "code",
   "execution_count": 32,
   "metadata": {
    "colab": {},
    "colab_type": "code",
    "id": "RSSImG_1BtIP"
   },
   "outputs": [],
   "source": [
    "predictions_transfer = new_model.predict(X_test)\n",
    "predictions_transfer = np.around(predictions_transfer)"
   ]
  },
  {
   "cell_type": "code",
   "execution_count": null,
   "metadata": {
    "colab": {
     "base_uri": "https://localhost:8080/",
     "height": 34
    },
    "colab_type": "code",
    "id": "e1Y387LFBhGm",
    "outputId": "b0a844f5-918e-4a42-c67c-597c4ec89045"
   },
   "outputs": [],
   "source": [
    "f1_score(y_test, predictions_transfer)"
   ]
  },
  {
   "cell_type": "code",
   "execution_count": null,
   "metadata": {
    "colab": {},
    "colab_type": "code",
    "id": "W7gLauC_CQcL"
   },
   "outputs": [],
   "source": [
    "import itertools\n",
    "\n",
    "def plot_confusion_matrix(cm, classes,\n",
    "                          normalize=False,\n",
    "                          title='Confusion matrix',\n",
    "                          cmap=plt.cm.Blues):\n",
    "    \"\"\"\n",
    "    This function prints and plots the confusion matrix.\n",
    "    Normalization can be applied by setting `normalize=True`.\n",
    "    \"\"\"\n",
    "    if normalize:\n",
    "        cm = cm.astype('float') / cm.sum(axis=1)[:, np.newaxis]\n",
    "        print(\"Normalized confusion matrix\")\n",
    "    else:\n",
    "        print('Confusion matrix, without normalization')\n",
    "\n",
    "    print(cm)\n",
    "\n",
    "    plt.imshow(cm, interpolation='nearest', cmap=cmap)\n",
    "    plt.title(title)\n",
    "    plt.colorbar()\n",
    "    tick_marks = np.arange(len(classes))\n",
    "    plt.xticks(tick_marks, classes, rotation=45)\n",
    "    plt.yticks(tick_marks, classes)\n",
    "\n",
    "    fmt = '.2f' if normalize else 'd'\n",
    "    thresh = cm.max() / 2.\n",
    "    for i, j in itertools.product(range(cm.shape[0]), range(cm.shape[1])):\n",
    "        plt.text(j, i, format(cm[i, j], fmt),\n",
    "                 horizontalalignment=\"center\",\n",
    "                 color=\"white\" if cm[i, j] > thresh else \"black\")\n",
    "\n",
    "    plt.ylabel('True label')\n",
    "    plt.xlabel('Predicted label')\n",
    "    plt.tight_layout()"
   ]
  },
  {
   "cell_type": "code",
   "execution_count": null,
   "metadata": {
    "colab": {
     "base_uri": "https://localhost:8080/",
     "height": 348
    },
    "colab_type": "code",
    "id": "66ZssBELZRzX",
    "outputId": "a05de45e-c80b-46a7-ddb8-e53235441b25"
   },
   "outputs": [],
   "source": [
    "plt.figure()\n",
    "plot_confusion_matrix(confusion_matrix(y_test, predictions_transfer), classes=['hot dog', 'not hot dog'], normalize=False,\n",
    "                      title='Confusion matrix - ImagenetV3')"
   ]
  },
  {
   "cell_type": "code",
   "execution_count": null,
   "metadata": {
    "colab": {},
    "colab_type": "code",
    "id": "1slHFBe13-Ab"
   },
   "outputs": [],
   "source": [
    "def predictoneimage_cnn(model, path):\n",
    "    img = load_img(path, target_size=(224, 224))\n",
    "    plt.imshow(img)\n",
    "    img = img_to_array(img)\n",
    "    img = img/255\n",
    "    img = np.expand_dims(img, axis=0)\n",
    "    predict = model.predict(img)\n",
    "    return predict"
   ]
  },
  {
   "cell_type": "code",
   "execution_count": null,
   "metadata": {
    "colab": {
     "base_uri": "https://localhost:8080/",
     "height": 286
    },
    "colab_type": "code",
    "id": "CbhMvzw87sW7",
    "outputId": "0d05bb11-92ae-47cd-d41e-302ce1d561d4",
    "scrolled": true
   },
   "outputs": [],
   "source": [
    "predictoneimage_cnn(new_model, '/content/hot-dog-not-hot-dog/test/not_hot_dog/13719.jpg')"
   ]
  },
  {
   "cell_type": "markdown",
   "metadata": {},
   "source": [
    "##### Resources"
   ]
  },
  {
   "cell_type": "markdown",
   "metadata": {},
   "source": [
    "https://skymind.ai/wiki/convolutional-network\n",
    "\n",
    "https://cs231n.github.io/convolutional-networks/\n",
    "\n"
   ]
  }
 ],
 "metadata": {
  "kernelspec": {
   "display_name": "Python 3",
   "language": "python",
   "name": "python3"
  },
  "language_info": {
   "codemirror_mode": {
    "name": "ipython",
    "version": 3
   },
   "file_extension": ".py",
   "mimetype": "text/x-python",
   "name": "python",
   "nbconvert_exporter": "python",
   "pygments_lexer": "ipython3",
   "version": "3.7.4"
  }
 },
 "nbformat": 4,
 "nbformat_minor": 2
}
