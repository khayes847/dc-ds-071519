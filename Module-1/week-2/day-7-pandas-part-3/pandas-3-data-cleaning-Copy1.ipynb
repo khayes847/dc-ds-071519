{
 "cells": [
  {
   "cell_type": "markdown",
   "metadata": {},
   "source": [
    "# Data Cleaning with Pandas"
   ]
  },
  {
   "cell_type": "markdown",
   "metadata": {},
   "source": [
    "## Scenario\n",
    "\n",
    "As data scientists, we want to build a model to predict the sale price of a house in Seattle in 2019, based on its square footage. We know that the King County Department of Assessments has comprehensive data available on real property sales in the Seattle area. We need to prepare the data."
   ]
  },
  {
   "cell_type": "code",
   "execution_count": 2,
   "metadata": {},
   "outputs": [],
   "source": [
    "import pandas as pd"
   ]
  },
  {
   "cell_type": "markdown",
   "metadata": {},
   "source": [
    "### Learning Goals:\n",
    "\n",
    "- practice cleaning a real dataset\n",
    "- practice using `py` files and the terminal in conjunction with jupyter notebooks\n",
    "- run a `py` script through the terminal"
   ]
  },
  {
   "cell_type": "markdown",
   "metadata": {},
   "source": [
    "### First, get the data!\n",
    "\n",
    "When working on a project involving data that can fit on our computer, we store it in a `data` directory.\n",
    "\n",
    "```bash\n",
    "cd <project_directory>  # example: cd ~/flatiron_ds/pandas-3\n",
    "mkdir data\n",
    "cd data\n",
    "```\n",
    "\n",
    "Note that `<project_directory>` in angle brackets is a _placeholder_. You should type the path to the actual location on your computer where you're working on this project. Do not literally type `<project_directory>` and _do not type the angle brackets_. You can see an example in the _comment_ to the right of the command above."
   ]
  },
  {
   "cell_type": "markdown",
   "metadata": {},
   "source": [
    "![terminal](https://media3.giphy.com/media/yR4xZagT71AAM/giphy.gif?cid=790b76115d3620444553533759086a54&rid=giphy.gif)\n",
    "\n",
    "Now, we'll need to download the two data files that we need. We can do this at the command line:\n",
    "\n",
    "```bash\n",
    "wget https://aqua.kingcounty.gov/extranet/assessor/Real%20Property%20Sales.zip\n",
    "wget https://aqua.kingcounty.gov/extranet/assessor/Residential%20Building.zip\n",
    "```\n",
    "\n",
    "*Note:* If you do not have the `wget` command yet, you can install it with `brew install wget`, or use `curl <url> -o <filename>`.\n",
    "\n",
    "Note that `%20` in a URL translates into a space. Even though you will *never put spaces in filenames*, you may need to deal with spaces that _other_ people have used in filenames.\n",
    "\n",
    "There are two ways to handle the spaces in these filenames when referencing them at the command line.\n",
    "\n",
    "\n",
    "![internetgif](https://media2.giphy.com/media/QWkuGmMgphvmE/giphy.gif?cid=790b76115d361f42304a6850369f37ea&rid=giphy.gif)"
   ]
  },
  {
   "cell_type": "code",
   "execution_count": null,
   "metadata": {},
   "outputs": [],
   "source": [
    "# curl (entire file name) -o (what we'll call the file)"
   ]
  },
  {
   "cell_type": "markdown",
   "metadata": {},
   "source": [
    "#### 1. You can _escape_ the spaces by putting a backslash (`\\`, remember _backslash is next to backspace_) before each one:\n",
    "\n",
    "`unzip Real\\ Property\\ Sales.zip`\n",
    "\n",
    "This is what happens if you tab-complete the filename in the terminal. Tab completion is your friend!"
   ]
  },
  {
   "cell_type": "markdown",
   "metadata": {},
   "source": [
    "#### 2. You can put the entire filename in quotes:\n",
    "\n",
    "`unzip \"Real Property Sales.zip\"`\n",
    "\n",
    "Try unzipping these files with the `unzip` command. The `unzip` command takes one argument, the name of the file that you want to unzip."
   ]
  },
  {
   "cell_type": "code",
   "execution_count": 3,
   "metadata": {
    "scrolled": true
   },
   "outputs": [
    {
     "name": "stderr",
     "output_type": "stream",
     "text": [
      "C:\\Users\\Rocio\\Anaconda3\\lib\\site-packages\\IPython\\core\\interactiveshell.py:3049: DtypeWarning: Columns (1,2) have mixed types. Specify dtype option on import or set low_memory=False.\n",
      "  interactivity=interactivity, compiler=compiler, result=result)\n"
     ]
    }
   ],
   "source": [
    "sales_df = pd.read_csv('data/EXTR_RPSale.csv')"
   ]
  },
  {
   "cell_type": "code",
   "execution_count": 3,
   "metadata": {},
   "outputs": [
    {
     "name": "stderr",
     "output_type": "stream",
     "text": [
      "C:\\Users\\Rocio\\Anaconda3\\lib\\site-packages\\IPython\\core\\interactiveshell.py:3049: DtypeWarning: Columns (11) have mixed types. Specify dtype option on import or set low_memory=False.\n",
      "  interactivity=interactivity, compiler=compiler, result=result)\n"
     ]
    }
   ],
   "source": [
    "bldg_df = pd.read_csv('data/EXTR_ResBldg.csv')"
   ]
  },
  {
   "cell_type": "markdown",
   "metadata": {},
   "source": [
    "### Seeing pink? Warnings are useful!\n",
    "\n",
    "Note the warning above: `DtypeWarning: Columns (1, 2) have mixed types.` Because we start with an index of zero, the columns that we're being warned about are actually the _second_ and _third_ columns, `sales_df['Major']` and `sales_df['Minor']`."
   ]
  },
  {
   "cell_type": "code",
   "execution_count": 6,
   "metadata": {},
   "outputs": [
    {
     "name": "stdout",
     "output_type": "stream",
     "text": [
      "<class 'pandas.core.frame.DataFrame'>\n",
      "RangeIndex: 2035819 entries, 0 to 2035818\n",
      "Data columns (total 24 columns):\n",
      "ExciseTaxNbr          int64\n",
      "Major                 object\n",
      "Minor                 object\n",
      "DocumentDate          object\n",
      "SalePrice             int64\n",
      "RecordingNbr          object\n",
      "Volume                object\n",
      "Page                  object\n",
      "PlatNbr               object\n",
      "PlatType              object\n",
      "PlatLot               object\n",
      "PlatBlock             object\n",
      "SellerName            object\n",
      "BuyerName             object\n",
      "PropertyType          int64\n",
      "PrincipalUse          int64\n",
      "SaleInstrument        int64\n",
      "AFForestLand          object\n",
      "AFCurrentUseLand      object\n",
      "AFNonProfitUse        object\n",
      "AFHistoricProperty    object\n",
      "SaleReason            int64\n",
      "PropertyClass         int64\n",
      "SaleWarning           object\n",
      "dtypes: int64(7), object(17)\n",
      "memory usage: 372.8+ MB\n"
     ]
    }
   ],
   "source": [
    "sales_df.info()"
   ]
  },
  {
   "cell_type": "markdown",
   "metadata": {},
   "source": [
    "### Data overload?\n",
    "\n",
    "That's a lot of columns. We're only interested in identifying the date, sale price, and square footage of each specific property. What can we do?"
   ]
  },
  {
   "cell_type": "code",
   "execution_count": 14,
   "metadata": {},
   "outputs": [],
   "source": [
    "sales_df = sales_df[['Major', 'Minor', 'DocumentDate', 'SalePrice']]\n",
    "#order you call these is the order in which they will appear"
   ]
  },
  {
   "cell_type": "code",
   "execution_count": 26,
   "metadata": {},
   "outputs": [
    {
     "name": "stdout",
     "output_type": "stream",
     "text": [
      "<class 'pandas.core.frame.DataFrame'>\n",
      "RangeIndex: 2035819 entries, 0 to 2035818\n",
      "Data columns (total 4 columns):\n",
      "Major           object\n",
      "Minor           object\n",
      "DocumentDate    object\n",
      "SalePrice       int64\n",
      "dtypes: int64(1), object(3)\n",
      "memory usage: 62.1+ MB\n"
     ]
    }
   ],
   "source": [
    "sales_df.info()"
   ]
  },
  {
   "cell_type": "code",
   "execution_count": null,
   "metadata": {
    "scrolled": true
   },
   "outputs": [],
   "source": [
    "bldg_df = pd.read_csv('data/Residential Building.zip')"
   ]
  },
  {
   "cell_type": "markdown",
   "metadata": {},
   "source": [
    "### Another warning! Which column has index 11?"
   ]
  },
  {
   "cell_type": "code",
   "execution_count": 16,
   "metadata": {},
   "outputs": [
    {
     "data": {
      "text/plain": [
       "'PlatBlock'"
      ]
     },
     "execution_count": 16,
     "metadata": {},
     "output_type": "execute_result"
    }
   ],
   "source": [
    "bldg_df.columns[11]"
   ]
  },
  {
   "cell_type": "markdown",
   "metadata": {},
   "source": [
    "`ZipCode` seems like a potentially useful column. We'll need it to determine which house sales took place in Seattle."
   ]
  },
  {
   "cell_type": "code",
   "execution_count": 28,
   "metadata": {
    "scrolled": true
   },
   "outputs": [
    {
     "data": {
      "text/plain": [
       "Index(['Major', 'Minor', 'BldgNbr', 'NbrLivingUnits', 'Address',\n",
       "       'BuildingNumber', 'Fraction', 'DirectionPrefix', 'StreetName',\n",
       "       'StreetType', 'DirectionSuffix', 'ZipCode', 'Stories', 'BldgGrade',\n",
       "       'BldgGradeVar', 'SqFt1stFloor', 'SqFtHalfFloor', 'SqFt2ndFloor',\n",
       "       'SqFtUpperFloor', 'SqFtUnfinFull', 'SqFtUnfinHalf', 'SqFtTotLiving',\n",
       "       'SqFtTotBasement', 'SqFtFinBasement', 'FinBasementGrade',\n",
       "       'SqFtGarageBasement', 'SqFtGarageAttached', 'DaylightBasement',\n",
       "       'SqFtOpenPorch', 'SqFtEnclosedPorch', 'SqFtDeck', 'HeatSystem',\n",
       "       'HeatSource', 'BrickStone', 'ViewUtilization', 'Bedrooms',\n",
       "       'BathHalfCount', 'Bath3qtrCount', 'BathFullCount', 'FpSingleStory',\n",
       "       'FpMultiStory', 'FpFreestanding', 'FpAdditional', 'YrBuilt',\n",
       "       'YrRenovated', 'PcntComplete', 'Obsolescence', 'PcntNetCondition',\n",
       "       'Condition', 'AddnlCost'],\n",
       "      dtype='object')"
      ]
     },
     "execution_count": 28,
     "metadata": {},
     "output_type": "execute_result"
    }
   ],
   "source": [
    "bldg_df.columns"
   ]
  },
  {
   "cell_type": "markdown",
   "metadata": {},
   "source": [
    "### So many features!\n",
    "\n",
    "As data scientists, we should be _very_ cautious about discarding potentially useful data. But, today, we're interested in _only_ the total square footage of each property. What can we do?\n"
   ]
  },
  {
   "cell_type": "code",
   "execution_count": 15,
   "metadata": {},
   "outputs": [],
   "source": [
    "bldg_df = bldg_df[['Major', 'Minor', 'SqFtTotLiving', 'ZipCode']]"
   ]
  },
  {
   "cell_type": "code",
   "execution_count": 30,
   "metadata": {
    "scrolled": true
   },
   "outputs": [
    {
     "name": "stdout",
     "output_type": "stream",
     "text": [
      "<class 'pandas.core.frame.DataFrame'>\n",
      "RangeIndex: 512827 entries, 0 to 512826\n",
      "Data columns (total 4 columns):\n",
      "Major            512827 non-null int64\n",
      "Minor            512827 non-null int64\n",
      "SqFtTotLiving    512827 non-null int64\n",
      "ZipCode          468452 non-null object\n",
      "dtypes: int64(3), object(1)\n",
      "memory usage: 15.7+ MB\n"
     ]
    }
   ],
   "source": [
    "bldg_df.info()"
   ]
  },
  {
   "cell_type": "code",
   "execution_count": 31,
   "metadata": {},
   "outputs": [],
   "source": [
    "sales_data = pd.merge(sales_df, bldg_df, on=['Major', 'Minor'])"
   ]
  },
  {
   "cell_type": "markdown",
   "metadata": {},
   "source": [
    "### Error!\n",
    "\n",
    "Why are we seeing an error when we try to join the dataframes?\n",
    "\n",
    "<table>\n",
    "    <tr>\n",
    "        <td style=\"text-align:left\"><pre>\n",
    "<class 'pandas.core.frame.DataFrame'>\n",
    "RangeIndex: 2013160 entries, 0 to 2013159\n",
    "Data columns (total 4 columns):\n",
    "Major           object\n",
    "Minor           object\n",
    "DocumentDate    object\n",
    "SalePrice       int64\n",
    "dtypes: int64(1), object(3)\n",
    "memory usage: 61.4+ MB</pre></td>\n",
    "        <td style=\"text-align:left\"><pre>\n",
    "<class 'pandas.core.frame.DataFrame'>\n",
    "RangeIndex: 511359 entries, 0 to 511358\n",
    "Data columns (total 4 columns):\n",
    "Major            511359 non-null int64\n",
    "Minor            511359 non-null int64\n",
    "SqFtTotLiving    511359 non-null int64\n",
    "ZipCode          468345 non-null object\n",
    "dtypes: int64(3), object(1)\n",
    "memory usage: 15.6+ MB\n",
    "</pre></td>\n",
    "    </tr>\n",
    "</table>\n",
    "\n",
    "Review the error message in light of the above:\n",
    "\n",
    "* `ValueError: You are trying to merge on object and int64 columns.`"
   ]
  },
  {
   "cell_type": "code",
   "execution_count": 32,
   "metadata": {},
   "outputs": [
    {
     "ename": "ValueError",
     "evalue": "Unable to parse string \"      \" at position 940671",
     "output_type": "error",
     "traceback": [
      "\u001b[1;31m---------------------------------------------------------------------------\u001b[0m",
      "\u001b[1;31mValueError\u001b[0m                                Traceback (most recent call last)",
      "\u001b[1;32mpandas/_libs/lib.pyx\u001b[0m in \u001b[0;36mpandas._libs.lib.maybe_convert_numeric\u001b[1;34m()\u001b[0m\n",
      "\u001b[1;31mValueError\u001b[0m: Unable to parse string \"      \"",
      "\nDuring handling of the above exception, another exception occurred:\n",
      "\u001b[1;31mValueError\u001b[0m                                Traceback (most recent call last)",
      "\u001b[1;32m<ipython-input-32-a99a999cbad4>\u001b[0m in \u001b[0;36m<module>\u001b[1;34m\u001b[0m\n\u001b[1;32m----> 1\u001b[1;33m \u001b[0msales_df\u001b[0m\u001b[1;33m[\u001b[0m\u001b[1;34m'Major'\u001b[0m\u001b[1;33m]\u001b[0m \u001b[1;33m=\u001b[0m \u001b[0mpd\u001b[0m\u001b[1;33m.\u001b[0m\u001b[0mto_numeric\u001b[0m\u001b[1;33m(\u001b[0m\u001b[0msales_df\u001b[0m\u001b[1;33m[\u001b[0m\u001b[1;34m'Major'\u001b[0m\u001b[1;33m]\u001b[0m\u001b[1;33m)\u001b[0m\u001b[1;33m\u001b[0m\u001b[1;33m\u001b[0m\u001b[0m\n\u001b[0m",
      "\u001b[1;32m~\\Anaconda3\\lib\\site-packages\\pandas\\core\\tools\\numeric.py\u001b[0m in \u001b[0;36mto_numeric\u001b[1;34m(arg, errors, downcast)\u001b[0m\n\u001b[0;32m    133\u001b[0m             \u001b[0mcoerce_numeric\u001b[0m \u001b[1;33m=\u001b[0m \u001b[1;32mFalse\u001b[0m \u001b[1;32mif\u001b[0m \u001b[0merrors\u001b[0m \u001b[1;32min\u001b[0m \u001b[1;33m(\u001b[0m\u001b[1;34m'ignore'\u001b[0m\u001b[1;33m,\u001b[0m \u001b[1;34m'raise'\u001b[0m\u001b[1;33m)\u001b[0m \u001b[1;32melse\u001b[0m \u001b[1;32mTrue\u001b[0m\u001b[1;33m\u001b[0m\u001b[1;33m\u001b[0m\u001b[0m\n\u001b[0;32m    134\u001b[0m             values = lib.maybe_convert_numeric(values, set(),\n\u001b[1;32m--> 135\u001b[1;33m                                                coerce_numeric=coerce_numeric)\n\u001b[0m\u001b[0;32m    136\u001b[0m \u001b[1;33m\u001b[0m\u001b[0m\n\u001b[0;32m    137\u001b[0m     \u001b[1;32mexcept\u001b[0m \u001b[0mException\u001b[0m\u001b[1;33m:\u001b[0m\u001b[1;33m\u001b[0m\u001b[1;33m\u001b[0m\u001b[0m\n",
      "\u001b[1;32mpandas/_libs/lib.pyx\u001b[0m in \u001b[0;36mpandas._libs.lib.maybe_convert_numeric\u001b[1;34m()\u001b[0m\n",
      "\u001b[1;31mValueError\u001b[0m: Unable to parse string \"      \" at position 940671"
     ]
    }
   ],
   "source": [
    "sales_df['Major'] = pd.to_numeric(sales_df['Major'])\n",
    "# trying to change string to numeric"
   ]
  },
  {
   "cell_type": "markdown",
   "metadata": {},
   "source": [
    "### Error!\n",
    "\n",
    "Note the useful error message above:\n",
    "\n",
    "`ValueError: Unable to parse string \"      \" at position 936643`\n",
    "\n",
    "In this case, we want to treat non-numeric values as missing values. Let's see if there's a way to change how the `pd.to_numeric` function handles errors."
   ]
  },
  {
   "cell_type": "code",
   "execution_count": 33,
   "metadata": {},
   "outputs": [],
   "source": [
    "# The single question mark means \"show me the docstring\"\n",
    "pd.to_numeric?"
   ]
  },
  {
   "cell_type": "markdown",
   "metadata": {},
   "source": [
    "Here's the part that we're looking for:\n",
    "```\n",
    "errors : {'ignore', 'raise', 'coerce'}, default 'raise'\n",
    "    - If 'raise', then invalid parsing will raise an exception\n",
    "    - If 'coerce', then invalid parsing will be set as NaN\n",
    "    - If 'ignore', then invalid parsing will return the input\n",
    "```\n",
    "\n",
    "Let's try setting the `errors` parameter to `'coerce'`."
   ]
  },
  {
   "cell_type": "code",
   "execution_count": 16,
   "metadata": {},
   "outputs": [],
   "source": [
    "sales_df['Major'] = pd.to_numeric(sales_df['Major'], errors='coerce')\n",
    "# switching to numeric, setting response for error"
   ]
  },
  {
   "cell_type": "markdown",
   "metadata": {},
   "source": [
    "Did it work?"
   ]
  },
  {
   "cell_type": "code",
   "execution_count": 35,
   "metadata": {},
   "outputs": [
    {
     "name": "stdout",
     "output_type": "stream",
     "text": [
      "<class 'pandas.core.frame.DataFrame'>\n",
      "RangeIndex: 2035819 entries, 0 to 2035818\n",
      "Data columns (total 4 columns):\n",
      "Major           float64\n",
      "Minor           object\n",
      "DocumentDate    object\n",
      "SalePrice       int64\n",
      "dtypes: float64(1), int64(1), object(2)\n",
      "memory usage: 62.1+ MB\n"
     ]
    }
   ],
   "source": [
    "sales_df.info()"
   ]
  },
  {
   "cell_type": "markdown",
   "metadata": {},
   "source": [
    "It worked! Let's do the same thing with the `Minor` parcel number."
   ]
  },
  {
   "cell_type": "code",
   "execution_count": 17,
   "metadata": {},
   "outputs": [],
   "source": [
    "sales_df['Minor'] = pd.to_numeric(sales_df['Minor'], errors='coerce')"
   ]
  },
  {
   "cell_type": "code",
   "execution_count": 37,
   "metadata": {},
   "outputs": [
    {
     "name": "stdout",
     "output_type": "stream",
     "text": [
      "<class 'pandas.core.frame.DataFrame'>\n",
      "RangeIndex: 2035819 entries, 0 to 2035818\n",
      "Data columns (total 4 columns):\n",
      "Major           float64\n",
      "Minor           float64\n",
      "DocumentDate    object\n",
      "SalePrice       int64\n",
      "dtypes: float64(2), int64(1), object(1)\n",
      "memory usage: 62.1+ MB\n"
     ]
    }
   ],
   "source": [
    "sales_df.info()"
   ]
  },
  {
   "cell_type": "markdown",
   "metadata": {},
   "source": [
    "Now, let's try our join again."
   ]
  },
  {
   "cell_type": "code",
   "execution_count": 18,
   "metadata": {},
   "outputs": [],
   "source": [
    "sales_data = pd.merge(sales_df, bldg_df, on=['Major', 'Minor'])"
   ]
  },
  {
   "cell_type": "code",
   "execution_count": 39,
   "metadata": {},
   "outputs": [
    {
     "data": {
      "text/html": [
       "<div>\n",
       "<style scoped>\n",
       "    .dataframe tbody tr th:only-of-type {\n",
       "        vertical-align: middle;\n",
       "    }\n",
       "\n",
       "    .dataframe tbody tr th {\n",
       "        vertical-align: top;\n",
       "    }\n",
       "\n",
       "    .dataframe thead th {\n",
       "        text-align: right;\n",
       "    }\n",
       "</style>\n",
       "<table border=\"1\" class=\"dataframe\">\n",
       "  <thead>\n",
       "    <tr style=\"text-align: right;\">\n",
       "      <th></th>\n",
       "      <th>Major</th>\n",
       "      <th>Minor</th>\n",
       "      <th>DocumentDate</th>\n",
       "      <th>SalePrice</th>\n",
       "      <th>SqFtTotLiving</th>\n",
       "      <th>ZipCode</th>\n",
       "    </tr>\n",
       "  </thead>\n",
       "  <tbody>\n",
       "    <tr>\n",
       "      <th>0</th>\n",
       "      <td>138860.0</td>\n",
       "      <td>110.0</td>\n",
       "      <td>08/21/2014</td>\n",
       "      <td>245000</td>\n",
       "      <td>1490</td>\n",
       "      <td>98002</td>\n",
       "    </tr>\n",
       "    <tr>\n",
       "      <th>1</th>\n",
       "      <td>138860.0</td>\n",
       "      <td>110.0</td>\n",
       "      <td>06/12/1989</td>\n",
       "      <td>109300</td>\n",
       "      <td>1490</td>\n",
       "      <td>98002</td>\n",
       "    </tr>\n",
       "    <tr>\n",
       "      <th>2</th>\n",
       "      <td>138860.0</td>\n",
       "      <td>110.0</td>\n",
       "      <td>01/16/2005</td>\n",
       "      <td>14684</td>\n",
       "      <td>1490</td>\n",
       "      <td>98002</td>\n",
       "    </tr>\n",
       "    <tr>\n",
       "      <th>3</th>\n",
       "      <td>138860.0</td>\n",
       "      <td>110.0</td>\n",
       "      <td>06/08/2005</td>\n",
       "      <td>0</td>\n",
       "      <td>1490</td>\n",
       "      <td>98002</td>\n",
       "    </tr>\n",
       "    <tr>\n",
       "      <th>4</th>\n",
       "      <td>423943.0</td>\n",
       "      <td>50.0</td>\n",
       "      <td>10/11/2014</td>\n",
       "      <td>0</td>\n",
       "      <td>960</td>\n",
       "      <td>98092</td>\n",
       "    </tr>\n",
       "  </tbody>\n",
       "</table>\n",
       "</div>"
      ],
      "text/plain": [
       "      Major  Minor DocumentDate  SalePrice  SqFtTotLiving ZipCode\n",
       "0  138860.0  110.0   08/21/2014     245000           1490   98002\n",
       "1  138860.0  110.0   06/12/1989     109300           1490   98002\n",
       "2  138860.0  110.0   01/16/2005      14684           1490   98002\n",
       "3  138860.0  110.0   06/08/2005          0           1490   98002\n",
       "4  423943.0   50.0   10/11/2014          0            960   98092"
      ]
     },
     "execution_count": 39,
     "metadata": {},
     "output_type": "execute_result"
    }
   ],
   "source": [
    "sales_data.head()"
   ]
  },
  {
   "cell_type": "code",
   "execution_count": 40,
   "metadata": {},
   "outputs": [
    {
     "name": "stdout",
     "output_type": "stream",
     "text": [
      "<class 'pandas.core.frame.DataFrame'>\n",
      "Int64Index: 1453814 entries, 0 to 1453813\n",
      "Data columns (total 6 columns):\n",
      "Major            1453814 non-null float64\n",
      "Minor            1453814 non-null float64\n",
      "DocumentDate     1453814 non-null object\n",
      "SalePrice        1453814 non-null int64\n",
      "SqFtTotLiving    1453814 non-null int64\n",
      "ZipCode          1334823 non-null object\n",
      "dtypes: float64(2), int64(2), object(2)\n",
      "memory usage: 77.6+ MB\n"
     ]
    }
   ],
   "source": [
    "sales_data.info()"
   ]
  },
  {
   "cell_type": "markdown",
   "metadata": {},
   "source": [
    "We can see right away that we're missing zip codes for many of the sales transactions. (1321536 non-null entries for ZipCode is fewer than the 1436772 entries in the dataframe.) "
   ]
  },
  {
   "cell_type": "code",
   "execution_count": 19,
   "metadata": {},
   "outputs": [
    {
     "data": {
      "text/html": [
       "<div>\n",
       "<style scoped>\n",
       "    .dataframe tbody tr th:only-of-type {\n",
       "        vertical-align: middle;\n",
       "    }\n",
       "\n",
       "    .dataframe tbody tr th {\n",
       "        vertical-align: top;\n",
       "    }\n",
       "\n",
       "    .dataframe thead th {\n",
       "        text-align: right;\n",
       "    }\n",
       "</style>\n",
       "<table border=\"1\" class=\"dataframe\">\n",
       "  <thead>\n",
       "    <tr style=\"text-align: right;\">\n",
       "      <th></th>\n",
       "      <th>Major</th>\n",
       "      <th>Minor</th>\n",
       "      <th>DocumentDate</th>\n",
       "      <th>SalePrice</th>\n",
       "      <th>SqFtTotLiving</th>\n",
       "      <th>ZipCode</th>\n",
       "    </tr>\n",
       "  </thead>\n",
       "  <tbody>\n",
       "    <tr>\n",
       "      <th>91</th>\n",
       "      <td>717370.0</td>\n",
       "      <td>350.0</td>\n",
       "      <td>12/01/1997</td>\n",
       "      <td>0</td>\n",
       "      <td>3380</td>\n",
       "      <td>NaN</td>\n",
       "    </tr>\n",
       "    <tr>\n",
       "      <th>92</th>\n",
       "      <td>717370.0</td>\n",
       "      <td>350.0</td>\n",
       "      <td>09/13/2004</td>\n",
       "      <td>300000</td>\n",
       "      <td>3380</td>\n",
       "      <td>NaN</td>\n",
       "    </tr>\n",
       "    <tr>\n",
       "      <th>93</th>\n",
       "      <td>717370.0</td>\n",
       "      <td>350.0</td>\n",
       "      <td>02/06/2006</td>\n",
       "      <td>901000</td>\n",
       "      <td>3380</td>\n",
       "      <td>NaN</td>\n",
       "    </tr>\n",
       "    <tr>\n",
       "      <th>110</th>\n",
       "      <td>277110.0</td>\n",
       "      <td>1923.0</td>\n",
       "      <td>02/08/2007</td>\n",
       "      <td>372500</td>\n",
       "      <td>1000</td>\n",
       "      <td>NaN</td>\n",
       "    </tr>\n",
       "    <tr>\n",
       "      <th>111</th>\n",
       "      <td>277110.0</td>\n",
       "      <td>1923.0</td>\n",
       "      <td>02/08/2007</td>\n",
       "      <td>0</td>\n",
       "      <td>1000</td>\n",
       "      <td>NaN</td>\n",
       "    </tr>\n",
       "  </tbody>\n",
       "</table>\n",
       "</div>"
      ],
      "text/plain": [
       "        Major   Minor DocumentDate  SalePrice  SqFtTotLiving ZipCode\n",
       "91   717370.0   350.0   12/01/1997          0           3380     NaN\n",
       "92   717370.0   350.0   09/13/2004     300000           3380     NaN\n",
       "93   717370.0   350.0   02/06/2006     901000           3380     NaN\n",
       "110  277110.0  1923.0   02/08/2007     372500           1000     NaN\n",
       "111  277110.0  1923.0   02/08/2007          0           1000     NaN"
      ]
     },
     "execution_count": 19,
     "metadata": {},
     "output_type": "execute_result"
    }
   ],
   "source": [
    "sales_data.loc[sales_data['ZipCode'].isna()].head()"
   ]
  },
  {
   "cell_type": "markdown",
   "metadata": {},
   "source": [
    "Because we are interested in finding houses in Seattle zip codes, we will need to drop the rows with missing zip codes."
   ]
  },
  {
   "cell_type": "code",
   "execution_count": 20,
   "metadata": {},
   "outputs": [
    {
     "data": {
      "text/html": [
       "<div>\n",
       "<style scoped>\n",
       "    .dataframe tbody tr th:only-of-type {\n",
       "        vertical-align: middle;\n",
       "    }\n",
       "\n",
       "    .dataframe tbody tr th {\n",
       "        vertical-align: top;\n",
       "    }\n",
       "\n",
       "    .dataframe thead th {\n",
       "        text-align: right;\n",
       "    }\n",
       "</style>\n",
       "<table border=\"1\" class=\"dataframe\">\n",
       "  <thead>\n",
       "    <tr style=\"text-align: right;\">\n",
       "      <th></th>\n",
       "      <th>Major</th>\n",
       "      <th>Minor</th>\n",
       "      <th>DocumentDate</th>\n",
       "      <th>SalePrice</th>\n",
       "      <th>SqFtTotLiving</th>\n",
       "      <th>ZipCode</th>\n",
       "    </tr>\n",
       "  </thead>\n",
       "  <tbody>\n",
       "    <tr>\n",
       "      <th>0</th>\n",
       "      <td>138860.0</td>\n",
       "      <td>110.0</td>\n",
       "      <td>08/21/2014</td>\n",
       "      <td>245000</td>\n",
       "      <td>1490</td>\n",
       "      <td>98002</td>\n",
       "    </tr>\n",
       "    <tr>\n",
       "      <th>1</th>\n",
       "      <td>138860.0</td>\n",
       "      <td>110.0</td>\n",
       "      <td>06/12/1989</td>\n",
       "      <td>109300</td>\n",
       "      <td>1490</td>\n",
       "      <td>98002</td>\n",
       "    </tr>\n",
       "    <tr>\n",
       "      <th>2</th>\n",
       "      <td>138860.0</td>\n",
       "      <td>110.0</td>\n",
       "      <td>01/16/2005</td>\n",
       "      <td>14684</td>\n",
       "      <td>1490</td>\n",
       "      <td>98002</td>\n",
       "    </tr>\n",
       "    <tr>\n",
       "      <th>3</th>\n",
       "      <td>138860.0</td>\n",
       "      <td>110.0</td>\n",
       "      <td>06/08/2005</td>\n",
       "      <td>0</td>\n",
       "      <td>1490</td>\n",
       "      <td>98002</td>\n",
       "    </tr>\n",
       "    <tr>\n",
       "      <th>4</th>\n",
       "      <td>423943.0</td>\n",
       "      <td>50.0</td>\n",
       "      <td>10/11/2014</td>\n",
       "      <td>0</td>\n",
       "      <td>960</td>\n",
       "      <td>98092</td>\n",
       "    </tr>\n",
       "  </tbody>\n",
       "</table>\n",
       "</div>"
      ],
      "text/plain": [
       "      Major  Minor DocumentDate  SalePrice  SqFtTotLiving ZipCode\n",
       "0  138860.0  110.0   08/21/2014     245000           1490   98002\n",
       "1  138860.0  110.0   06/12/1989     109300           1490   98002\n",
       "2  138860.0  110.0   01/16/2005      14684           1490   98002\n",
       "3  138860.0  110.0   06/08/2005          0           1490   98002\n",
       "4  423943.0   50.0   10/11/2014          0            960   98092"
      ]
     },
     "execution_count": 20,
     "metadata": {},
     "output_type": "execute_result"
    }
   ],
   "source": [
    "sales_data = sales_data.loc[~sales_data['ZipCode'].isna(), :]\n",
    "# ~ means drop\n",
    "sales_data.head()"
   ]
  },
  {
   "cell_type": "markdown",
   "metadata": {},
   "source": [
    "# Your turn: Data Cleaning with Pandas\n",
    "![turtletype](https://media3.giphy.com/media/cFdHXXm5GhJsc/giphy.gif?cid=790b76115d3627d8354c7179366b0672&rid=giphy.gif)"
   ]
  },
  {
   "cell_type": "markdown",
   "metadata": {},
   "source": [
    "### 1. Investigate and drop rows with invalid values in the SalePrice and SqFtTotLiving columns.\n",
    "\n",
    "Use multiple notebook cells to accomplish this! Press `[esc]` then `B` to create a new cell below the current cell. Press `[return]` to start typing in the new cell."
   ]
  },
  {
   "cell_type": "code",
   "execution_count": 21,
   "metadata": {},
   "outputs": [],
   "source": [
    "sales_data = sales_data.loc[sales_data['SalePrice'] > 0]"
   ]
  },
  {
   "cell_type": "code",
   "execution_count": 22,
   "metadata": {},
   "outputs": [
    {
     "data": {
      "text/html": [
       "<div>\n",
       "<style scoped>\n",
       "    .dataframe tbody tr th:only-of-type {\n",
       "        vertical-align: middle;\n",
       "    }\n",
       "\n",
       "    .dataframe tbody tr th {\n",
       "        vertical-align: top;\n",
       "    }\n",
       "\n",
       "    .dataframe thead th {\n",
       "        text-align: right;\n",
       "    }\n",
       "</style>\n",
       "<table border=\"1\" class=\"dataframe\">\n",
       "  <thead>\n",
       "    <tr style=\"text-align: right;\">\n",
       "      <th></th>\n",
       "      <th>Major</th>\n",
       "      <th>Minor</th>\n",
       "      <th>DocumentDate</th>\n",
       "      <th>SalePrice</th>\n",
       "      <th>SqFtTotLiving</th>\n",
       "      <th>ZipCode</th>\n",
       "    </tr>\n",
       "  </thead>\n",
       "  <tbody>\n",
       "    <tr>\n",
       "      <th>21108</th>\n",
       "      <td>857600.0</td>\n",
       "      <td>350.0</td>\n",
       "      <td>12/13/2017</td>\n",
       "      <td>2025000</td>\n",
       "      <td>2</td>\n",
       "      <td>98010</td>\n",
       "    </tr>\n",
       "    <tr>\n",
       "      <th>209868</th>\n",
       "      <td>156310.0</td>\n",
       "      <td>594.0</td>\n",
       "      <td>04/16/1996</td>\n",
       "      <td>169950</td>\n",
       "      <td>2</td>\n",
       "      <td>98116</td>\n",
       "    </tr>\n",
       "    <tr>\n",
       "      <th>209870</th>\n",
       "      <td>156310.0</td>\n",
       "      <td>594.0</td>\n",
       "      <td>06/29/1998</td>\n",
       "      <td>251500</td>\n",
       "      <td>2</td>\n",
       "      <td>98116</td>\n",
       "    </tr>\n",
       "    <tr>\n",
       "      <th>209871</th>\n",
       "      <td>156310.0</td>\n",
       "      <td>594.0</td>\n",
       "      <td>08/10/2000</td>\n",
       "      <td>245000</td>\n",
       "      <td>2</td>\n",
       "      <td>98116</td>\n",
       "    </tr>\n",
       "    <tr>\n",
       "      <th>209872</th>\n",
       "      <td>156310.0</td>\n",
       "      <td>594.0</td>\n",
       "      <td>05/05/1992</td>\n",
       "      <td>156500</td>\n",
       "      <td>2</td>\n",
       "      <td>98116</td>\n",
       "    </tr>\n",
       "    <tr>\n",
       "      <th>209873</th>\n",
       "      <td>156310.0</td>\n",
       "      <td>594.0</td>\n",
       "      <td>07/17/1998</td>\n",
       "      <td>251500</td>\n",
       "      <td>2</td>\n",
       "      <td>98116</td>\n",
       "    </tr>\n",
       "    <tr>\n",
       "      <th>382863</th>\n",
       "      <td>941240.0</td>\n",
       "      <td>165.0</td>\n",
       "      <td>10/28/2011</td>\n",
       "      <td>1000000</td>\n",
       "      <td>0</td>\n",
       "      <td>98118</td>\n",
       "    </tr>\n",
       "    <tr>\n",
       "      <th>382865</th>\n",
       "      <td>941240.0</td>\n",
       "      <td>165.0</td>\n",
       "      <td>07/16/2014</td>\n",
       "      <td>1300000</td>\n",
       "      <td>0</td>\n",
       "      <td>98118</td>\n",
       "    </tr>\n",
       "    <tr>\n",
       "      <th>382867</th>\n",
       "      <td>941240.0</td>\n",
       "      <td>165.0</td>\n",
       "      <td>09/19/2000</td>\n",
       "      <td>54440</td>\n",
       "      <td>0</td>\n",
       "      <td>98118</td>\n",
       "    </tr>\n",
       "    <tr>\n",
       "      <th>382869</th>\n",
       "      <td>941240.0</td>\n",
       "      <td>165.0</td>\n",
       "      <td>11/09/2011</td>\n",
       "      <td>1515000</td>\n",
       "      <td>0</td>\n",
       "      <td>98118</td>\n",
       "    </tr>\n",
       "    <tr>\n",
       "      <th>382871</th>\n",
       "      <td>941240.0</td>\n",
       "      <td>165.0</td>\n",
       "      <td>12/01/1986</td>\n",
       "      <td>275000</td>\n",
       "      <td>0</td>\n",
       "      <td>98118</td>\n",
       "    </tr>\n",
       "    <tr>\n",
       "      <th>427740</th>\n",
       "      <td>356380.0</td>\n",
       "      <td>330.0</td>\n",
       "      <td>03/22/1995</td>\n",
       "      <td>155000</td>\n",
       "      <td>0</td>\n",
       "      <td>98070</td>\n",
       "    </tr>\n",
       "    <tr>\n",
       "      <th>486853</th>\n",
       "      <td>788260.0</td>\n",
       "      <td>71.0</td>\n",
       "      <td>10/02/1991</td>\n",
       "      <td>325000</td>\n",
       "      <td>2</td>\n",
       "      <td>98033</td>\n",
       "    </tr>\n",
       "    <tr>\n",
       "      <th>655455</th>\n",
       "      <td>917960.0</td>\n",
       "      <td>425.0</td>\n",
       "      <td>06/12/1991</td>\n",
       "      <td>59000</td>\n",
       "      <td>0</td>\n",
       "      <td>98030</td>\n",
       "    </tr>\n",
       "    <tr>\n",
       "      <th>922289</th>\n",
       "      <td>560600.0</td>\n",
       "      <td>350.0</td>\n",
       "      <td>03/06/1989</td>\n",
       "      <td>220000</td>\n",
       "      <td>1</td>\n",
       "      <td>98105</td>\n",
       "    </tr>\n",
       "    <tr>\n",
       "      <th>922291</th>\n",
       "      <td>560600.0</td>\n",
       "      <td>350.0</td>\n",
       "      <td>04/28/2010</td>\n",
       "      <td>750000</td>\n",
       "      <td>1</td>\n",
       "      <td>98105</td>\n",
       "    </tr>\n",
       "    <tr>\n",
       "      <th>964251</th>\n",
       "      <td>187040.0</td>\n",
       "      <td>85.0</td>\n",
       "      <td>09/12/2017</td>\n",
       "      <td>500000</td>\n",
       "      <td>3</td>\n",
       "      <td>98115</td>\n",
       "    </tr>\n",
       "    <tr>\n",
       "      <th>1140477</th>\n",
       "      <td>501500.0</td>\n",
       "      <td>140.0</td>\n",
       "      <td>06/11/2003</td>\n",
       "      <td>310000</td>\n",
       "      <td>0</td>\n",
       "      <td>98112</td>\n",
       "    </tr>\n",
       "    <tr>\n",
       "      <th>1336506</th>\n",
       "      <td>376280.0</td>\n",
       "      <td>18.0</td>\n",
       "      <td>10/26/2018</td>\n",
       "      <td>1170000</td>\n",
       "      <td>2</td>\n",
       "      <td>98034</td>\n",
       "    </tr>\n",
       "  </tbody>\n",
       "</table>\n",
       "</div>"
      ],
      "text/plain": [
       "            Major  Minor DocumentDate  SalePrice  SqFtTotLiving ZipCode\n",
       "21108    857600.0  350.0   12/13/2017    2025000              2   98010\n",
       "209868   156310.0  594.0   04/16/1996     169950              2   98116\n",
       "209870   156310.0  594.0   06/29/1998     251500              2   98116\n",
       "209871   156310.0  594.0   08/10/2000     245000              2   98116\n",
       "209872   156310.0  594.0   05/05/1992     156500              2   98116\n",
       "209873   156310.0  594.0   07/17/1998     251500              2   98116\n",
       "382863   941240.0  165.0   10/28/2011    1000000              0   98118\n",
       "382865   941240.0  165.0   07/16/2014    1300000              0   98118\n",
       "382867   941240.0  165.0   09/19/2000      54440              0   98118\n",
       "382869   941240.0  165.0   11/09/2011    1515000              0   98118\n",
       "382871   941240.0  165.0   12/01/1986     275000              0   98118\n",
       "427740   356380.0  330.0   03/22/1995     155000              0   98070\n",
       "486853   788260.0   71.0   10/02/1991     325000              2   98033\n",
       "655455   917960.0  425.0   06/12/1991      59000              0   98030\n",
       "922289   560600.0  350.0   03/06/1989     220000              1   98105\n",
       "922291   560600.0  350.0   04/28/2010     750000              1   98105\n",
       "964251   187040.0   85.0   09/12/2017     500000              3   98115\n",
       "1140477  501500.0  140.0   06/11/2003     310000              0   98112\n",
       "1336506  376280.0   18.0   10/26/2018    1170000              2   98034"
      ]
     },
     "execution_count": 22,
     "metadata": {},
     "output_type": "execute_result"
    }
   ],
   "source": [
    "sales_data.loc[sales_data['SqFtTotLiving'] < 50]"
   ]
  },
  {
   "cell_type": "code",
   "execution_count": 23,
   "metadata": {},
   "outputs": [],
   "source": [
    "sales_data = sales_data.loc[sales_data['SqFtTotLiving'] > 50]"
   ]
  },
  {
   "cell_type": "code",
   "execution_count": 70,
   "metadata": {},
   "outputs": [],
   "source": [
    "sales_data_copy = sales_data"
   ]
  },
  {
   "cell_type": "code",
   "execution_count": 71,
   "metadata": {},
   "outputs": [],
   "source": [
    "sales_data = sales_cleaned"
   ]
  },
  {
   "cell_type": "markdown",
   "metadata": {},
   "source": [
    "### 2. Investigate and handle non-numeric ZipCode values\n",
    "\n",
    "Can you find a way to shorten ZIP+4 codes to the first five digits?\n",
    "\n",
    "What's the right thing to do with missing values?"
   ]
  },
  {
   "cell_type": "code",
   "execution_count": 24,
   "metadata": {},
   "outputs": [
    {
     "data": {
      "text/plain": [
       "13522    98031-3173\n",
       "13842    98042-3001\n",
       "13843    98042-3001\n",
       "13844    98042-3001\n",
       "13845    98042-3001\n",
       "Name: ZipCode, dtype: object"
      ]
     },
     "execution_count": 24,
     "metadata": {},
     "output_type": "execute_result"
    }
   ],
   "source": [
    "# Read the error message and decide how to fix it.\n",
    "# Note: using errors='coerce' is the *wrong* choice in this case.\n",
    "def is_integer(x):\n",
    "    try:\n",
    "        _ = int(x)\n",
    "    except ValueError:\n",
    "        return False\n",
    "    return True\n",
    "\n",
    "sales_data.loc[sales_data['ZipCode'].apply(is_integer) == False, 'ZipCode'].head()"
   ]
  },
  {
   "cell_type": "code",
   "execution_count": 122,
   "metadata": {
    "scrolled": true
   },
   "outputs": [],
   "source": [
    "sales_data.ZipCode = sales_data.ZipCode.str[:5]"
   ]
  },
  {
   "cell_type": "code",
   "execution_count": 75,
   "metadata": {},
   "outputs": [
    {
     "data": {
      "text/html": [
       "<div>\n",
       "<style scoped>\n",
       "    .dataframe tbody tr th:only-of-type {\n",
       "        vertical-align: middle;\n",
       "    }\n",
       "\n",
       "    .dataframe tbody tr th {\n",
       "        vertical-align: top;\n",
       "    }\n",
       "\n",
       "    .dataframe thead th {\n",
       "        text-align: right;\n",
       "    }\n",
       "</style>\n",
       "<table border=\"1\" class=\"dataframe\">\n",
       "  <thead>\n",
       "    <tr style=\"text-align: right;\">\n",
       "      <th></th>\n",
       "      <th>Major</th>\n",
       "      <th>Minor</th>\n",
       "      <th>DocumentDate</th>\n",
       "      <th>SalePrice</th>\n",
       "      <th>SqFtTotLiving</th>\n",
       "      <th>ZipCode</th>\n",
       "    </tr>\n",
       "  </thead>\n",
       "  <tbody>\n",
       "    <tr>\n",
       "      <th>0</th>\n",
       "      <td>138860.0</td>\n",
       "      <td>110.0</td>\n",
       "      <td>08/21/2014</td>\n",
       "      <td>245000</td>\n",
       "      <td>1490</td>\n",
       "      <td>98002</td>\n",
       "    </tr>\n",
       "    <tr>\n",
       "      <th>1</th>\n",
       "      <td>138860.0</td>\n",
       "      <td>110.0</td>\n",
       "      <td>06/12/1989</td>\n",
       "      <td>109300</td>\n",
       "      <td>1490</td>\n",
       "      <td>98002</td>\n",
       "    </tr>\n",
       "    <tr>\n",
       "      <th>2</th>\n",
       "      <td>138860.0</td>\n",
       "      <td>110.0</td>\n",
       "      <td>01/16/2005</td>\n",
       "      <td>14684</td>\n",
       "      <td>1490</td>\n",
       "      <td>98002</td>\n",
       "    </tr>\n",
       "    <tr>\n",
       "      <th>6</th>\n",
       "      <td>423943.0</td>\n",
       "      <td>50.0</td>\n",
       "      <td>07/15/1999</td>\n",
       "      <td>96000</td>\n",
       "      <td>960</td>\n",
       "      <td>98092</td>\n",
       "    </tr>\n",
       "    <tr>\n",
       "      <th>7</th>\n",
       "      <td>423943.0</td>\n",
       "      <td>50.0</td>\n",
       "      <td>01/08/2001</td>\n",
       "      <td>127500</td>\n",
       "      <td>960</td>\n",
       "      <td>98092</td>\n",
       "    </tr>\n",
       "  </tbody>\n",
       "</table>\n",
       "</div>"
      ],
      "text/plain": [
       "      Major  Minor DocumentDate  SalePrice  SqFtTotLiving ZipCode\n",
       "0  138860.0  110.0   08/21/2014     245000           1490   98002\n",
       "1  138860.0  110.0   06/12/1989     109300           1490   98002\n",
       "2  138860.0  110.0   01/16/2005      14684           1490   98002\n",
       "6  423943.0   50.0   07/15/1999      96000            960   98092\n",
       "7  423943.0   50.0   01/08/2001     127500            960   98092"
      ]
     },
     "execution_count": 75,
     "metadata": {},
     "output_type": "execute_result"
    }
   ],
   "source": [
    "sales_data.head()"
   ]
  },
  {
   "cell_type": "markdown",
   "metadata": {},
   "source": [
    "### 3. Add a column for PricePerSqFt\n",
    "\n"
   ]
  },
  {
   "cell_type": "code",
   "execution_count": 77,
   "metadata": {},
   "outputs": [
    {
     "name": "stderr",
     "output_type": "stream",
     "text": [
      "C:\\Users\\Rocio\\Anaconda3\\lib\\site-packages\\ipykernel_launcher.py:1: SettingWithCopyWarning: \n",
      "A value is trying to be set on a copy of a slice from a DataFrame.\n",
      "Try using .loc[row_indexer,col_indexer] = value instead\n",
      "\n",
      "See the caveats in the documentation: http://pandas.pydata.org/pandas-docs/stable/indexing.html#indexing-view-versus-copy\n",
      "  \"\"\"Entry point for launching an IPython kernel.\n"
     ]
    }
   ],
   "source": [
    "sales_data['PricePerSqFt'] = sales_data['SalePrice']/sales_data['SqFtTotLiving']"
   ]
  },
  {
   "cell_type": "code",
   "execution_count": 78,
   "metadata": {},
   "outputs": [
    {
     "data": {
      "text/html": [
       "<div>\n",
       "<style scoped>\n",
       "    .dataframe tbody tr th:only-of-type {\n",
       "        vertical-align: middle;\n",
       "    }\n",
       "\n",
       "    .dataframe tbody tr th {\n",
       "        vertical-align: top;\n",
       "    }\n",
       "\n",
       "    .dataframe thead th {\n",
       "        text-align: right;\n",
       "    }\n",
       "</style>\n",
       "<table border=\"1\" class=\"dataframe\">\n",
       "  <thead>\n",
       "    <tr style=\"text-align: right;\">\n",
       "      <th></th>\n",
       "      <th>Major</th>\n",
       "      <th>Minor</th>\n",
       "      <th>DocumentDate</th>\n",
       "      <th>SalePrice</th>\n",
       "      <th>SqFtTotLiving</th>\n",
       "      <th>ZipCode</th>\n",
       "      <th>PricePerSqFt</th>\n",
       "    </tr>\n",
       "  </thead>\n",
       "  <tbody>\n",
       "    <tr>\n",
       "      <th>0</th>\n",
       "      <td>138860.0</td>\n",
       "      <td>110.0</td>\n",
       "      <td>08/21/2014</td>\n",
       "      <td>245000</td>\n",
       "      <td>1490</td>\n",
       "      <td>98002</td>\n",
       "      <td>164.429530</td>\n",
       "    </tr>\n",
       "    <tr>\n",
       "      <th>1</th>\n",
       "      <td>138860.0</td>\n",
       "      <td>110.0</td>\n",
       "      <td>06/12/1989</td>\n",
       "      <td>109300</td>\n",
       "      <td>1490</td>\n",
       "      <td>98002</td>\n",
       "      <td>73.355705</td>\n",
       "    </tr>\n",
       "    <tr>\n",
       "      <th>2</th>\n",
       "      <td>138860.0</td>\n",
       "      <td>110.0</td>\n",
       "      <td>01/16/2005</td>\n",
       "      <td>14684</td>\n",
       "      <td>1490</td>\n",
       "      <td>98002</td>\n",
       "      <td>9.855034</td>\n",
       "    </tr>\n",
       "    <tr>\n",
       "      <th>6</th>\n",
       "      <td>423943.0</td>\n",
       "      <td>50.0</td>\n",
       "      <td>07/15/1999</td>\n",
       "      <td>96000</td>\n",
       "      <td>960</td>\n",
       "      <td>98092</td>\n",
       "      <td>100.000000</td>\n",
       "    </tr>\n",
       "    <tr>\n",
       "      <th>7</th>\n",
       "      <td>423943.0</td>\n",
       "      <td>50.0</td>\n",
       "      <td>01/08/2001</td>\n",
       "      <td>127500</td>\n",
       "      <td>960</td>\n",
       "      <td>98092</td>\n",
       "      <td>132.812500</td>\n",
       "    </tr>\n",
       "  </tbody>\n",
       "</table>\n",
       "</div>"
      ],
      "text/plain": [
       "      Major  Minor DocumentDate  SalePrice  SqFtTotLiving ZipCode  \\\n",
       "0  138860.0  110.0   08/21/2014     245000           1490   98002   \n",
       "1  138860.0  110.0   06/12/1989     109300           1490   98002   \n",
       "2  138860.0  110.0   01/16/2005      14684           1490   98002   \n",
       "6  423943.0   50.0   07/15/1999      96000            960   98092   \n",
       "7  423943.0   50.0   01/08/2001     127500            960   98092   \n",
       "\n",
       "   PricePerSqFt  \n",
       "0    164.429530  \n",
       "1     73.355705  \n",
       "2      9.855034  \n",
       "6    100.000000  \n",
       "7    132.812500  "
      ]
     },
     "execution_count": 78,
     "metadata": {},
     "output_type": "execute_result"
    }
   ],
   "source": [
    "sales_data.head()"
   ]
  },
  {
   "cell_type": "markdown",
   "metadata": {},
   "source": [
    "### 4. Subset the data to 2019 sales only.\n",
    "\n",
    "We can assume that the DocumentDate is approximately the sale date."
   ]
  },
  {
   "cell_type": "code",
   "execution_count": null,
   "metadata": {},
   "outputs": [],
   "source": [
    "sales_data['date'] = pd.to_datetime(sales_data.DocumentDate)\n",
    "sales_data2019 = sales_data[sales_data.date.dt.year == 2019]"
   ]
  },
  {
   "cell_type": "code",
   "execution_count": 96,
   "metadata": {},
   "outputs": [],
   "source": [
    "data2019 = sales_data.loc[sales_data.DocumentDate.str[-4:] == '2019']"
   ]
  },
  {
   "cell_type": "markdown",
   "metadata": {},
   "source": [
    "### 5. Subset the data to zip codes within the City of Seattle.\n",
    "\n",
    "You'll need to find a list of Seattle zip codes!"
   ]
  },
  {
   "cell_type": "code",
   "execution_count": 81,
   "metadata": {},
   "outputs": [],
   "source": [
    "SeattleZipCodes = [8101, 98102, 98103, 98104, 98105, 98106, 98107, 98108, 98109, 98112, 98115, 98116, 98117, 98118, 98119, 98121, 98122, 98125, 98126, 98133, 98134, 98136, 98144, 98146, 98154, 98164, 98174, 98177, 98178, 98195, 98199]"
   ]
  },
  {
   "cell_type": "code",
   "execution_count": 105,
   "metadata": {},
   "outputs": [],
   "source": [
    "seattle2019 = data2019.loc[data2019['ZipCode'].isin(SeattleZipCodes)]"
   ]
  },
  {
   "cell_type": "code",
   "execution_count": 94,
   "metadata": {},
   "outputs": [],
   "source": [
    "seattle2019['ZipCode'] = pd.to_numeric(seattle2019['ZipCode'])"
   ]
  },
  {
   "cell_type": "code",
   "execution_count": 102,
   "metadata": {
    "scrolled": true
   },
   "outputs": [
    {
     "name": "stderr",
     "output_type": "stream",
     "text": [
      "C:\\Users\\Rocio\\Anaconda3\\lib\\site-packages\\ipykernel_launcher.py:1: SettingWithCopyWarning: \n",
      "A value is trying to be set on a copy of a slice from a DataFrame.\n",
      "Try using .loc[row_indexer,col_indexer] = value instead\n",
      "\n",
      "See the caveats in the documentation: http://pandas.pydata.org/pandas-docs/stable/indexing.html#indexing-view-versus-copy\n",
      "  \"\"\"Entry point for launching an IPython kernel.\n"
     ]
    }
   ],
   "source": [
    "data2019['ZipCode'] = pd.to_numeric(data2019['ZipCode'])"
   ]
  },
  {
   "cell_type": "code",
   "execution_count": 103,
   "metadata": {},
   "outputs": [
    {
     "name": "stdout",
     "output_type": "stream",
     "text": [
      "<class 'pandas.core.frame.DataFrame'>\n",
      "Int64Index: 12642 entries, 240 to 1453638\n",
      "Data columns (total 7 columns):\n",
      "Major            12642 non-null float64\n",
      "Minor            12642 non-null float64\n",
      "DocumentDate     12642 non-null object\n",
      "SalePrice        12642 non-null int64\n",
      "SqFtTotLiving    12642 non-null int64\n",
      "ZipCode          12154 non-null float64\n",
      "PricePerSqFt     12642 non-null float64\n",
      "dtypes: float64(4), int64(2), object(1)\n",
      "memory usage: 790.1+ KB\n"
     ]
    }
   ],
   "source": [
    "data2019.info()"
   ]
  },
  {
   "cell_type": "code",
   "execution_count": 95,
   "metadata": {},
   "outputs": [
    {
     "data": {
      "text/html": [
       "<div>\n",
       "<style scoped>\n",
       "    .dataframe tbody tr th:only-of-type {\n",
       "        vertical-align: middle;\n",
       "    }\n",
       "\n",
       "    .dataframe tbody tr th {\n",
       "        vertical-align: top;\n",
       "    }\n",
       "\n",
       "    .dataframe thead th {\n",
       "        text-align: right;\n",
       "    }\n",
       "</style>\n",
       "<table border=\"1\" class=\"dataframe\">\n",
       "  <thead>\n",
       "    <tr style=\"text-align: right;\">\n",
       "      <th></th>\n",
       "      <th>Major</th>\n",
       "      <th>Minor</th>\n",
       "      <th>DocumentDate</th>\n",
       "      <th>SalePrice</th>\n",
       "      <th>SqFtTotLiving</th>\n",
       "      <th>ZipCode</th>\n",
       "      <th>PricePerSqFt</th>\n",
       "    </tr>\n",
       "  </thead>\n",
       "  <tbody>\n",
       "  </tbody>\n",
       "</table>\n",
       "</div>"
      ],
      "text/plain": [
       "Empty DataFrame\n",
       "Columns: [Major, Minor, DocumentDate, SalePrice, SqFtTotLiving, ZipCode, PricePerSqFt]\n",
       "Index: []"
      ]
     },
     "execution_count": 95,
     "metadata": {},
     "output_type": "execute_result"
    }
   ],
   "source": [
    "seattle2019"
   ]
  },
  {
   "cell_type": "code",
   "execution_count": null,
   "metadata": {},
   "outputs": [],
   "source": [
    "zipseries = pd.Series(Zipcodes)"
   ]
  },
  {
   "cell_type": "code",
   "execution_count": null,
   "metadata": {},
   "outputs": [],
   "source": [
    "test"
   ]
  },
  {
   "cell_type": "code",
   "execution_count": null,
   "metadata": {},
   "outputs": [],
   "source": [
    "read"
   ]
  },
  {
   "cell_type": "markdown",
   "metadata": {},
   "source": [
    "### 6. What is the mean price per square foot for a house sold in Seattle in 2019?\n",
    "\n",
    "Don't just type the answer. Type code that generates the answer as output!"
   ]
  },
  {
   "cell_type": "code",
   "execution_count": 109,
   "metadata": {},
   "outputs": [
    {
     "data": {
      "text/plain": [
       "520.5525738366053"
      ]
     },
     "execution_count": 109,
     "metadata": {},
     "output_type": "execute_result"
    }
   ],
   "source": [
    "seattle2019['PricePerSqFt'].mean()"
   ]
  },
  {
   "cell_type": "markdown",
   "metadata": {},
   "source": [
    "## Turning code into a script\n",
    "\n",
    "#### make a new .py file\n",
    "- open a new `.py` file _or_ open a new jupyter notbook and export as a `.py` file so we can start to edit the `.py` file directly\n",
    "- save the file as `mean_ppsf_seattle.py`\n",
    "- look at all your code between `sales_df = pd.read_csv('data/Real Property Sales.zip')` and question `number 6` above\n",
    "\n",
    "#### review & organize your code\n",
    "- _organize_ your code in the `mean_ppsf_seattle.py` to start with `sales_df = pd.read_csv('data/Real Property Sales.zip')` and end with printing out the mean price per square foot for a house sold in seattle in 2019\n",
    "- the code should be able to run without throwing any errors\n",
    "- remember to include `import pandas as pd` and any other necessary statements at the start of your script\n",
    "\n",
    "#### test your script\n",
    "- go to the terminal\n",
    "- make sure you are in the same directory path as your jupyter notebook and the `.py` file\n",
    "- in the terminal type and then run `python mean_ppsf_seattle.py`\n",
    "- confirm the script returns in terminal what you wanted it to return\n",
    "\n",
    "#### send your script to Ammar and Marisa\n",
    "\n",
    "![anykey](https://media2.giphy.com/media/26BGIqWh2R1fi6JDa/giphy.gif?cid=790b76115d3627d8354c7179366b0672&rid=giphy.gif)"
   ]
  },
  {
   "cell_type": "code",
   "execution_count": 4,
   "metadata": {},
   "outputs": [],
   "source": [
    "sales_df = sales_df[['Major', 'Minor', 'DocumentDate', 'SalePrice']]"
   ]
  },
  {
   "cell_type": "code",
   "execution_count": 5,
   "metadata": {},
   "outputs": [],
   "source": [
    "bldg_df = bldg_df[['Major', 'Minor', 'SqFtTotLiving', 'ZipCode']]"
   ]
  },
  {
   "cell_type": "code",
   "execution_count": 6,
   "metadata": {},
   "outputs": [],
   "source": [
    "sales_df['Major'] = pd.to_numeric(sales_df['Major'], errors='coerce')"
   ]
  },
  {
   "cell_type": "code",
   "execution_count": 7,
   "metadata": {},
   "outputs": [],
   "source": [
    "sales_df['Minor'] = pd.to_numeric(sales_df['Minor'], errors='coerce')"
   ]
  },
  {
   "cell_type": "code",
   "execution_count": 8,
   "metadata": {},
   "outputs": [],
   "source": [
    "sales_data = pd.merge(sales_df, bldg_df, on=['Major', 'Minor'])"
   ]
  },
  {
   "cell_type": "code",
   "execution_count": 9,
   "metadata": {},
   "outputs": [],
   "source": [
    "sales_data = pd.merge(sales_df, bldg_df, on=['Major', 'Minor'])"
   ]
  },
  {
   "cell_type": "code",
   "execution_count": 10,
   "metadata": {},
   "outputs": [],
   "source": [
    "sales_data = sales_data.loc[~sales_data['ZipCode'].isna(), :]"
   ]
  },
  {
   "cell_type": "code",
   "execution_count": 11,
   "metadata": {},
   "outputs": [],
   "source": [
    "sales_data = sales_data.loc[sales_data['SalePrice'] > 0]"
   ]
  },
  {
   "cell_type": "code",
   "execution_count": 12,
   "metadata": {},
   "outputs": [],
   "source": [
    "sales_data = sales_data.loc[sales_data['SqFtTotLiving'] > 50]"
   ]
  },
  {
   "cell_type": "code",
   "execution_count": 13,
   "metadata": {},
   "outputs": [],
   "source": [
    "sales_data['PricePerSqFt'] = sales_data['SalePrice']/sales_data['SqFtTotLiving']"
   ]
  },
  {
   "cell_type": "code",
   "execution_count": 27,
   "metadata": {},
   "outputs": [],
   "source": [
    "sales_data['Postal'] = sales_data.ZipCode.map(lambda x: str(x)[:5])"
   ]
  },
  {
   "cell_type": "code",
   "execution_count": 29,
   "metadata": {},
   "outputs": [],
   "source": [
    "sales_data['Postal'] = pd.to_numeric(sales_data['Postal'], errors = 'coerce')"
   ]
  },
  {
   "cell_type": "code",
   "execution_count": 65,
   "metadata": {},
   "outputs": [],
   "source": [
    "sales_data1.ZipCode = sales_data1.ZipCode.str[:5]"
   ]
  },
  {
   "cell_type": "code",
   "execution_count": 66,
   "metadata": {},
   "outputs": [
    {
     "data": {
      "text/plain": [
       "0          98002\n",
       "1          98002\n",
       "2          98002\n",
       "6          98092\n",
       "7          98092\n",
       "11         98008\n",
       "12         98008\n",
       "13         98008\n",
       "14         98008\n",
       "16         98058\n",
       "17         98058\n",
       "19         98038\n",
       "20         98038\n",
       "21         98038\n",
       "22         98038\n",
       "23         98038\n",
       "25           NaN\n",
       "26           NaN\n",
       "27           NaN\n",
       "29         98058\n",
       "31         98058\n",
       "32         98058\n",
       "33         98058\n",
       "34         98188\n",
       "36         98188\n",
       "38         98051\n",
       "39         98051\n",
       "40         98001\n",
       "42         98001\n",
       "44         98001\n",
       "           ...  \n",
       "1453773    98002\n",
       "1453775    98118\n",
       "1453776    98177\n",
       "1453778    98011\n",
       "1453779    98107\n",
       "1453780    98029\n",
       "1453781    98002\n",
       "1453782    98003\n",
       "1453784    98003\n",
       "1453785    98034\n",
       "1453786    98028\n",
       "1453787    98092\n",
       "1453788    98126\n",
       "1453789    98168\n",
       "1453790    98003\n",
       "1453791    98028\n",
       "1453792    98053\n",
       "1453793    98125\n",
       "1453796    98117\n",
       "1453798    98033\n",
       "1453799    98077\n",
       "1453800    98027\n",
       "1453801    98075\n",
       "1453802    98029\n",
       "1453803    98003\n",
       "1453805    98092\n",
       "1453806    98155\n",
       "1453809    98031\n",
       "1453811    98002\n",
       "1453813    98116\n",
       "Name: ZipCode, Length: 876235, dtype: object"
      ]
     },
     "execution_count": 66,
     "metadata": {},
     "output_type": "execute_result"
    }
   ],
   "source": [
    "sales_data['ZipCode']"
   ]
  },
  {
   "cell_type": "code",
   "execution_count": null,
   "metadata": {},
   "outputs": [],
   "source": []
  },
  {
   "cell_type": "code",
   "execution_count": 30,
   "metadata": {},
   "outputs": [],
   "source": [
    "data2019 = sales_data.loc[sales_data.DocumentDate.str[-4:] == '2019']"
   ]
  },
  {
   "cell_type": "code",
   "execution_count": null,
   "metadata": {},
   "outputs": [],
   "source": []
  },
  {
   "cell_type": "code",
   "execution_count": null,
   "metadata": {},
   "outputs": [],
   "source": []
  },
  {
   "cell_type": "code",
   "execution_count": 31,
   "metadata": {},
   "outputs": [],
   "source": [
    "SeattleZipCodes = [8101, 98102, 98103, 98104, 98105, 98106, 98107, 98108, 98109, 98112, 98115, 98116, 98117, 98118, 98119, 98121, 98122, 98125, 98126, 98133, 98134, 98136, 98144, 98146, 98154, 98164, 98174, 98177, 98178, 98195, 98199]"
   ]
  },
  {
   "cell_type": "code",
   "execution_count": 63,
   "metadata": {},
   "outputs": [
    {
     "data": {
      "text/plain": [
       "int"
      ]
     },
     "execution_count": 63,
     "metadata": {},
     "output_type": "execute_result"
    }
   ],
   "source": [
    "type(SeattleZipCodes[0])"
   ]
  },
  {
   "cell_type": "code",
   "execution_count": 32,
   "metadata": {},
   "outputs": [
    {
     "name": "stdout",
     "output_type": "stream",
     "text": [
      "520.2328898928004\n"
     ]
    }
   ],
   "source": [
    "seattle2019 = data2019.loc[data2019['Postal'].isin(SeattleZipCodes)]\n",
    "print(seattle2019['PricePerSqFt'].mean())"
   ]
  },
  {
   "cell_type": "code",
   "execution_count": 25,
   "metadata": {},
   "outputs": [
    {
     "data": {
      "text/plain": [
       "13522    98031-3173\n",
       "13842    98042-3001\n",
       "13843    98042-3001\n",
       "13844    98042-3001\n",
       "13845    98042-3001\n",
       "Name: ZipCode, dtype: object"
      ]
     },
     "execution_count": 25,
     "metadata": {},
     "output_type": "execute_result"
    }
   ],
   "source": [
    "def is_integer(x):\n",
    "    try:\n",
    "        _ = int(x)\n",
    "    except ValueError:\n",
    "        return False\n",
    "    return True\n",
    "\n",
    "sales_data.loc[sales_data['ZipCode'].apply(is_integer) == False, 'ZipCode'].head()"
   ]
  },
  {
   "cell_type": "code",
   "execution_count": null,
   "metadata": {},
   "outputs": [],
   "source": []
  },
  {
   "cell_type": "code",
   "execution_count": null,
   "metadata": {},
   "outputs": [],
   "source": []
  },
  {
   "cell_type": "code",
   "execution_count": null,
   "metadata": {},
   "outputs": [],
   "source": []
  },
  {
   "cell_type": "code",
   "execution_count": 38,
   "metadata": {},
   "outputs": [],
   "source": [
    "sales_data1 = sales_data"
   ]
  },
  {
   "cell_type": "code",
   "execution_count": 43,
   "metadata": {},
   "outputs": [
    {
     "data": {
      "text/plain": [
       "876235"
      ]
     },
     "execution_count": 43,
     "metadata": {},
     "output_type": "execute_result"
    }
   ],
   "source": [
    "sales_data1['ZipCode'].isna().count()"
   ]
  },
  {
   "cell_type": "code",
   "execution_count": 42,
   "metadata": {},
   "outputs": [],
   "source": [
    "sales_data1.ZipCode = sales_data1.ZipCode.str[:5]"
   ]
  },
  {
   "cell_type": "code",
   "execution_count": null,
   "metadata": {},
   "outputs": [],
   "source": []
  },
  {
   "cell_type": "code",
   "execution_count": 35,
   "metadata": {},
   "outputs": [
    {
     "data": {
      "text/plain": [
       "25     NaN\n",
       "26     NaN\n",
       "27     NaN\n",
       "237    NaN\n",
       "238    NaN\n",
       "Name: ZipCode, dtype: object"
      ]
     },
     "execution_count": 35,
     "metadata": {},
     "output_type": "execute_result"
    }
   ],
   "source": [
    "def is_integer(x):\n",
    "    try:\n",
    "        _ = int(x)\n",
    "    except ValueError:\n",
    "        return False\n",
    "    return True\n",
    "\n",
    "sales_data1.loc[sales_data1['ZipCode'].apply(is_integer) == False, 'ZipCode'].head()"
   ]
  },
  {
   "cell_type": "code",
   "execution_count": 44,
   "metadata": {},
   "outputs": [
    {
     "ename": "ValueError",
     "evalue": "Unable to parse string \" \" at position 146480",
     "output_type": "error",
     "traceback": [
      "\u001b[1;31m---------------------------------------------------------------------------\u001b[0m",
      "\u001b[1;31mValueError\u001b[0m                                Traceback (most recent call last)",
      "\u001b[1;32mpandas/_libs/lib.pyx\u001b[0m in \u001b[0;36mpandas._libs.lib.maybe_convert_numeric\u001b[1;34m()\u001b[0m\n",
      "\u001b[1;31mValueError\u001b[0m: Unable to parse string \" \"",
      "\nDuring handling of the above exception, another exception occurred:\n",
      "\u001b[1;31mValueError\u001b[0m                                Traceback (most recent call last)",
      "\u001b[1;32m<ipython-input-44-1554d9bbbc78>\u001b[0m in \u001b[0;36m<module>\u001b[1;34m\u001b[0m\n\u001b[1;32m----> 1\u001b[1;33m \u001b[0msales_data1\u001b[0m\u001b[1;33m[\u001b[0m\u001b[1;34m'ZipCode'\u001b[0m\u001b[1;33m]\u001b[0m \u001b[1;33m=\u001b[0m \u001b[0mpd\u001b[0m\u001b[1;33m.\u001b[0m\u001b[0mto_numeric\u001b[0m\u001b[1;33m(\u001b[0m\u001b[0msales_data1\u001b[0m\u001b[1;33m[\u001b[0m\u001b[1;34m'ZipCode'\u001b[0m\u001b[1;33m]\u001b[0m\u001b[1;33m)\u001b[0m\u001b[1;33m\u001b[0m\u001b[1;33m\u001b[0m\u001b[0m\n\u001b[0m",
      "\u001b[1;32m~\\Anaconda3\\lib\\site-packages\\pandas\\core\\tools\\numeric.py\u001b[0m in \u001b[0;36mto_numeric\u001b[1;34m(arg, errors, downcast)\u001b[0m\n\u001b[0;32m    133\u001b[0m             \u001b[0mcoerce_numeric\u001b[0m \u001b[1;33m=\u001b[0m \u001b[1;32mFalse\u001b[0m \u001b[1;32mif\u001b[0m \u001b[0merrors\u001b[0m \u001b[1;32min\u001b[0m \u001b[1;33m(\u001b[0m\u001b[1;34m'ignore'\u001b[0m\u001b[1;33m,\u001b[0m \u001b[1;34m'raise'\u001b[0m\u001b[1;33m)\u001b[0m \u001b[1;32melse\u001b[0m \u001b[1;32mTrue\u001b[0m\u001b[1;33m\u001b[0m\u001b[1;33m\u001b[0m\u001b[0m\n\u001b[0;32m    134\u001b[0m             values = lib.maybe_convert_numeric(values, set(),\n\u001b[1;32m--> 135\u001b[1;33m                                                coerce_numeric=coerce_numeric)\n\u001b[0m\u001b[0;32m    136\u001b[0m \u001b[1;33m\u001b[0m\u001b[0m\n\u001b[0;32m    137\u001b[0m     \u001b[1;32mexcept\u001b[0m \u001b[0mException\u001b[0m\u001b[1;33m:\u001b[0m\u001b[1;33m\u001b[0m\u001b[1;33m\u001b[0m\u001b[0m\n",
      "\u001b[1;32mpandas/_libs/lib.pyx\u001b[0m in \u001b[0;36mpandas._libs.lib.maybe_convert_numeric\u001b[1;34m()\u001b[0m\n",
      "\u001b[1;31mValueError\u001b[0m: Unable to parse string \" \" at position 146480"
     ]
    }
   ],
   "source": [
    "sales_data1['ZipCode'] = pd.to_numeric(sales_data1['ZipCode'])"
   ]
  },
  {
   "cell_type": "code",
   "execution_count": null,
   "metadata": {},
   "outputs": [],
   "source": []
  }
 ],
 "metadata": {
  "kernelspec": {
   "display_name": "Python 3",
   "language": "python",
   "name": "python3"
  },
  "language_info": {
   "codemirror_mode": {
    "name": "ipython",
    "version": 3
   },
   "file_extension": ".py",
   "mimetype": "text/x-python",
   "name": "python",
   "nbconvert_exporter": "python",
   "pygments_lexer": "ipython3",
   "version": "3.7.3"
  }
 },
 "nbformat": 4,
 "nbformat_minor": 2
}
