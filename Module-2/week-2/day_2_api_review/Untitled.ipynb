{
 "cells": [
  {
   "cell_type": "code",
   "execution_count": 1,
   "metadata": {},
   "outputs": [],
   "source": [
    "import requests\n",
    "import time\n",
    "import pandas as pd\n",
    "import numpy as np\n",
    "import re\n",
    "import json\n",
    "import pdb"
   ]
  },
  {
   "cell_type": "code",
   "execution_count": 15,
   "metadata": {},
   "outputs": [],
   "source": [
    "url = 'https://www.reddit.com/r/washingtondc.json'\n",
    "req = requests.get(url, headers = {'User-agent' : 'Nick'})"
   ]
  },
  {
   "cell_type": "code",
   "execution_count": 22,
   "metadata": {},
   "outputs": [
    {
     "data": {
      "text/plain": [
       "'<!DOCTYPE html>\\n<html>\\n\\n<head>\\n    <meta charset=\"UTF-8\">\\n    <meta content=\"width=device-width, initial-scale=1, maximum-scale=1, user-scalable=no\" name=\"viewport\">\\n    <title>404 | Trackitt</title>\\n    <!-- Favicon-->\\n    <link rel=\"icon\" href=\"https://www.trackitt.com/favicon.ico\" type=\"image/x-icon\">\\n\\n    <!-- Google Fonts -->\\n    <link href=\"https://fonts.googleapis.com/css?family=Roboto:400,700&subset=latin,cyrillic-ext\" rel=\"stylesheet\" type=\"text/css\">\\n    <link href=\"https://fonts.googleapis.com/icon?family=Material+Icons\" rel=\"stylesheet\" type=\"text/css\">\\n\\n    <!-- Bootstrap Core Css -->\\n    <link href=\"https://www.trackitt.com/plugins/bootstrap/css/bootstrap.css\" rel=\"stylesheet\">\\n\\n    <!-- Waves Effect Css -->\\n    <link href=\"https://www.trackitt.com/plugins/node-waves/waves.css\" rel=\"stylesheet\" />\\n\\n    <!-- Custom Css -->\\n    <link href=\"https://www.trackitt.com/css/backend/style.css\" rel=\"stylesheet\">\\n</head>\\n\\n<body class=\"four-zero-four\">\\t\\n    <div class=\"four-zero-four-container\">\\n        <div class=\"error-code\">404</div>\\n        <div class=\"error-message\">This page doesn\\'t exist</div>\\n        <div class=\"button-place\">\\n\\t\\t\\t<a href=\"https://www.trackitt.com/\" class=\"btn btn-default btn-lg waves-effect\">GO TO HOMEPAGE</a>\\t\\t\\t\\n        </div>\\n    </div>\\n\\n    <!-- Jquery Core Js -->\\n    <script src=\"https://www.trackitt.com/plugins/jquery/jquery.min.js\"></script>\\n\\n    <!-- Bootstrap Core Js -->\\n    <script src=\"https://www.trackitt.com/plugins/bootstrap/js/bootstrap.js\"></script>\\n\\n    <!-- Waves Effect Plugin Js -->\\n    <script src=\"https://www.trackitt.com/plugins/node-waves/waves.js\"></script>\\n</body>\\n\\n</html>\\n'"
      ]
     },
     "execution_count": 22,
     "metadata": {},
     "output_type": "execute_result"
    }
   ],
   "source": [
    "req.text"
   ]
  },
  {
   "cell_type": "code",
   "execution_count": 23,
   "metadata": {},
   "outputs": [],
   "source": [
    "url = 'https://www.trackitt.com/usa-immigration-trackers/n400.json'\n",
    "req1 = requests.get(url, headers = {'User-agent' : 'Kyle'})"
   ]
  },
  {
   "cell_type": "code",
   "execution_count": 25,
   "metadata": {},
   "outputs": [
    {
     "data": {
      "text/plain": [
       "'<!DOCTYPE html>\\n<html>\\n\\n<head>\\n    <meta charset=\"UTF-8\">\\n    <meta content=\"width=device-width, initial-scale=1, maximum-scale=1, user-scalable=no\" name=\"viewport\">\\n    <title>404 | Trackitt</title>\\n    <!-- Favicon-->\\n    <link rel=\"icon\" href=\"https://www.trackitt.com/favicon.ico\" type=\"image/x-icon\">\\n\\n    <!-- Google Fonts -->\\n    <link href=\"https://fonts.googleapis.com/css?family=Roboto:400,700&subset=latin,cyrillic-ext\" rel=\"stylesheet\" type=\"text/css\">\\n    <link href=\"https://fonts.googleapis.com/icon?family=Material+Icons\" rel=\"stylesheet\" type=\"text/css\">\\n\\n    <!-- Bootstrap Core Css -->\\n    <link href=\"https://www.trackitt.com/plugins/bootstrap/css/bootstrap.css\" rel=\"stylesheet\">\\n\\n    <!-- Waves Effect Css -->\\n    <link href=\"https://www.trackitt.com/plugins/node-waves/waves.css\" rel=\"stylesheet\" />\\n\\n    <!-- Custom Css -->\\n    <link href=\"https://www.trackitt.com/css/backend/style.css\" rel=\"stylesheet\">\\n</head>\\n\\n<body class=\"four-zero-four\">\\t\\n    <div class=\"four-zero-four-container\">\\n        <div class=\"error-code\">404</div>\\n        <div class=\"error-message\">This page doesn\\'t exist</div>\\n        <div class=\"button-place\">\\n\\t\\t\\t<a href=\"https://www.trackitt.com/\" class=\"btn btn-default btn-lg waves-effect\">GO TO HOMEPAGE</a>\\t\\t\\t\\n        </div>\\n    </div>\\n\\n    <!-- Jquery Core Js -->\\n    <script src=\"https://www.trackitt.com/plugins/jquery/jquery.min.js\"></script>\\n\\n    <!-- Bootstrap Core Js -->\\n    <script src=\"https://www.trackitt.com/plugins/bootstrap/js/bootstrap.js\"></script>\\n\\n    <!-- Waves Effect Plugin Js -->\\n    <script src=\"https://www.trackitt.com/plugins/node-waves/waves.js\"></script>\\n</body>\\n\\n</html>\\n'"
      ]
     },
     "execution_count": 25,
     "metadata": {},
     "output_type": "execute_result"
    }
   ],
   "source": [
    "req1.text"
   ]
  },
  {
   "cell_type": "code",
   "execution_count": null,
   "metadata": {},
   "outputs": [],
   "source": []
  }
 ],
 "metadata": {
  "kernelspec": {
   "display_name": "Python 3",
   "language": "python",
   "name": "python3"
  },
  "language_info": {
   "codemirror_mode": {
    "name": "ipython",
    "version": 3
   },
   "file_extension": ".py",
   "mimetype": "text/x-python",
   "name": "python",
   "nbconvert_exporter": "python",
   "pygments_lexer": "ipython3",
   "version": "3.7.3"
  }
 },
 "nbformat": 4,
 "nbformat_minor": 2
}
