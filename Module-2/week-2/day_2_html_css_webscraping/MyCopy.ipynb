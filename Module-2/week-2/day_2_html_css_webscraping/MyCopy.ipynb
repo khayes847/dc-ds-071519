{
 "cells": [
  {
   "cell_type": "markdown",
   "metadata": {},
   "source": [
    "# Python Web Scraping Tutorial using BeautifulSoup"
   ]
  },
  {
   "cell_type": "markdown",
   "metadata": {},
   "source": [
    "## Recap: APIs"
   ]
  },
  {
   "cell_type": "code",
   "execution_count": 218,
   "metadata": {},
   "outputs": [],
   "source": [
    "import requests\n",
    "url = 'https://venmo.com/api/v5/public'\n",
    "resp = requests.get(url)\n",
    "\n",
    "assert(resp.status_code == 200)\n",
    "\n",
    "content = resp.json()"
   ]
  },
  {
   "cell_type": "code",
   "execution_count": 219,
   "metadata": {},
   "outputs": [
    {
     "data": {
      "text/plain": [
       "dict_keys(['paging', 'data'])"
      ]
     },
     "execution_count": 219,
     "metadata": {},
     "output_type": "execute_result"
    }
   ],
   "source": [
    "content.keys()"
   ]
  },
  {
   "cell_type": "code",
   "execution_count": 220,
   "metadata": {},
   "outputs": [
    {
     "data": {
      "text/plain": [
       "20"
      ]
     },
     "execution_count": 220,
     "metadata": {},
     "output_type": "execute_result"
    }
   ],
   "source": [
    "len(content.get('data'))\n",
    "# Same as len(content['data'])"
   ]
  },
  {
   "cell_type": "code",
   "execution_count": 221,
   "metadata": {
    "scrolled": true
   },
   "outputs": [],
   "source": [
    "# len(content.get('dataz'))\n",
    "# .get() is good if you don't know the key of the data"
   ]
  },
  {
   "cell_type": "code",
   "execution_count": 222,
   "metadata": {
    "scrolled": false
   },
   "outputs": [],
   "source": [
    "# len(content['dataz'])"
   ]
  },
  {
   "cell_type": "code",
   "execution_count": 223,
   "metadata": {
    "scrolled": true
   },
   "outputs": [],
   "source": [
    "# print(content.get('dataz', []))"
   ]
  },
  {
   "cell_type": "code",
   "execution_count": 224,
   "metadata": {},
   "outputs": [
    {
     "name": "stdout",
     "output_type": "stream",
     "text": [
      "[{'payment_id': 2270629401, 'permalink': '/story/5d49daee713eaf1ce5e8b88d', 'via': '', 'action_links': {}, 'transactions': [{'target': {'username': 'Jennifer-Cutshall-1', 'picture': 'https://venmopics.appspot.com/u/v1/m/628df888-858f-4e41-8eb3-3d2b3544b0e9', 'is_business': False, 'name': 'Jennifer Cutshall', 'firstname': 'Jennifer', 'lastname': 'Cutshall', 'cancelled': False, 'date_created': '2019-03-17T02:13:44', 'external_id': '2701306460372992968', 'id': '53700406'}}], 'story_id': '5d49daee713eaf1ce5e8b88d', 'comments': [], 'updated_time': '2019-08-06T19:54:22Z', 'audience': 'public', 'actor': {'username': 'Justin-Gehrls', 'picture': 'https://venmopics.appspot.com/u/v1/m/75575420-38aa-4c6e-bfb4-aaf9e3553712', 'is_business': False, 'name': 'Justin Gehrls', 'firstname': 'Justin', 'lastname': 'Gehrls', 'cancelled': False, 'date_created': '2017-04-13T17:45:12', 'external_id': '2192257943863296912', 'id': '20234512'}, 'created_time': '2019-08-06T19:54:22Z', 'mentions': [], 'message': 'Food for the fam. ❤️', 'type': 'payment', 'likes': {'count': 0, 'data': []}}, {'payment_id': 2270629402, 'permalink': '/story/5d49daee713eaf1ce5e8ba76', 'via': '', 'action_links': {}, 'transactions': [{'target': 'a phone number'}], 'story_id': '5d49daee713eaf1ce5e8ba76', 'comments': [], 'updated_time': '2019-08-06T19:54:22Z', 'audience': 'public', 'actor': {'username': 'Cammy-Manouselis', 'picture': 'https://graph.facebook.com/v2.10/1482408428464397/picture?type=large', 'is_business': False, 'name': 'Cammy Manouselis', 'firstname': 'Cammy', 'lastname': 'Manouselis', 'cancelled': False, 'date_created': '2017-06-22T23:57:24', 'external_id': '2243179579441152708', 'id': '22643453'}, 'created_time': '2019-08-06T19:54:22Z', 'mentions': [], 'message': '🎨 ⚽️', 'type': 'payment', 'likes': {'count': 0, 'data': []}}, {'payment_id': 2270629407, 'permalink': '/story/5d49daee713eaf1ce5e8be91', 'via': '', 'action_links': {}, 'transactions': [{'target': {'username': 'Yi-Zhou-Golf', 'picture': 'https://s3.amazonaws.com/venmo/no-image.gif', 'is_business': False, 'name': 'Yi Zhou', 'firstname': 'Yi', 'lastname': 'Zhou', 'cancelled': False, 'date_created': '2017-10-21T05:43:40', 'external_id': '2330326948904960178', 'id': '27708471'}}], 'story_id': '5d49daee713eaf1ce5e8be91', 'comments': [], 'updated_time': '2019-08-06T19:54:22Z', 'audience': 'public', 'actor': {'username': 'Lydia-Zhang-9', 'picture': 'https://venmopics.appspot.com/u/v1/m/36b5f5f5-8090-4d82-ae59-4086a5103881', 'is_business': False, 'name': 'Lydia Zhang', 'firstname': 'Lydia', 'lastname': 'Zhang', 'cancelled': False, 'date_created': '2019-08-06T19:22:39', 'external_id': '2804742484918273001', 'id': '62083789'}, 'created_time': '2019-08-06T19:54:22Z', 'mentions': [], 'message': '10 golf lessons fee from Lydia', 'type': 'payment', 'likes': {'count': 0, 'data': []}}, {'payment_id': 2270629409, 'permalink': '/story/5d49daee713eaf1ce5e8c0a5', 'via': '', 'action_links': {}, 'transactions': [{'target': {'username': 'Katie-Kaplan-2', 'picture': 'https://venmopics.appspot.com/u/v1/m/c890def1-4c00-481a-8803-a4e1d800255c', 'is_business': False, 'name': 'Katie Kaplan', 'firstname': 'Katie', 'lastname': 'Kaplan', 'cancelled': False, 'date_created': '2014-11-19T21:53:53', 'external_id': '1557479569752064939', 'id': '2875069'}}], 'story_id': '5d49daee713eaf1ce5e8c0a5', 'comments': [], 'updated_time': '2019-08-06T19:54:22Z', 'audience': 'public', 'actor': {'username': 'Dina-Goodman', 'picture': 'https://venmopics.appspot.com/u/v1/n/f854c474-1c54-48e2-a9f6-c970f8306bd1', 'is_business': False, 'name': 'Dina Goodman', 'firstname': 'Dina', 'lastname': 'Goodman', 'cancelled': False, 'date_created': '2014-02-08T05:23:33', 'external_id': '1351144811003904120', 'id': '1014431'}, 'created_time': '2019-08-06T19:54:22Z', 'mentions': [], 'message': '8/6 - thank you!!', 'type': 'payment', 'likes': {'count': 0, 'data': []}}, {'payment_id': 2270629411, 'permalink': '/story/5d49daee713eaf1ce5e8c227', 'via': '', 'action_links': {}, 'transactions': [{'target': {'username': 'samanthaalu', 'picture': 'https://venmopics.appspot.com/u/v1/m/ce6c26b5-33b8-4549-a8d6-93fa18e55a67', 'is_business': False, 'name': 'Samantha Lu', 'firstname': 'Samantha', 'lastname': 'Lu', 'cancelled': False, 'date_created': '2017-01-21T22:02:53', 'external_id': '2132956030173184928', 'id': '17619023'}}], 'story_id': '5d49daee713eaf1ce5e8c227', 'comments': [], 'updated_time': '2019-08-06T19:54:22Z', 'audience': 'public', 'actor': {'username': 'mattxie', 'picture': 'https://venmopics.appspot.com/u/v3/m/66cd2a32-3885-4278-a425-2383b378d3b2', 'is_business': False, 'name': 'Matthew Xie', 'firstname': 'Matthew', 'lastname': 'Xie', 'cancelled': False, 'date_created': '2017-04-16T19:31:09', 'external_id': '2194485597437952813', 'id': '20326781'}, 'created_time': '2019-08-06T19:54:22Z', 'mentions': [], 'message': 'thicc sticc', 'type': 'payment', 'likes': {'count': 0, 'data': []}}, {'payment_id': 2270629414, 'permalink': '/story/5d49daee713eaf1ce5e8c349', 'via': '', 'action_links': {}, 'transactions': [{'target': {'username': 'Monica-Burgat', 'picture': 'https://graph.facebook.com/v2.10/1296344817114872/picture?type=large', 'is_business': False, 'name': 'Monica Burgat', 'firstname': 'Monica', 'lastname': 'Burgat', 'cancelled': False, 'date_created': '2017-03-20T00:58:06', 'external_id': '2174356436287489008', 'id': '19430121'}}], 'story_id': '5d49daee713eaf1ce5e8c349', 'comments': [], 'updated_time': '2019-08-06T19:54:22Z', 'audience': 'public', 'actor': {'username': 'Stacy-Pennington21', 'picture': 'https://s3.amazonaws.com/venmo/no-image.gif', 'is_business': False, 'name': 'Stacy Pennington', 'firstname': 'Stacy', 'lastname': 'Pennington', 'cancelled': False, 'date_created': '2018-05-27T20:26:27', 'external_id': '2488772377706496349', 'id': '37393260'}, 'created_time': '2019-08-06T19:54:22Z', 'mentions': [], 'message': 'Cardi!', 'type': 'payment', 'likes': {'count': 0, 'data': []}}, {'payment_id': 2270629424, 'permalink': '/story/5d49daee713eaf1ce5e8cefb', 'via': '', 'action_links': {}, 'transactions': [{'target': {'username': 'AdamChristian10', 'picture': 'https://venmopics.appspot.com/u/v1/m/499da1a9-88bf-4eed-b5cb-dd957243a4fe', 'is_business': False, 'name': 'Adam Christian', 'firstname': 'Adam', 'lastname': 'Christian', 'cancelled': False, 'date_created': '2018-02-05T02:33:41', 'external_id': '2407782330400768412', 'id': '32180031'}}], 'story_id': '5d49daee713eaf1ce5e8cefb', 'comments': [], 'updated_time': '2019-08-06T19:54:22Z', 'audience': 'public', 'actor': {'username': 'CreatedAMonster', 'picture': 'https://s3.amazonaws.com/venmo/no-image.gif', 'is_business': False, 'name': 'Matthew Hetlage', 'firstname': 'Matthew', 'lastname': 'Hetlage', 'cancelled': False, 'date_created': '2019-08-06T19:48:14', 'external_id': '2804755361431552675', 'id': '62085591'}, 'created_time': '2019-08-06T19:54:22Z', 'mentions': [], 'message': 'Fantasy', 'type': 'payment', 'likes': {'count': 0, 'data': []}}, {'payment_id': 2270629423, 'permalink': '/story/5d49daee713eaf1ce5e8ce4f', 'via': '', 'action_links': {}, 'transactions': [{'target': {'username': 'Jake-Burger-2', 'picture': 'https://venmopics.appspot.com/u/v1/n/4c622943-1c10-4970-8a9b-c318cb1b5989', 'is_business': False, 'name': 'Jake Burger', 'firstname': 'Jake', 'lastname': 'Burger', 'cancelled': False, 'date_created': '2015-05-07T16:20:07', 'external_id': '1679798678061056957', 'id': '4615660'}}], 'story_id': '5d49daee713eaf1ce5e8ce4f', 'comments': [], 'updated_time': '2019-08-06T19:54:22Z', 'audience': 'public', 'actor': {'username': 'Eric-Lalley', 'picture': 'https://venmopics.appspot.com/u/v1/m/d07445a1-091b-4791-bc7e-a5d458c63b7d', 'is_business': False, 'name': 'Eric Lalley', 'firstname': 'Eric', 'lastname': 'Lalley', 'cancelled': False, 'date_created': '2017-06-18T22:44:18', 'external_id': '2240243684081664352', 'id': '22495667'}, 'created_time': '2019-08-06T19:54:22Z', 'mentions': [], 'message': 'Ping', 'type': 'payment', 'likes': {'count': 0, 'data': []}}, {'payment_id': 2270629426, 'permalink': '/story/5d49daee713eaf1ce5e8cf63', 'via': '', 'action_links': {}, 'transactions': [{'target': {'username': 'Timmy-Martinez', 'picture': 'https://graph.facebook.com/v2.10/1230950856986581/picture?type=large', 'is_business': False, 'name': 'Timmy Martinez', 'firstname': 'Timmy', 'lastname': 'Martinez', 'cancelled': False, 'date_created': '2016-12-29T04:33:42', 'external_id': '2115758117093376892', 'id': '16923605'}}], 'story_id': '5d49daee713eaf1ce5e8cf63', 'comments': [], 'updated_time': '2019-08-06T19:54:22Z', 'audience': 'public', 'actor': {'username': 'joshsatterlee', 'picture': 'https://s3.amazonaws.com/venmo/no-image.gif', 'is_business': False, 'name': 'Josh Satterlee', 'firstname': 'Josh', 'lastname': 'Satterlee', 'cancelled': False, 'date_created': '2015-09-03T06:11:00', 'external_id': '1765740411617280527', 'id': '6195013'}, 'created_time': '2019-08-06T19:54:22Z', 'mentions': [], 'message': 'Claws', 'type': 'charge', 'likes': {'count': 0, 'data': []}}, {'payment_id': 2270629430, 'permalink': '/story/5d49daee713eaf1ce5e8d2f2', 'via': '', 'action_links': {}, 'transactions': [{'target': {'username': 'Marion-Parisi', 'picture': 'https://venmopics.appspot.com/u/v6/m/35c40591-3ba0-43ba-90ee-6a5d326a31ae', 'is_business': False, 'name': 'Marion Parisi', 'firstname': 'Marion', 'lastname': 'Parisi', 'cancelled': False, 'date_created': '2016-02-16T16:24:19', 'external_id': '1886361875382272856', 'id': '8972729'}}], 'story_id': '5d49daee713eaf1ce5e8d2f2', 'comments': [], 'updated_time': '2019-08-06T19:54:22Z', 'audience': 'public', 'actor': {'username': 'Philip-Michel-1', 'picture': 'https://s3.amazonaws.com/venmo/no-image.gif', 'is_business': False, 'name': 'Philip Michel', 'firstname': 'Philip', 'lastname': 'Michel', 'cancelled': False, 'date_created': '2016-09-09T17:05:32', 'external_id': '2035686421037056859', 'id': '13708674'}, 'created_time': '2019-08-06T19:54:22Z', 'mentions': [], 'message': 'George M.', 'type': 'payment', 'likes': {'count': 0, 'data': []}}, {'payment_id': 2270629436, 'permalink': '/story/5d49daee713eaf1ce5e8d944', 'via': '', 'action_links': {}, 'transactions': [{'target': {'username': 'AbbyPulliam', 'picture': 'https://venmopics.appspot.com/u/v1/m/d4eb484a-817f-4a78-b7c5-7c8d8ab3fad1', 'is_business': False, 'name': 'Abby Pulliam', 'firstname': 'Abby', 'lastname': 'Pulliam', 'cancelled': False, 'date_created': '2014-12-01T21:55:13', 'external_id': '1566177549615104815', 'id': '2972298'}}], 'story_id': '5d49daee713eaf1ce5e8d944', 'comments': [], 'updated_time': '2019-08-06T19:54:22Z', 'audience': 'public', 'actor': {'username': 'KellyPopelar', 'picture': 'https://venmopics.appspot.com/u/v1/m/9c3b953f-c6c3-4377-92b5-4ac45872ceab', 'is_business': False, 'name': 'Kelly Popelar', 'firstname': 'Kelly', 'lastname': 'Popelar', 'cancelled': False, 'date_created': '2015-09-29T16:54:11', 'external_id': '1784908305399808895', 'id': '6641853'}, 'created_time': '2019-08-06T19:54:22Z', 'mentions': [], 'message': 'Bar🚲🍾🍻', 'type': 'charge', 'likes': {'count': 0, 'data': []}}, {'payment_id': 2270629437, 'permalink': '/story/5d49daee713eaf1ce5e8dbfd', 'via': '', 'action_links': {}, 'transactions': [{'target': {'username': 'claireliston', 'picture': 'https://venmopics.appspot.com/u/v2/m/71b9c589-1d25-446a-ac7a-897b93b95863', 'is_business': False, 'name': 'Claire Liston', 'firstname': 'Claire', 'lastname': 'Liston', 'cancelled': False, 'date_created': '2016-10-09T16:19:35', 'external_id': '2057406565580800206', 'id': '14633330'}}], 'story_id': '5d49daee713eaf1ce5e8dbfd', 'comments': [], 'updated_time': '2019-08-06T19:54:22Z', 'audience': 'public', 'actor': {'username': 'KellyPopelar', 'picture': 'https://venmopics.appspot.com/u/v1/m/9c3b953f-c6c3-4377-92b5-4ac45872ceab', 'is_business': False, 'name': 'Kelly Popelar', 'firstname': 'Kelly', 'lastname': 'Popelar', 'cancelled': False, 'date_created': '2015-09-29T16:54:11', 'external_id': '1784908305399808895', 'id': '6641853'}, 'created_time': '2019-08-06T19:54:22Z', 'mentions': [], 'message': 'Bar🚲🍾🍻', 'type': 'charge', 'likes': {'count': 0, 'data': []}}, {'payment_id': 2270629441, 'permalink': '/story/5d49daee713eaf1ce5e8df3a', 'via': '', 'action_links': {}, 'transactions': [{'target': {'username': 'zach_can2', 'picture': 'https://venmopics.appspot.com/u/v1/n/752ae164-14f2-41f0-a3e2-dbabffa726aa', 'is_business': False, 'name': 'Zachary Cantu', 'firstname': 'Zachary', 'lastname': 'Cantu', 'cancelled': False, 'date_created': '2016-06-24T00:18:31', 'external_id': '1979371841650688215', 'id': '11671976'}}], 'story_id': '5d49daee713eaf1ce5e8df3a', 'comments': [], 'updated_time': '2019-08-06T19:54:22Z', 'audience': 'public', 'actor': {'username': 'Ethan-Cantu-1', 'picture': 'https://venmopics.appspot.com/u/v2/n/c87c07db-758a-408b-aeeb-8de9ea66cc71', 'is_business': False, 'name': 'Ethan Cantu', 'firstname': 'Ethan', 'lastname': 'Cantu', 'cancelled': False, 'date_created': '2017-01-15T21:55:20', 'external_id': '2128603575746560976', 'id': '17438309'}, 'created_time': '2019-08-06T19:54:22Z', 'mentions': [], 'message': \"The scent of desert wildflowers, dipped in a sandy glaze, meet a bewildering engagement with the aged wood, disrobing Spring's sundress. Her smell runs sour.\", 'type': 'payment', 'likes': {'count': 0, 'data': []}}, {'payment_id': 2270629443, 'permalink': '/story/5d49daee713eaf1ce5e8e198', 'via': '', 'action_links': {}, 'transactions': [{'target': {'username': 'Alec-Rodriguez-3', 'picture': 'https://venmopics.appspot.com/u/v1/n/4177c898-ddfd-40f4-9f9a-0bb09fe4f135', 'is_business': False, 'name': 'Alec Rodriguez', 'firstname': 'Alec', 'lastname': 'Rodriguez', 'cancelled': False, 'date_created': '2015-06-23T01:12:14', 'external_id': '1713406184783872897', 'id': '5180408'}}], 'story_id': '5d49daee713eaf1ce5e8e198', 'comments': [], 'updated_time': '2019-08-06T19:54:22Z', 'audience': 'public', 'actor': {'username': 'm0ppu', 'picture': 'https://s3.amazonaws.com/venmo/no-image.gif', 'is_business': False, 'name': 'Thomas Butcher', 'firstname': 'Thomas', 'lastname': 'Butcher', 'cancelled': False, 'date_created': '2019-02-06T03:14:07', 'external_id': '2673070598782976971', 'id': '51447236'}, 'created_time': '2019-08-06T19:54:22Z', 'mentions': [], 'message': '🐕', 'type': 'payment', 'likes': {'count': 0, 'data': []}}, {'payment_id': 2270629444, 'permalink': '/story/5d49daee713eaf1ce5e8e1cd', 'via': '', 'action_links': {}, 'transactions': [{'target': {'username': 'Mpac116', 'picture': 'https://venmopics.appspot.com/u/v1/m/66712b38-de89-4887-bf17-9e155565fae9', 'is_business': False, 'name': 'Matthew Packen', 'firstname': 'Matthew', 'lastname': 'Packen', 'cancelled': False, 'date_created': '2015-05-28T22:32:29', 'external_id': '1695206386696192610', 'id': '4866767'}}], 'story_id': '5d49daee713eaf1ce5e8e1cd', 'comments': [], 'updated_time': '2019-08-06T19:54:22Z', 'audience': 'public', 'actor': {'username': 'Justin-Voelker', 'picture': 'https://venmopics.appspot.com/u/v3/m/7b88bdf7-16dc-4b0e-8516-dcfa19e45e7d', 'is_business': False, 'name': 'Justin Voelker', 'firstname': 'Justin', 'lastname': 'Voelker', 'cancelled': False, 'date_created': '2016-02-27T06:08:53', 'external_id': '1894024650686464794', 'id': '9175030'}, 'created_time': '2019-08-06T19:54:22Z', 'mentions': [], 'message': 'Survivor ☠️', 'type': 'payment', 'likes': {'count': 0, 'data': []}}, {'payment_id': 2270629331, 'permalink': '/story/5d49daed713eaf1ce5e889de', 'via': '', 'action_links': {}, 'transactions': [{'target': {'username': 'Jordan-Seidenberg', 'picture': 'https://venmopics.appspot.com/u/v1/m/ba1418f1-6475-4ef8-b6ef-f41bcc3f3dd5', 'is_business': False, 'name': 'Jordan Seidenberg', 'firstname': 'Jordan', 'lastname': 'Seidenberg', 'cancelled': False, 'date_created': '2018-06-07T13:51:28', 'external_id': '2496546109128704151', 'id': '37921712'}}], 'story_id': '5d49daed713eaf1ce5e889de', 'comments': [], 'updated_time': '2019-08-06T19:54:21Z', 'audience': 'public', 'actor': {'username': 'yoseph-vilinsky', 'picture': 'https://s3.amazonaws.com/venmo/no-image.gif', 'is_business': False, 'name': 'yoseph vilinsky', 'firstname': 'yoseph', 'lastname': 'vilinsky', 'cancelled': False, 'date_created': '2018-07-19T07:54:21', 'external_id': '2526806947135488167', 'id': '39978014'}, 'created_time': '2019-08-06T19:54:21Z', 'mentions': [], 'message': '.', 'type': 'payment', 'likes': {'count': 0, 'data': []}}, {'payment_id': 2270629330, 'permalink': '/story/5d49daed713eaf1ce5e88997', 'via': '', 'action_links': {}, 'transactions': [{'target': {'username': 'Jordan-Eastman-4', 'picture': 'https://graph.facebook.com/v2.10/10156108186485330/picture?type=large', 'is_business': False, 'name': 'Jordan Eastman', 'firstname': 'Jordan', 'lastname': 'Eastman', 'cancelled': False, 'date_created': '2018-03-27T03:04:15', 'external_id': '2444036501667840970', 'id': '34533000'}}], 'story_id': '5d49daed713eaf1ce5e88997', 'comments': [], 'updated_time': '2019-08-06T19:54:21Z', 'audience': 'public', 'actor': {'username': 'Nate-Most17', 'picture': 'https://venmopics.appspot.com/u/v1/m/2a74e558-88ff-49d9-b210-f37230a37aaf', 'is_business': False, 'name': 'Nate Most', 'firstname': 'Nate', 'lastname': 'Most', 'cancelled': False, 'date_created': '2018-12-07T18:50:41', 'external_id': '2629330668617728936', 'id': '48082358'}, 'created_time': '2019-08-06T19:54:21Z', 'mentions': [], 'message': '🎸', 'type': 'payment', 'likes': {'count': 0, 'data': []}}, {'payment_id': 2270629333, 'permalink': '/story/5d49daed713eaf1ce5e88ad0', 'via': '', 'action_links': {}, 'transactions': [{'target': {'username': 'meaghanrose14', 'picture': 'https://s3.amazonaws.com/venmo/no-image.gif', 'is_business': False, 'name': 'Meaghan Hughes', 'firstname': 'Meaghan', 'lastname': 'Hughes', 'cancelled': False, 'date_created': '2017-01-22T02:11:44', 'external_id': '2133081280479232907', 'id': '17626423'}}], 'story_id': '5d49daed713eaf1ce5e88ad0', 'comments': [], 'updated_time': '2019-08-06T19:54:21Z', 'audience': 'public', 'actor': {'username': 'Sophie-Lefcourt', 'picture': 'https://graph.facebook.com/v2.10/10205226260449336/picture?type=large', 'is_business': False, 'name': 'Sophie Lefcourt', 'firstname': 'Sophie', 'lastname': 'Lefcourt', 'cancelled': False, 'date_created': '2015-02-27T03:43:17', 'external_id': '1629408225918976463', 'id': '3816315'}, 'created_time': '2019-08-06T19:54:21Z', 'mentions': [], 'message': 'Just the tip ;)', 'type': 'payment', 'likes': {'count': 0, 'data': []}}, {'payment_id': 2270629336, 'permalink': '/story/5d49daed713eaf1ce5e88bd4', 'via': '', 'action_links': {}, 'transactions': [{'target': {'username': 'civita-Lape', 'picture': 'https://venmopics.appspot.com/u/v4/m/e1a53650-e581-43b1-ae9e-4c2076011f2e', 'is_business': False, 'name': 'civita Lape', 'firstname': 'civita', 'lastname': 'Lape', 'cancelled': False, 'date_created': '2019-07-22T18:36:35', 'external_id': '2793847662837760806', 'id': '61137996'}}], 'story_id': '5d49daed713eaf1ce5e88bd4', 'comments': [], 'updated_time': '2019-08-06T19:54:21Z', 'audience': 'public', 'actor': {'username': 'Cara-Ayana', 'picture': 'https://venmopics.appspot.com/u/v1/m/04519766-150a-4588-a7aa-88cfcf3cfaea', 'is_business': False, 'name': 'Cara Ayana', 'firstname': 'Cara', 'lastname': 'Ayana', 'cancelled': False, 'date_created': '2018-04-08T02:25:24', 'external_id': '2452714256596992872', 'id': '35074089'}, 'created_time': '2019-08-06T19:54:21Z', 'mentions': [], 'message': 'Cheesecake Factory 🏭', 'type': 'payment', 'likes': {'count': 0, 'data': []}}, {'payment_id': 2270629332, 'permalink': '/story/5d49daed713eaf1ce5e88afb', 'via': '', 'action_links': {}, 'transactions': [{'target': {'username': 'Quenten-Jordan', 'picture': 'https://venmopics.appspot.com/u/v2/m/538f56d9-c3bf-45ef-89a4-c9f8e90d21bd', 'is_business': False, 'name': 'Quenten Jordan', 'firstname': 'Quenten', 'lastname': 'Jordan', 'cancelled': False, 'date_created': '2017-12-20T02:44:06', 'external_id': '2373723113914368574', 'id': '30195339'}}], 'story_id': '5d49daed713eaf1ce5e88afb', 'comments': [], 'updated_time': '2019-08-06T19:54:21Z', 'audience': 'public', 'actor': {'username': 'Carrie-Jordan-13', 'picture': 'https://graph.facebook.com/v2.10/10216875736711474/picture?type=large', 'is_business': False, 'name': 'Carrie Jordan', 'firstname': 'Carrie', 'lastname': 'Jordan', 'cancelled': False, 'date_created': '2018-05-16T19:45:55', 'external_id': '2480779443568640711', 'id': '36886849'}, 'created_time': '2019-08-06T19:54:21Z', 'mentions': [], 'message': 'Nyguard', 'type': 'payment', 'likes': {'count': 0, 'data': []}}]\n"
     ]
    }
   ],
   "source": [
    "print(content.get('data', []))"
   ]
  },
  {
   "cell_type": "code",
   "execution_count": 225,
   "metadata": {},
   "outputs": [
    {
     "name": "stdout",
     "output_type": "stream",
     "text": [
      "dict_keys(['payment_id', 'permalink', 'via', 'action_links', 'transactions', 'story_id', 'comments', 'updated_time', 'audience', 'actor', 'created_time', 'mentions', 'message', 'type', 'likes'])\n"
     ]
    }
   ],
   "source": [
    "print(content.get('data')[0].keys())"
   ]
  },
  {
   "cell_type": "code",
   "execution_count": 226,
   "metadata": {},
   "outputs": [
    {
     "name": "stdout",
     "output_type": "stream",
     "text": [
      "Food for the fam. ❤️\n",
      "🎨 ⚽️\n",
      "10 golf lessons fee from Lydia\n",
      "8/6 - thank you!!\n",
      "thicc sticc\n",
      "Cardi!\n",
      "Fantasy\n",
      "Ping\n",
      "Claws\n",
      "George M.\n",
      "Bar🚲🍾🍻\n",
      "Bar🚲🍾🍻\n",
      "The scent of desert wildflowers, dipped in a sandy glaze, meet a bewildering engagement with the aged wood, disrobing Spring's sundress. Her smell runs sour.\n",
      "🐕\n",
      "Survivor ☠️\n",
      ".\n",
      "🎸\n",
      "Just the tip ;)\n",
      "Cheesecake Factory 🏭\n",
      "Nyguard\n"
     ]
    }
   ],
   "source": [
    "# Get message for each element in content.\n",
    "# * = break into seperate lines\n",
    "print(*[x['message'] for x in content.get('data')], sep='\\n')"
   ]
  },
  {
   "cell_type": "markdown",
   "metadata": {},
   "source": [
    "## The components of a web page\n"
   ]
  },
  {
   "cell_type": "markdown",
   "metadata": {},
   "source": [
    "When we visit a web page, our web browser makes a GET request to a web server. The server then sends back files that tell our browser how to render the page for us. The files fall into a few main types:\n",
    "\n",
    "- HTML — contain the main content of the page.\n",
    "- CSS — add styling to make the page look nicer.\n",
    "- JS — Javascript files add interactivity to web pages.\n",
    "- Images — image formats, such as JPG and PNG allow web pages to show pictures.\n",
    "\n",
    "After our browser receives all the files, it renders the page and displays it to us. There’s a lot that happens behind the scenes to render a page nicely, but we don’t need to worry about most of it when we’re web scraping."
   ]
  },
  {
   "cell_type": "markdown",
   "metadata": {},
   "source": [
    "### HTML\n",
    "\n",
    "\n",
    "HyperText Markup Language (HTML) is a language that web pages are created in. HTML isn’t a programming language, like Python — instead, it’s a markup language that tells a browser how to layout content. \n",
    "\n",
    "Let’s take a quick tour through HTML so we know enough to scrape effectively. HTML consists of elements called tags. The most basic tag is the `<html>` tag. This tag tells the web browser that everything inside of it is HTML. We can make a simple HTML document just using this tag:\n",
    "\n",
    "~~~\n",
    "<html>\n",
    "</html>\n",
    "~~~\n",
    "&#x2B07; Example cell with html in Markdown!"
   ]
  },
  {
   "cell_type": "markdown",
   "metadata": {},
   "source": [
    "<html>\n",
    "</html>"
   ]
  },
  {
   "cell_type": "markdown",
   "metadata": {},
   "source": [
    "Right inside an html tag, we put two other tags, the head tag, and the body tag. The main content of the web page goes into the body tag. The head tag contains data about the title of the page, and other information that generally isn’t useful in web scraping:\n",
    "\n",
    "~~~\n",
    "<html>\n",
    "    <head>\n",
    "    </head>\n",
    "    <body>\n",
    "    </body>\n",
    "</html>\n",
    "~~~"
   ]
  },
  {
   "cell_type": "markdown",
   "metadata": {},
   "source": [
    "We’ll now add our first content to the page, in the form of the p tag. The p tag defines a paragraph, and any text inside the tag is shown as a separate paragraph:\n",
    "~~~\n",
    "<html>\n",
    "    <head>\n",
    "    </head>\n",
    "    <body>\n",
    "          <p>\n",
    "            Here's a paragraph of text!\n",
    "        </p>\n",
    "        <p>\n",
    "            Here's a second paragraph of text!\n",
    "        </p>\n",
    "    </body>\n",
    "</html>\n",
    "~~~"
   ]
  },
  {
   "cell_type": "markdown",
   "metadata": {},
   "source": [
    "<html>\n",
    "    <head>\n",
    "    </head>\n",
    "    <body>\n",
    "          <p>\n",
    "            Here's a paragraph of text!\n",
    "        </p>\n",
    "        <p>\n",
    "            Here's a second paragraph of text!\n",
    "        </p>\n",
    "    </body>\n",
    "</html>"
   ]
  },
  {
   "cell_type": "markdown",
   "metadata": {},
   "source": [
    "Tags have commonly used names that depend on their position in relation to other tags:\n",
    "\n",
    "- **child** — a child is a tag inside another tag. So the two p tags above are both children of the body tag.\n",
    "- **parent** — a parent is the tag another tag is inside. Above, the html tag is the parent of the body tag.\n",
    "- **sibiling** — a sibiling is a tag that is nested inside the same parent as another tag. For example, head and body are siblings, since they’re both inside html. Both p tags are siblings, since they’re both inside body."
   ]
  },
  {
   "cell_type": "markdown",
   "metadata": {},
   "source": [
    "We can also add properties to HTML tags that change their behavior:\n",
    "\n",
    "~~~\n",
    "<html>\n",
    "  <head></head>\n",
    "  <body>\n",
    "    <p>\n",
    "      Here's a paragraph of text!\n",
    "      <a href=\"https://www.dataquest.io\">Learn Data Science Online</a>\n",
    "    </p>\n",
    "    <p>\n",
    "      Here's a second paragraph of text!\n",
    "      <a href=\"https://www.python.org\">Python</a>        \n",
    "    </p>\n",
    "  </body>\n",
    "</html>\n",
    "~~~"
   ]
  },
  {
   "cell_type": "markdown",
   "metadata": {},
   "source": [
    "<html>\n",
    "    <head>\n",
    "    </head>\n",
    "    <body>\n",
    "        <p>\n",
    "            Here's a paragraph of text!\n",
    "            <a href=\"https://www.dataquest.io\">Learn Data Science Online</a>\n",
    "        </p>\n",
    "        <p>\n",
    "            Here's a second paragraph of text!\n",
    "            <a href=\"https://www.python.org\">Python</a>        </p>\n",
    "    </body></html>"
   ]
  },
  {
   "cell_type": "markdown",
   "metadata": {},
   "source": [
    "In the above example, we added two a tags. a tags are links, and tell the browser to render a link to another web page. The href property of the tag determines where the link goes.\n",
    "\n",
    "a and p are extremely common html tags. Here are a few others:\n",
    "\n",
    "- *div* — indicates a division, or area, of the page.\n",
    "- *b* — bolds any text inside.\n",
    "- *i* — italicizes any text inside.\n",
    "- *table* — creates a table.\n",
    "- *form* — creates an input form.\n",
    "\n",
    "\n",
    "For a full list of tags, look [here](https://developer.mozilla.org/en-US/docs/Web/HTML/Element)."
   ]
  },
  {
   "cell_type": "markdown",
   "metadata": {},
   "source": [
    "There are two special properties give HTML elements names, and make them easier to interact with when we’re scraping, **class** and **id** properties. \n",
    "\n",
    "- One element can have multiple classes, and a class can be shared between elements. \n",
    "- Each element can only have one id, and an id can only be used once on a page. \n",
    "- Classes and ids are optional, and not all elements will have them.\n",
    "\n",
    "We can add classes and ids to our example:\n",
    "\n",
    "~~~\n",
    "<html>\n",
    "    <head>\n",
    "    </head>\n",
    "    <body>\n",
    "        <p class=\"bold-paragraph\">\n",
    "            Here's a paragraph of text!\n",
    "            <a href=\"https://www.dataquest.io\" id=\"learn-link\">Learn Data Science Online</a>\n",
    "        </p>\n",
    "        <p class=\"bold-paragraph extra-large\">\n",
    "            Here's a second paragraph of text!\n",
    "            <a href=\"https://www.python.org\" class=\"extra-large\">Python</a>\n",
    "        </p>\n",
    "    </body>\n",
    "</html>\n",
    "~~~"
   ]
  },
  {
   "cell_type": "markdown",
   "metadata": {},
   "source": [
    "<html>\n",
    "    <head>\n",
    "    </head>\n",
    "    <body>\n",
    "        <p class=\"bold-paragraph\">\n",
    "            Here's a paragraph of text!\n",
    "            <a href=\"https://www.dataquest.io\" id=\"learn-link\">Learn Data Science Online</a>\n",
    "        </p>\n",
    "        <p class=\"bold-paragraph extra-large\">\n",
    "            Here's a second paragraph of text!\n",
    "            <a href=\"https://www.python.org\" class=\"extra-large\">Python</a>\n",
    "        </p>\n",
    "    </body>\n",
    "</html>"
   ]
  },
  {
   "cell_type": "markdown",
   "metadata": {},
   "source": [
    "## Apply this knowledge\n",
    "\n",
    "Let's go to a webpage and change some of the HTML to see what happens. \n",
    "\n",
    "- Open up a webpage in Chrome.\n",
    "- Right click and 'inspect element.\n",
    "\n",
    "- Change the text in a tag.\n",
    "- Change the class of a tag.\n",
    "- Find a tag with an ID and remove it.\n",
    "\n"
   ]
  },
  {
   "cell_type": "markdown",
   "metadata": {},
   "source": [
    "## Webscraping with Python"
   ]
  },
  {
   "cell_type": "markdown",
   "metadata": {},
   "source": [
    "### The requests library\n",
    "The first thing we’ll need to do to scrape a web page is to download the page. We can download pages using the Python requests library (similar to interacting with APIs!)."
   ]
  },
  {
   "cell_type": "code",
   "execution_count": 11,
   "metadata": {},
   "outputs": [
    {
     "data": {
      "text/plain": [
       "<Response [200]>"
      ]
     },
     "execution_count": 11,
     "metadata": {},
     "output_type": "execute_result"
    }
   ],
   "source": [
    "import requests\n",
    "page = requests.get(\n",
    "    \"http://dataquestio.github.io/web-scraping-pages/simple.html\")\n",
    "page"
   ]
  },
  {
   "cell_type": "markdown",
   "metadata": {},
   "source": [
    "After running our request, we get a Response object. This object has a status_code property, which indicates if the page was downloaded successfully:"
   ]
  },
  {
   "cell_type": "code",
   "execution_count": 12,
   "metadata": {},
   "outputs": [
    {
     "data": {
      "text/plain": [
       "200"
      ]
     },
     "execution_count": 12,
     "metadata": {},
     "output_type": "execute_result"
    }
   ],
   "source": [
    "page.status_code"
   ]
  },
  {
   "cell_type": "markdown",
   "metadata": {},
   "source": [
    "We can print out the HTML content of the page using the content property:"
   ]
  },
  {
   "cell_type": "code",
   "execution_count": 14,
   "metadata": {},
   "outputs": [
    {
     "name": "stdout",
     "output_type": "stream",
     "text": [
      "b'<!DOCTYPE html>\\n<html>\\n    <head>\\n        <title>A simple example page</title>\\n    </head>\\n    <body>\\n        <p>Here is some simple content for this page.</p>\\n    </body>\\n</html>'\n"
     ]
    }
   ],
   "source": [
    "print(page.content)"
   ]
  },
  {
   "cell_type": "code",
   "execution_count": 15,
   "metadata": {},
   "outputs": [
    {
     "name": "stdout",
     "output_type": "stream",
     "text": [
      "<!DOCTYPE html>\n",
      "<html>\n",
      "    <head>\n",
      "        <title>A simple example page</title>\n",
      "    </head>\n",
      "    <body>\n",
      "        <p>Here is some simple content for this page.</p>\n",
      "    </body>\n",
      "</html>\n"
     ]
    }
   ],
   "source": [
    "print(page.text)"
   ]
  },
  {
   "cell_type": "markdown",
   "metadata": {},
   "source": [
    "### Parsing a page with BeautifulSoup\n",
    "\n",
    "We can use the BeautifulSoup library to parse this document, and extract the text from the `<p>` tag. "
   ]
  },
  {
   "cell_type": "code",
   "execution_count": 16,
   "metadata": {},
   "outputs": [
    {
     "data": {
      "text/plain": [
       "<!DOCTYPE html>\n",
       "<html>\n",
       "<head>\n",
       "<title>A simple example page</title>\n",
       "</head>\n",
       "<body>\n",
       "<p>Here is some simple content for this page.</p>\n",
       "</body>\n",
       "</html>"
      ]
     },
     "execution_count": 16,
     "metadata": {},
     "output_type": "execute_result"
    }
   ],
   "source": [
    "from bs4 import BeautifulSoup\n",
    "soup = BeautifulSoup(page.content)\n",
    "soup"
   ]
  },
  {
   "cell_type": "code",
   "execution_count": 17,
   "metadata": {},
   "outputs": [
    {
     "name": "stdout",
     "output_type": "stream",
     "text": [
      "<!DOCTYPE html>\n",
      "<html>\n",
      " <head>\n",
      "  <title>\n",
      "   A simple example page\n",
      "  </title>\n",
      " </head>\n",
      " <body>\n",
      "  <p>\n",
      "   Here is some simple content for this page.\n",
      "  </p>\n",
      " </body>\n",
      "</html>\n"
     ]
    }
   ],
   "source": [
    "print(soup.prettify())"
   ]
  },
  {
   "cell_type": "markdown",
   "metadata": {},
   "source": [
    "As all the tags are nested, we can move through the structure one level at a time. We can first select all the elements at the top level of the page using the `children` property of `soup`."
   ]
  },
  {
   "cell_type": "code",
   "execution_count": 18,
   "metadata": {},
   "outputs": [
    {
     "data": {
      "text/plain": [
       "['html', <html>\n",
       " <head>\n",
       " <title>A simple example page</title>\n",
       " </head>\n",
       " <body>\n",
       " <p>Here is some simple content for this page.</p>\n",
       " </body>\n",
       " </html>]"
      ]
     },
     "execution_count": 18,
     "metadata": {},
     "output_type": "execute_result"
    }
   ],
   "source": [
    "list(soup.children)"
   ]
  },
  {
   "cell_type": "markdown",
   "metadata": {},
   "source": [
    "The above tells us that there are two tags at the top level of the page — the initial `<!DOCTYPE html>` tag, and the `<html>` tag. There is a newline character `(\\n)` in the list as well. Let’s see what the type of each element in the list is:"
   ]
  },
  {
   "cell_type": "code",
   "execution_count": 19,
   "metadata": {},
   "outputs": [
    {
     "data": {
      "text/plain": [
       "[bs4.element.Doctype, bs4.element.Tag]"
      ]
     },
     "execution_count": 19,
     "metadata": {},
     "output_type": "execute_result"
    }
   ],
   "source": [
    "[type(item) for item in list(soup.children)]"
   ]
  },
  {
   "cell_type": "markdown",
   "metadata": {},
   "source": [
    "The `Tag` object allows us to navigate through an HTML document, and extract other tags and text. You can learn more about the various `BeautifulSoup` objects [here](https://www.crummy.com/software/BeautifulSoup/bs4/doc/#kinds-of-objects).\n",
    "\n",
    "We can now select the html tag and its children by taking the second item in the list:\n",
    "\n"
   ]
  },
  {
   "cell_type": "code",
   "execution_count": 20,
   "metadata": {},
   "outputs": [],
   "source": [
    "html = list(soup.children)[1]"
   ]
  },
  {
   "cell_type": "markdown",
   "metadata": {},
   "source": [
    "Each item in the list returned by the `children` property is also a `BeautifulSoup` object, so we can also call the `children` method on `html`.\n",
    "\n",
    "Now, we can find the `children` inside the `html` tag:"
   ]
  },
  {
   "cell_type": "code",
   "execution_count": 21,
   "metadata": {},
   "outputs": [
    {
     "data": {
      "text/plain": [
       "['\\n', <head>\n",
       " <title>A simple example page</title>\n",
       " </head>, '\\n', <body>\n",
       " <p>Here is some simple content for this page.</p>\n",
       " </body>, '\\n']"
      ]
     },
     "execution_count": 21,
     "metadata": {},
     "output_type": "execute_result"
    }
   ],
   "source": [
    "list(html.children)"
   ]
  },
  {
   "cell_type": "markdown",
   "metadata": {},
   "source": [
    "As you can see above, there are two tags here, `head`, and `body`. We want to extract the text inside the `p` tag, so we’ll dive into the body:"
   ]
  },
  {
   "cell_type": "code",
   "execution_count": 23,
   "metadata": {},
   "outputs": [
    {
     "data": {
      "text/plain": [
       "<body>\n",
       "<p>Here is some simple content for this page.</p>\n",
       "</body>"
      ]
     },
     "execution_count": 23,
     "metadata": {},
     "output_type": "execute_result"
    }
   ],
   "source": [
    "body = list(html.children)[3]\n",
    "body"
   ]
  },
  {
   "cell_type": "markdown",
   "metadata": {},
   "source": [
    "We can now isolate the `p` tag:\n",
    "\n"
   ]
  },
  {
   "cell_type": "code",
   "execution_count": 25,
   "metadata": {},
   "outputs": [
    {
     "data": {
      "text/plain": [
       "<p>Here is some simple content for this page.</p>"
      ]
     },
     "execution_count": 25,
     "metadata": {},
     "output_type": "execute_result"
    }
   ],
   "source": [
    "p = list(body.children)[1]\n",
    "p"
   ]
  },
  {
   "cell_type": "markdown",
   "metadata": {},
   "source": [
    "Once we’ve isolated the tag, we can use the `get_text` method to extract all of the text inside the tag:"
   ]
  },
  {
   "cell_type": "code",
   "execution_count": 26,
   "metadata": {},
   "outputs": [
    {
     "data": {
      "text/plain": [
       "'Here is some simple content for this page.'"
      ]
     },
     "execution_count": 26,
     "metadata": {},
     "output_type": "execute_result"
    }
   ],
   "source": [
    "p.get_text()"
   ]
  },
  {
   "cell_type": "markdown",
   "metadata": {},
   "source": [
    "### Finding all instances of a tag at once\n",
    "\n",
    "If we want to extract a single tag, we can instead use the find_all method, which will find all the instances of a tag on a page."
   ]
  },
  {
   "cell_type": "code",
   "execution_count": 27,
   "metadata": {},
   "outputs": [
    {
     "data": {
      "text/plain": [
       "[<p>Here is some simple content for this page.</p>]"
      ]
     },
     "execution_count": 27,
     "metadata": {},
     "output_type": "execute_result"
    }
   ],
   "source": [
    "soup = BeautifulSoup(page.content)\n",
    "soup.find_all('p')"
   ]
  },
  {
   "cell_type": "markdown",
   "metadata": {},
   "source": [
    "Note that `find_all` returns a list, so we’ll have to loop through, or use list indexing, it to extract text:"
   ]
  },
  {
   "cell_type": "code",
   "execution_count": null,
   "metadata": {},
   "outputs": [],
   "source": [
    "soup.find_all('p')[0].get_text()"
   ]
  },
  {
   "cell_type": "markdown",
   "metadata": {},
   "source": [
    "If you instead only want to find the first instance of a tag, you can use the `find` method, which will return a single `BeautifulSoup` object:"
   ]
  },
  {
   "cell_type": "code",
   "execution_count": null,
   "metadata": {},
   "outputs": [],
   "source": [
    "soup.find('p')"
   ]
  },
  {
   "cell_type": "markdown",
   "metadata": {},
   "source": [
    "### Searching for tags by class and id\n",
    "\n",
    "\n",
    "We introduced classes and ids earlier, but it probably wasn’t clear why they were useful. Classes and ids are used by CSS to determine which HTML elements to apply certain styles to. We can also use them when scraping to specify specific elements we want to scrape. Let's look at the following page:\n",
    "\n",
    "~~~\n",
    "<html>\n",
    "    <head>\n",
    "        <title>A simple example page</title>\n",
    "    </head>\n",
    "    <body>\n",
    "        <div>\n",
    "            <p class=\"inner-text first-item\" id=\"first\">\n",
    "                First paragraph.\n",
    "            </p>\n",
    "            <p class=\"inner-text\">\n",
    "                Second paragraph.\n",
    "            </p>\n",
    "        </div>\n",
    "        <p class=\"outer-text first-item\" id=\"second\">\n",
    "            <b>\n",
    "                First outer paragraph.\n",
    "            </b>\n",
    "        </p>\n",
    "        <p class=\"outer-text\">\n",
    "            <b>\n",
    "                Second outer paragraph.\n",
    "            </b>\n",
    "        </p>\n",
    "    </body>\n",
    "</html>\n",
    "~~~"
   ]
  },
  {
   "cell_type": "code",
   "execution_count": 28,
   "metadata": {},
   "outputs": [
    {
     "data": {
      "text/plain": [
       "<html>\n",
       "<head>\n",
       "<title>A simple example page</title>\n",
       "</head>\n",
       "<body>\n",
       "<div>\n",
       "<p class=\"inner-text first-item\" id=\"first\">\n",
       "                First paragraph.\n",
       "            </p>\n",
       "<p class=\"inner-text\">\n",
       "                Second paragraph.\n",
       "            </p>\n",
       "</div>\n",
       "<p class=\"outer-text first-item\" id=\"second\">\n",
       "<b>\n",
       "                First outer paragraph.\n",
       "            </b>\n",
       "</p>\n",
       "<p class=\"outer-text\">\n",
       "<b>\n",
       "                Second outer paragraph.\n",
       "            </b>\n",
       "</p>\n",
       "</body>\n",
       "</html>"
      ]
     },
     "execution_count": 28,
     "metadata": {},
     "output_type": "execute_result"
    }
   ],
   "source": [
    "page = requests.get(\n",
    "    \"http://dataquestio.github.io/web-scraping-pages/ids_and_classes.html\")\n",
    "soup = BeautifulSoup(page.content)\n",
    "soup"
   ]
  },
  {
   "cell_type": "markdown",
   "metadata": {},
   "source": [
    "Now, we can use the `find_all` method to search for items by class or by id. In the below example, we’ll search for any `p` tag that has the class `outer-text`:"
   ]
  },
  {
   "cell_type": "code",
   "execution_count": 38,
   "metadata": {},
   "outputs": [
    {
     "data": {
      "text/plain": [
       "[<p class=\"inner-text first-item\" id=\"first\">\n",
       "                 First paragraph.\n",
       "             </p>, <p class=\"outer-text first-item\" id=\"second\">\n",
       " <b>\n",
       "                 First outer paragraph.\n",
       "             </b>\n",
       " </p>]"
      ]
     },
     "execution_count": 38,
     "metadata": {},
     "output_type": "execute_result"
    }
   ],
   "source": [
    "soup.find_all('p', class_='outer-text')"
   ]
  },
  {
   "cell_type": "markdown",
   "metadata": {},
   "source": [
    "In the below example, we’ll look for any tag that has the class `outer-text`:\n",
    "\n"
   ]
  },
  {
   "cell_type": "code",
   "execution_count": 34,
   "metadata": {},
   "outputs": [
    {
     "data": {
      "text/plain": [
       "[<p class=\"outer-text first-item\" id=\"second\">\n",
       " <b>\n",
       "                 First outer paragraph.\n",
       "             </b>\n",
       " </p>, <p class=\"outer-text\">\n",
       " <b>\n",
       "                 Second outer paragraph.\n",
       "             </b>\n",
       " </p>]"
      ]
     },
     "execution_count": 34,
     "metadata": {},
     "output_type": "execute_result"
    }
   ],
   "source": [
    "soup.find_all(class_=\"outer-text\")"
   ]
  },
  {
   "cell_type": "markdown",
   "metadata": {},
   "source": [
    "We can also search for elements by `id`:\n"
   ]
  },
  {
   "cell_type": "code",
   "execution_count": 39,
   "metadata": {
    "scrolled": true
   },
   "outputs": [
    {
     "data": {
      "text/plain": [
       "[<p class=\"inner-text first-item\" id=\"first\">\n",
       "                 First paragraph.\n",
       "             </p>]"
      ]
     },
     "execution_count": 39,
     "metadata": {},
     "output_type": "execute_result"
    }
   ],
   "source": [
    "soup.find_all(id=\"first\")"
   ]
  },
  {
   "cell_type": "code",
   "execution_count": 40,
   "metadata": {},
   "outputs": [
    {
     "data": {
      "text/plain": [
       "<p class=\"inner-text first-item\" id=\"first\">\n",
       "                First paragraph.\n",
       "            </p>"
      ]
     },
     "execution_count": 40,
     "metadata": {},
     "output_type": "execute_result"
    }
   ],
   "source": [
    "soup.find(id=\"first\")"
   ]
  },
  {
   "cell_type": "markdown",
   "metadata": {},
   "source": [
    "### Using CSS Selectors\n",
    "\n",
    "\n",
    "You can also search for items using CSS selectors. These selectors are how the CSS language allows developers to specify HTML tags to style. Here are some examples:\n",
    "\n",
    "- *p a* — finds all a tags inside of a p tag.\n",
    "- *body p a* — finds all a tags inside of a p tag inside of a body tag.\n",
    "- *html body* — finds all body tags inside of an html tag.\n",
    "- *p.outer-text* — finds all p tags with a class of outer-text.\n",
    "- *p#first* — finds all p tags with an id of first.\n",
    "- *body p.outer-text* — finds any p tags with a class of outer-text inside of a body tag."
   ]
  },
  {
   "cell_type": "markdown",
   "metadata": {},
   "source": [
    "`BeautifulSoup` objects support searching a page via CSS selectors using the `select` method. We can use CSS selectors to find all the `p` tags in our page that are inside of a `div` like this:"
   ]
  },
  {
   "cell_type": "code",
   "execution_count": 43,
   "metadata": {},
   "outputs": [
    {
     "data": {
      "text/plain": [
       "[<p class=\"inner-text first-item\" id=\"first\">\n",
       "                 First paragraph.\n",
       "             </p>, <p class=\"inner-text\">\n",
       "                 Second paragraph.\n",
       "             </p>]"
      ]
     },
     "execution_count": 43,
     "metadata": {},
     "output_type": "execute_result"
    }
   ],
   "source": [
    "# Select is like find all\n",
    "soup.select(\"div p\")"
   ]
  },
  {
   "cell_type": "markdown",
   "metadata": {},
   "source": [
    "Note that the `select` method above returns a list of `BeautifulSoup` objects, just like `find` and `find_all`."
   ]
  },
  {
   "cell_type": "markdown",
   "metadata": {},
   "source": [
    "## Your Turn: Downloading weather data\n"
   ]
  },
  {
   "cell_type": "markdown",
   "metadata": {},
   "source": [
    "We now know enough to proceed with extracting information about the local weather from the National Weather Service website. The first step is to find the page we want to scrape. We’ll extract weather information about downtown DC from this [page](http://forecast.weather.gov/MapClick.php?lat=38.8977&lon=-77.0365)."
   ]
  },
  {
   "cell_type": "markdown",
   "metadata": {},
   "source": [
    "We can then scroll up in the elements panel to find the “outermost” element that contains all of the text that corresponds to the extended forecasts. In this case, it’s a `div` tag with the id `seven-day-forecast`:"
   ]
  },
  {
   "cell_type": "markdown",
   "metadata": {},
   "source": [
    "We now know enough to download the page and start parsing it. Below let's implement the following:\n",
    "\n",
    "1. Download the web page containing the forecast.\n",
    "2. Create a `BeautifulSoup` class to parse the page.\n",
    "3. Find the `div` with id `seven-day-forecast`, and assign to `seven_day`\n",
    "4. Inside `seven_day`, find each individual forecast item.\n",
    "5. Extract and print the first forecast item."
   ]
  },
  {
   "cell_type": "code",
   "execution_count": 118,
   "metadata": {
    "scrolled": false
   },
   "outputs": [
    {
     "data": {
      "text/plain": [
       "[<meta content=\"width=device-width\" name=\"viewport\"/>,\n",
       " <link href=\"http://purl.org/dc/elements/1.1/\" rel=\"schema.DC\"/>,\n",
       " <title>National Weather Service</title>,\n",
       " <meta content=\"National Weather Service\" name=\"DC.title\"/>,\n",
       " <meta content=\"NOAA National Weather Service National Weather Service\" name=\"DC.description\"/>,\n",
       " <meta content=\"US Department of Commerce, NOAA, National Weather Service\" name=\"DC.creator\"/>,\n",
       " <meta content=\"\" name=\"DC.date.created\" scheme=\"ISO8601\"/>,\n",
       " <meta content=\"EN-US\" name=\"DC.language\" scheme=\"DCTERMS.RFC1766\"/>,\n",
       " <meta content=\"weather, National Weather Service\" name=\"DC.keywords\"/>,\n",
       " <meta content=\"NOAA's National Weather Service\" name=\"DC.publisher\"/>,\n",
       " <meta content=\"National Weather Service\" name=\"DC.contributor\"/>,\n",
       " <meta content=\"http://www.weather.gov/disclaimer.php\" name=\"DC.rights\"/>,\n",
       " <meta content=\"General\" name=\"rating\"/>,\n",
       " <meta content=\"index,follow\" name=\"robots\"/>,\n",
       " <link href=\"./images/favicon.ico\" rel=\"shortcut icon\" type=\"image/x-icon\"/>,\n",
       " <link href=\"css/bootstrap-3.2.0.min.css\" rel=\"stylesheet\"/>,\n",
       " <link href=\"css/bootstrap-theme-3.2.0.min.css\" rel=\"stylesheet\"/>,\n",
       " <link href=\"css/font-awesome-4.3.0.min.css\" rel=\"stylesheet\"/>,\n",
       " <link href=\"css/ol-4.6.4.css\" rel=\"stylesheet\" type=\"text/css\"/>,\n",
       " <link href=\"css/mapclick.css\" rel=\"stylesheet\" type=\"text/css\"/>,\n",
       " <link href=\"css/print.css\" rel=\"stylesheet\" type=\"text/css\"/>,\n",
       " <link href=\"css/search.css\" rel=\"stylesheet\" type=\"text/css\"/>,\n",
       " <script src=\"js/lib/modernizr-2.8.3.js\" type=\"text/javascript\"></script>,\n",
       " <script src=\"js/lib/json3-3.3.2.min.js\" type=\"text/javascript\"></script>,\n",
       " <script src=\"js/lib/jquery-1.11.3.min.js\" type=\"text/javascript\"></script>,\n",
       " <script src=\"js/lib/jquery.hoverIntent-1.8.1.min.js\" type=\"text/javascript\"></script>,\n",
       " <script src=\"js/lib/bootstrap-3.2.0.min.js\" type=\"text/javascript\"></script>,\n",
       " <script src=\"js/lib/ol-4.6.4.js\" type=\"text/javascript\"></script>,\n",
       " <script src=\"js/jquery.autocomplete.min.js\" type=\"text/javascript\"></script>,\n",
       " <script src=\"js/cfisurvey/cfi.js?v2\" type=\"text/javascript\"></script>,\n",
       " <script src=\"js/forecast.esri.js\" type=\"text/javascript\"></script>,\n",
       " <script src=\"js/forecast.search.js\" type=\"text/javascript\"></script>,\n",
       " <script src=\"js/forecast.openlayers.js\" type=\"text/javascript\"></script>,\n",
       " <script src=\"js/browserSniffer.js\" type=\"text/javascript\"></script>,\n",
       " <script src=\"js/federated-analytics.js\" type=\"text/javascript\"></script>,\n",
       " <script type=\"javascript\">\n",
       " // ForeSee Staging Embed Script v2.01\n",
       " // DO NOT MODIFY BELOW THIS LINE *****************************************\n",
       " ;(function (g) {\n",
       "   var d = document, am = d.createElement('script'), h = d.head || d.getElementsByTagName(\"head\")[0], fsr = 'fsReady',\n",
       "   aex = { \n",
       "     \"src\": \"//gateway.foresee.com/sites/weather-gov/production/gateway.min.js\",\n",
       "     \"type\": \"text/javascript\", \n",
       "     \"async\": \"true\", \n",
       "     \"data-vendor\": \"fs\", \n",
       "     \"data-role\": \"gateway\" \n",
       "   };\n",
       "   for (var attr in aex) { am.setAttribute(attr, aex[attr]); } h.appendChild(am); g[fsr] || (g[fsr] = function () { var aT = '__' + fsr + '_stk__'; g[aT] = g[aT] || []; g[aT].push(arguments); });\n",
       " })(window);\n",
       " // DO NOT MODIFY ABOVE THIS LINE *****************************************\n",
       " </script>,\n",
       " <script type=\"text/javascript\">\n",
       "             (function (i, s, o, g, r, a, m) {\n",
       "                 i['GoogleAnalyticsObject'] = r;\n",
       "                 i[r] = i[r] || function () {\n",
       "                     (i[r].q = i[r].q || []).push(arguments)\n",
       "                 }, i[r].l = 1 * new Date();\n",
       "                 a = s.createElement(o),\n",
       "                         m = s.getElementsByTagName(o)[0];\n",
       "                 a.async = 1;\n",
       "                 a.src = g;\n",
       "                 m.parentNode.insertBefore(a, m)\n",
       "             })(window, document, 'script', '//www.google-analytics.com/analytics.js', 'ga');\n",
       " \n",
       "             ga('create', 'UA-40768555-1', 'weather.gov', {'sampleRate': 6});\n",
       "             ga('set', 'anonymizeIp', true);\n",
       "             ga('require', 'linkid');\n",
       "             ga('send', 'pageview');\n",
       "         </script>]"
      ]
     },
     "execution_count": 118,
     "metadata": {},
     "output_type": "execute_result"
    }
   ],
   "source": [
    "page2 = requests.get(\n",
    "    \"https://forecast.weather.gov/MapClick.php?lat=38.8977&lon=-77.0365\")\n",
    "soup2 = BeautifulSoup(page2.text)\n",
    "soup2.head()"
   ]
  },
  {
   "cell_type": "code",
   "execution_count": 210,
   "metadata": {},
   "outputs": [
    {
     "data": {
      "text/plain": [
       "[<div class=\"panel panel-default\" id=\"seven-day-forecast\">\n",
       " <div class=\"panel-heading\">\n",
       " <b>Extended Forecast for</b>\n",
       " <h2 class=\"panel-title\">\n",
       " \t    \t    Washington DC\t</h2>\n",
       " </div>\n",
       " <div class=\"panel-body\" id=\"seven-day-forecast-body\">\n",
       " <div id=\"seven-day-forecast-container\"><ul class=\"list-unstyled\" id=\"seven-day-forecast-list\"><li class=\"forecast-tombstone\">\n",
       " <div class=\"tombstone-container\">\n",
       " <p class=\"period-name\">This<br/>Afternoon</p>\n",
       " <p><img alt=\"This Afternoon: Scattered showers and thunderstorms, mainly after 5pm.  Partly sunny, with a high near 91. South wind around 8 mph.  Chance of precipitation is 30%.\" class=\"forecast-icon\" src=\"newimages/medium/scttsra30.png\" title=\"This Afternoon: Scattered showers and thunderstorms, mainly after 5pm.  Partly sunny, with a high near 91. South wind around 8 mph.  Chance of precipitation is 30%.\"/></p><p class=\"short-desc\">Scattered<br/>T-storms</p><p class=\"temp temp-high\">High: 91 °F</p></div></li><li class=\"forecast-tombstone\">\n",
       " <div class=\"tombstone-container\">\n",
       " <p class=\"period-name\">Tonight<br/><br/></p>\n",
       " <p><img alt=\"Tonight: Scattered showers and thunderstorms before 11pm, then a slight chance of showers between 11pm and 2am.  Mostly cloudy, with a low around 74. South wind around 7 mph.  Chance of precipitation is 30%.\" class=\"forecast-icon\" src=\"DualImage.php?i=nscttsra&amp;j=hi_nshwrs&amp;ip=30&amp;jp=20\" title=\"Tonight: Scattered showers and thunderstorms before 11pm, then a slight chance of showers between 11pm and 2am.  Mostly cloudy, with a low around 74. South wind around 7 mph.  Chance of precipitation is 30%.\"/></p><p class=\"short-desc\">Scattered<br/>T-storms then<br/>Slight Chance<br/>Showers</p><p class=\"temp temp-low\">Low: 74 °F</p></div></li><li class=\"forecast-tombstone\">\n",
       " <div class=\"tombstone-container\">\n",
       " <p class=\"period-name\">Wednesday<br/><br/></p>\n",
       " <p><img alt=\"Wednesday: Showers and thunderstorms likely, mainly after 2pm.  Partly sunny, with a high near 91. South wind 5 to 10 mph.  Chance of precipitation is 60%. New rainfall amounts between a quarter and half of an inch possible. \" class=\"forecast-icon\" src=\"DualImage.php?i=bkn&amp;j=tsra&amp;jp=60\" title=\"Wednesday: Showers and thunderstorms likely, mainly after 2pm.  Partly sunny, with a high near 91. South wind 5 to 10 mph.  Chance of precipitation is 60%. New rainfall amounts between a quarter and half of an inch possible. \"/></p><p class=\"short-desc\">Partly Sunny<br/>then T-storms<br/>Likely</p><p class=\"temp temp-high\">High: 91 °F</p></div></li><li class=\"forecast-tombstone\">\n",
       " <div class=\"tombstone-container\">\n",
       " <p class=\"period-name\">Wednesday<br/>Night</p>\n",
       " <p><img alt=\"Wednesday Night: Showers and thunderstorms likely before 2am, then a slight chance of showers.  Mostly cloudy, with a low around 71. Southwest wind 5 to 7 mph becoming calm  after midnight.  Chance of precipitation is 60%. New rainfall amounts between a tenth and quarter of an inch, except higher amounts possible in thunderstorms. \" class=\"forecast-icon\" src=\"DualImage.php?i=ntsra&amp;j=nshra&amp;ip=60&amp;jp=40\" title=\"Wednesday Night: Showers and thunderstorms likely before 2am, then a slight chance of showers.  Mostly cloudy, with a low around 71. Southwest wind 5 to 7 mph becoming calm  after midnight.  Chance of precipitation is 60%. New rainfall amounts between a tenth and quarter of an inch, except higher amounts possible in thunderstorms. \"/></p><p class=\"short-desc\">T-storms<br/>Likely then<br/>Chance<br/>Showers</p><p class=\"temp temp-low\">Low: 71 °F</p></div></li><li class=\"forecast-tombstone\">\n",
       " <div class=\"tombstone-container\">\n",
       " <p class=\"period-name\">Thursday<br/><br/></p>\n",
       " <p><img alt=\"Thursday: A slight chance of showers before 10am, then a slight chance of showers and thunderstorms between 10am and 2pm.  Mostly sunny, with a high near 91. West wind 3 to 7 mph.  Chance of precipitation is 20%.\" class=\"forecast-icon\" src=\"newimages/medium/hi_tsra20.png\" title=\"Thursday: A slight chance of showers before 10am, then a slight chance of showers and thunderstorms between 10am and 2pm.  Mostly sunny, with a high near 91. West wind 3 to 7 mph.  Chance of precipitation is 20%.\"/></p><p class=\"short-desc\">Slight Chance<br/>T-storms</p><p class=\"temp temp-high\">High: 91 °F</p></div></li><li class=\"forecast-tombstone\">\n",
       " <div class=\"tombstone-container\">\n",
       " <p class=\"period-name\">Thursday<br/>Night</p>\n",
       " <p><img alt=\"Thursday Night: Partly cloudy, with a low around 73.\" class=\"forecast-icon\" src=\"newimages/medium/nsct.png\" title=\"Thursday Night: Partly cloudy, with a low around 73.\"/></p><p class=\"short-desc\">Partly Cloudy</p><p class=\"temp temp-low\">Low: 73 °F</p></div></li><li class=\"forecast-tombstone\">\n",
       " <div class=\"tombstone-container\">\n",
       " <p class=\"period-name\">Friday<br/><br/></p>\n",
       " <p><img alt=\"Friday: A chance of showers after noon.  Partly sunny, with a high near 89. Chance of precipitation is 30%.\" class=\"forecast-icon\" src=\"DualImage.php?i=bkn&amp;j=shra&amp;jp=30\" title=\"Friday: A chance of showers after noon.  Partly sunny, with a high near 89. Chance of precipitation is 30%.\"/></p><p class=\"short-desc\">Partly Sunny<br/>then Chance<br/>Showers</p><p class=\"temp temp-high\">High: 89 °F</p></div></li><li class=\"forecast-tombstone\">\n",
       " <div class=\"tombstone-container\">\n",
       " <p class=\"period-name\">Friday<br/>Night</p>\n",
       " <p><img alt=\"Friday Night: Mostly clear, with a low around 67.\" class=\"forecast-icon\" src=\"newimages/medium/nfew.png\" title=\"Friday Night: Mostly clear, with a low around 67.\"/></p><p class=\"short-desc\">Mostly Clear</p><p class=\"temp temp-low\">Low: 67 °F</p></div></li><li class=\"forecast-tombstone\">\n",
       " <div class=\"tombstone-container\">\n",
       " <p class=\"period-name\">Saturday<br/><br/></p>\n",
       " <p><img alt=\"Saturday: Sunny, with a high near 87.\" class=\"forecast-icon\" src=\"newimages/medium/few.png\" title=\"Saturday: Sunny, with a high near 87.\"/></p><p class=\"short-desc\">Sunny</p><p class=\"temp temp-high\">High: 87 °F</p></div></li></ul></div>\n",
       " <script type=\"text/javascript\">\n",
       " // equalize forecast heights\n",
       " $(function () {\n",
       " \tvar maxh = 0;\n",
       " \t$(\".forecast-tombstone .short-desc\").each(function () {\n",
       " \t\tvar h = $(this).height();\n",
       " \t\tif (h > maxh) { maxh = h; }\n",
       " \t});\n",
       " \t$(\".forecast-tombstone .short-desc\").height(maxh);\n",
       " });\n",
       " </script> </div>\n",
       " </div>]"
      ]
     },
     "execution_count": 210,
     "metadata": {},
     "output_type": "execute_result"
    }
   ],
   "source": [
    "soup2.findAll(id=\"seven-day-forecast\")"
   ]
  },
  {
   "cell_type": "code",
   "execution_count": 163,
   "metadata": {},
   "outputs": [],
   "source": []
  },
  {
   "cell_type": "code",
   "execution_count": 164,
   "metadata": {},
   "outputs": [
    {
     "data": {
      "text/plain": [
       "6"
      ]
     },
     "execution_count": 164,
     "metadata": {},
     "output_type": "execute_result"
    }
   ],
   "source": []
  },
  {
   "cell_type": "code",
   "execution_count": 168,
   "metadata": {},
   "outputs": [],
   "source": []
  },
  {
   "cell_type": "markdown",
   "metadata": {},
   "source": [
    "### Extracting information from the page\n",
    "As you can see, inside the forecast item `tonight` is all the information we want. There are `4` pieces of information we can extract:\n",
    "\n",
    "- The name of the forecast item — in this case, **Tonight**.\n",
    "- The description of the conditions — this is stored in the `title` property of `img`.\n",
    "- A short description of the conditions — in this case, **Mostly Clear**.\n",
    "- The temperature low — in this case, **49 degrees**.\n",
    "\n",
    "We’ll extract the name of the forecast item, the short description, and the temperature first, since they’re all similar:"
   ]
  },
  {
   "cell_type": "markdown",
   "metadata": {},
   "source": [
    "Now, we can extract the `title` attribute from the `img` tag. To do this, we just treat the `BeautifulSoup` object like a dictionary, and pass in the attribute we want as a key:"
   ]
  },
  {
   "cell_type": "code",
   "execution_count": 182,
   "metadata": {},
   "outputs": [
    {
     "data": {
      "text/plain": [
       "[<li class=\"forecast-tombstone\">\n",
       " <div class=\"tombstone-container\">\n",
       " <p class=\"period-name\">This<br/>Afternoon</p>\n",
       " <p><img alt=\"This Afternoon: Scattered showers and thunderstorms, mainly after 5pm.  Partly sunny, with a high near 91. South wind around 8 mph.  Chance of precipitation is 30%.\" class=\"forecast-icon\" src=\"newimages/medium/scttsra30.png\" title=\"This Afternoon: Scattered showers and thunderstorms, mainly after 5pm.  Partly sunny, with a high near 91. South wind around 8 mph.  Chance of precipitation is 30%.\"/></p><p class=\"short-desc\">Scattered<br/>T-storms</p><p class=\"temp temp-high\">High: 91 °F</p></div></li>,\n",
       " <li class=\"forecast-tombstone\">\n",
       " <div class=\"tombstone-container\">\n",
       " <p class=\"period-name\">Tonight<br/><br/></p>\n",
       " <p><img alt=\"Tonight: Scattered showers and thunderstorms before 11pm, then a slight chance of showers between 11pm and 2am.  Mostly cloudy, with a low around 74. South wind around 7 mph.  Chance of precipitation is 30%.\" class=\"forecast-icon\" src=\"DualImage.php?i=nscttsra&amp;j=hi_nshwrs&amp;ip=30&amp;jp=20\" title=\"Tonight: Scattered showers and thunderstorms before 11pm, then a slight chance of showers between 11pm and 2am.  Mostly cloudy, with a low around 74. South wind around 7 mph.  Chance of precipitation is 30%.\"/></p><p class=\"short-desc\">Scattered<br/>T-storms then<br/>Slight Chance<br/>Showers</p><p class=\"temp temp-low\">Low: 74 °F</p></div></li>,\n",
       " <li class=\"forecast-tombstone\">\n",
       " <div class=\"tombstone-container\">\n",
       " <p class=\"period-name\">Wednesday<br/><br/></p>\n",
       " <p><img alt=\"Wednesday: Showers and thunderstorms likely, mainly after 2pm.  Partly sunny, with a high near 91. South wind 5 to 10 mph.  Chance of precipitation is 60%. New rainfall amounts between a quarter and half of an inch possible. \" class=\"forecast-icon\" src=\"DualImage.php?i=bkn&amp;j=tsra&amp;jp=60\" title=\"Wednesday: Showers and thunderstorms likely, mainly after 2pm.  Partly sunny, with a high near 91. South wind 5 to 10 mph.  Chance of precipitation is 60%. New rainfall amounts between a quarter and half of an inch possible. \"/></p><p class=\"short-desc\">Partly Sunny<br/>then T-storms<br/>Likely</p><p class=\"temp temp-high\">High: 91 °F</p></div></li>,\n",
       " <li class=\"forecast-tombstone\">\n",
       " <div class=\"tombstone-container\">\n",
       " <p class=\"period-name\">Wednesday<br/>Night</p>\n",
       " <p><img alt=\"Wednesday Night: Showers and thunderstorms likely before 2am, then a slight chance of showers.  Mostly cloudy, with a low around 71. Southwest wind 5 to 7 mph becoming calm  after midnight.  Chance of precipitation is 60%. New rainfall amounts between a tenth and quarter of an inch, except higher amounts possible in thunderstorms. \" class=\"forecast-icon\" src=\"DualImage.php?i=ntsra&amp;j=nshra&amp;ip=60&amp;jp=40\" title=\"Wednesday Night: Showers and thunderstorms likely before 2am, then a slight chance of showers.  Mostly cloudy, with a low around 71. Southwest wind 5 to 7 mph becoming calm  after midnight.  Chance of precipitation is 60%. New rainfall amounts between a tenth and quarter of an inch, except higher amounts possible in thunderstorms. \"/></p><p class=\"short-desc\">T-storms<br/>Likely then<br/>Chance<br/>Showers</p><p class=\"temp temp-low\">Low: 71 °F</p></div></li>,\n",
       " <li class=\"forecast-tombstone\">\n",
       " <div class=\"tombstone-container\">\n",
       " <p class=\"period-name\">Thursday<br/><br/></p>\n",
       " <p><img alt=\"Thursday: A slight chance of showers before 10am, then a slight chance of showers and thunderstorms between 10am and 2pm.  Mostly sunny, with a high near 91. West wind 3 to 7 mph.  Chance of precipitation is 20%.\" class=\"forecast-icon\" src=\"newimages/medium/hi_tsra20.png\" title=\"Thursday: A slight chance of showers before 10am, then a slight chance of showers and thunderstorms between 10am and 2pm.  Mostly sunny, with a high near 91. West wind 3 to 7 mph.  Chance of precipitation is 20%.\"/></p><p class=\"short-desc\">Slight Chance<br/>T-storms</p><p class=\"temp temp-high\">High: 91 °F</p></div></li>,\n",
       " <li class=\"forecast-tombstone\">\n",
       " <div class=\"tombstone-container\">\n",
       " <p class=\"period-name\">Thursday<br/>Night</p>\n",
       " <p><img alt=\"Thursday Night: Partly cloudy, with a low around 73.\" class=\"forecast-icon\" src=\"newimages/medium/nsct.png\" title=\"Thursday Night: Partly cloudy, with a low around 73.\"/></p><p class=\"short-desc\">Partly Cloudy</p><p class=\"temp temp-low\">Low: 73 °F</p></div></li>,\n",
       " <li class=\"forecast-tombstone\">\n",
       " <div class=\"tombstone-container\">\n",
       " <p class=\"period-name\">Friday<br/><br/></p>\n",
       " <p><img alt=\"Friday: A chance of showers after noon.  Partly sunny, with a high near 89. Chance of precipitation is 30%.\" class=\"forecast-icon\" src=\"DualImage.php?i=bkn&amp;j=shra&amp;jp=30\" title=\"Friday: A chance of showers after noon.  Partly sunny, with a high near 89. Chance of precipitation is 30%.\"/></p><p class=\"short-desc\">Partly Sunny<br/>then Chance<br/>Showers</p><p class=\"temp temp-high\">High: 89 °F</p></div></li>,\n",
       " <li class=\"forecast-tombstone\">\n",
       " <div class=\"tombstone-container\">\n",
       " <p class=\"period-name\">Friday<br/>Night</p>\n",
       " <p><img alt=\"Friday Night: Mostly clear, with a low around 67.\" class=\"forecast-icon\" src=\"newimages/medium/nfew.png\" title=\"Friday Night: Mostly clear, with a low around 67.\"/></p><p class=\"short-desc\">Mostly Clear</p><p class=\"temp temp-low\">Low: 67 °F</p></div></li>,\n",
       " <li class=\"forecast-tombstone\">\n",
       " <div class=\"tombstone-container\">\n",
       " <p class=\"period-name\">Saturday<br/><br/></p>\n",
       " <p><img alt=\"Saturday: Sunny, with a high near 87.\" class=\"forecast-icon\" src=\"newimages/medium/few.png\" title=\"Saturday: Sunny, with a high near 87.\"/></p><p class=\"short-desc\">Sunny</p><p class=\"temp temp-high\">High: 87 °F</p></div></li>]"
      ]
     },
     "execution_count": 182,
     "metadata": {},
     "output_type": "execute_result"
    }
   ],
   "source": [
    "soup2.find_all(class_=\"forecast-tombstone\")"
   ]
  },
  {
   "cell_type": "code",
   "execution_count": 194,
   "metadata": {},
   "outputs": [],
   "source": [
    "seven_day = soup2.find(class_=\"forecast-tombstone\")"
   ]
  },
  {
   "cell_type": "code",
   "execution_count": 198,
   "metadata": {},
   "outputs": [
    {
     "data": {
      "text/plain": [
       "<li class=\"forecast-tombstone\">\n",
       "<div class=\"tombstone-container\">\n",
       "<p class=\"period-name\">This<br/>Afternoon</p>\n",
       "<p><img alt=\"This Afternoon: Scattered showers and thunderstorms, mainly after 5pm.  Partly sunny, with a high near 91. South wind around 8 mph.  Chance of precipitation is 30%.\" class=\"forecast-icon\" src=\"newimages/medium/scttsra30.png\" title=\"This Afternoon: Scattered showers and thunderstorms, mainly after 5pm.  Partly sunny, with a high near 91. South wind around 8 mph.  Chance of precipitation is 30%.\"/></p><p class=\"short-desc\">Scattered<br/>T-storms</p><p class=\"temp temp-high\">High: 91 °F</p></div></li>"
      ]
     },
     "execution_count": 198,
     "metadata": {},
     "output_type": "execute_result"
    }
   ],
   "source": [
    "seven_day"
   ]
  },
  {
   "cell_type": "markdown",
   "metadata": {},
   "source": [
    "### Extracting all the information from the page\n",
    "Now that we know how to extract each individual piece of information, we can combine our knowledge with css selectors and list comprehensions to extract everything at once.\n",
    "\n",
    "In the below code, we:\n",
    "\n",
    "- Select all items with the class period-name inside an item with the class tombstone-container in seven_day.\n",
    "- Use a list comprehension to call the get_text method on each BeautifulSoup object."
   ]
  },
  {
   "cell_type": "code",
   "execution_count": 211,
   "metadata": {},
   "outputs": [
    {
     "data": {
      "text/plain": [
       "['ThisAfternoon']"
      ]
     },
     "execution_count": 211,
     "metadata": {},
     "output_type": "execute_result"
    }
   ],
   "source": [
    "# Dive class is .tombstone-container, p class is .period-name\n",
    "period_tags = seven_day.select(\".tombstone-container .period-name\")\n",
    "periods = [pt.get_text() for pt in period_tags]\n",
    "periods"
   ]
  },
  {
   "cell_type": "markdown",
   "metadata": {},
   "source": [
    "As you can see above, our technique gets us each of the period names, in order. Now you can apply the same technique to get the other 3 fields:"
   ]
  },
  {
   "cell_type": "code",
   "execution_count": 212,
   "metadata": {},
   "outputs": [
    {
     "name": "stdout",
     "output_type": "stream",
     "text": [
      "['ScatteredT-storms']\n",
      "['High: 91 °F']\n",
      "['This Afternoon: Scattered showers and thunderstorms, mainly after 5pm.  Partly sunny, with a high near 91. South wind around 8 mph.  Chance of precipitation is 30%.']\n"
     ]
    }
   ],
   "source": [
    "short_descs = [sd.get_text()\n",
    "               for sd in seven_day.select(\".tombstone-container .short-desc\")]\n",
    "temps = [t.get_text() for t in seven_day.select(\".tombstone-container .temp\")]\n",
    "descs = [d[\"title\"] for d in seven_day.select(\".tombstone-container img\")]\n",
    "\n",
    "print(short_descs)\n",
    "print(temps)\n",
    "print(descs)"
   ]
  },
  {
   "cell_type": "code",
   "execution_count": null,
   "metadata": {},
   "outputs": [],
   "source": [
    "# Your code here"
   ]
  },
  {
   "cell_type": "markdown",
   "metadata": {},
   "source": [
    "### Combining our data into a Pandas Dataframe\n",
    "\n",
    "We can now combine the data into a Pandas DataFrame and analyze it.\n",
    "\n",
    "In order to do this, we’ll call the DataFrame class, and pass in each list of items that we have. We pass them in as part of a dictionary. Each dictionary key will become a column in the DataFrame, and each list will become the values in the column:"
   ]
  },
  {
   "cell_type": "code",
   "execution_count": 187,
   "metadata": {},
   "outputs": [
    {
     "data": {
      "text/html": [
       "<div>\n",
       "<style scoped>\n",
       "    .dataframe tbody tr th:only-of-type {\n",
       "        vertical-align: middle;\n",
       "    }\n",
       "\n",
       "    .dataframe tbody tr th {\n",
       "        vertical-align: top;\n",
       "    }\n",
       "\n",
       "    .dataframe thead th {\n",
       "        text-align: right;\n",
       "    }\n",
       "</style>\n",
       "<table border=\"1\" class=\"dataframe\">\n",
       "  <thead>\n",
       "    <tr style=\"text-align: right;\">\n",
       "      <th></th>\n",
       "      <th>period</th>\n",
       "      <th>short_desc</th>\n",
       "      <th>temp</th>\n",
       "      <th>desc</th>\n",
       "    </tr>\n",
       "  </thead>\n",
       "  <tbody>\n",
       "    <tr>\n",
       "      <th>0</th>\n",
       "      <td>Tonight</td>\n",
       "      <td>ScatteredT-storms thenSlight ChanceShowers</td>\n",
       "      <td>Low: 74 °F</td>\n",
       "      <td>Tonight: Scattered showers and thunderstorms b...</td>\n",
       "    </tr>\n",
       "  </tbody>\n",
       "</table>\n",
       "</div>"
      ],
      "text/plain": [
       "    period                                  short_desc        temp  \\\n",
       "0  Tonight  ScatteredT-storms thenSlight ChanceShowers  Low: 74 °F   \n",
       "\n",
       "                                                desc  \n",
       "0  Tonight: Scattered showers and thunderstorms b...  "
      ]
     },
     "execution_count": 187,
     "metadata": {},
     "output_type": "execute_result"
    }
   ],
   "source": [
    "import pandas as pd\n",
    "weather = pd.DataFrame({\n",
    "    \"period\": periods,\n",
    "    \"short_desc\": short_descs,\n",
    "    \"temp\": temps,\n",
    "    \"desc\": descs\n",
    "})\n",
    "weather"
   ]
  },
  {
   "cell_type": "markdown",
   "metadata": {},
   "source": [
    "We can now do some analysis on the data. For example, we can use a regular expression and the Series.str.extract method to pull out the numeric temperature values:"
   ]
  },
  {
   "cell_type": "code",
   "execution_count": 213,
   "metadata": {},
   "outputs": [
    {
     "data": {
      "text/plain": [
       "0    74\n",
       "Name: temp_num, dtype: object"
      ]
     },
     "execution_count": 213,
     "metadata": {},
     "output_type": "execute_result"
    }
   ],
   "source": [
    "temp_nums = weather[\"temp\"].str.extract(\"(?P<temp_num>\\d+)\", expand=False)\n",
    "weather[\"temp_num\"] = temp_nums.astype('int')\n",
    "temp_nums"
   ]
  },
  {
   "cell_type": "code",
   "execution_count": 214,
   "metadata": {},
   "outputs": [
    {
     "data": {
      "text/html": [
       "<div>\n",
       "<style scoped>\n",
       "    .dataframe tbody tr th:only-of-type {\n",
       "        vertical-align: middle;\n",
       "    }\n",
       "\n",
       "    .dataframe tbody tr th {\n",
       "        vertical-align: top;\n",
       "    }\n",
       "\n",
       "    .dataframe thead th {\n",
       "        text-align: right;\n",
       "    }\n",
       "</style>\n",
       "<table border=\"1\" class=\"dataframe\">\n",
       "  <thead>\n",
       "    <tr style=\"text-align: right;\">\n",
       "      <th></th>\n",
       "      <th>period</th>\n",
       "      <th>short_desc</th>\n",
       "      <th>temp</th>\n",
       "      <th>desc</th>\n",
       "      <th>temp_num</th>\n",
       "    </tr>\n",
       "  </thead>\n",
       "  <tbody>\n",
       "    <tr>\n",
       "      <th>0</th>\n",
       "      <td>Tonight</td>\n",
       "      <td>ScatteredT-storms thenSlight ChanceShowers</td>\n",
       "      <td>Low: 74 °F</td>\n",
       "      <td>Tonight: Scattered showers and thunderstorms b...</td>\n",
       "      <td>74</td>\n",
       "    </tr>\n",
       "  </tbody>\n",
       "</table>\n",
       "</div>"
      ],
      "text/plain": [
       "    period                                  short_desc        temp  \\\n",
       "0  Tonight  ScatteredT-storms thenSlight ChanceShowers  Low: 74 °F   \n",
       "\n",
       "                                                desc  temp_num  \n",
       "0  Tonight: Scattered showers and thunderstorms b...        74  "
      ]
     },
     "execution_count": 214,
     "metadata": {},
     "output_type": "execute_result"
    }
   ],
   "source": [
    "weather"
   ]
  },
  {
   "cell_type": "markdown",
   "metadata": {},
   "source": [
    "We could then find the mean of all the high and low temperatures:"
   ]
  },
  {
   "cell_type": "code",
   "execution_count": 215,
   "metadata": {},
   "outputs": [
    {
     "data": {
      "text/plain": [
       "74.0"
      ]
     },
     "execution_count": 215,
     "metadata": {},
     "output_type": "execute_result"
    }
   ],
   "source": [
    "weather[\"temp_num\"].mean()"
   ]
  },
  {
   "cell_type": "markdown",
   "metadata": {},
   "source": [
    "We could also only select the rows that happen at night:\n",
    "\n"
   ]
  },
  {
   "cell_type": "code",
   "execution_count": 216,
   "metadata": {},
   "outputs": [
    {
     "data": {
      "text/plain": [
       "0    True\n",
       "Name: temp, dtype: bool"
      ]
     },
     "execution_count": 216,
     "metadata": {},
     "output_type": "execute_result"
    }
   ],
   "source": [
    "is_night = weather[\"temp\"].str.contains(\"Low\")\n",
    "weather[\"is_night\"] = is_night\n",
    "is_night"
   ]
  },
  {
   "cell_type": "code",
   "execution_count": 217,
   "metadata": {},
   "outputs": [
    {
     "data": {
      "text/html": [
       "<div>\n",
       "<style scoped>\n",
       "    .dataframe tbody tr th:only-of-type {\n",
       "        vertical-align: middle;\n",
       "    }\n",
       "\n",
       "    .dataframe tbody tr th {\n",
       "        vertical-align: top;\n",
       "    }\n",
       "\n",
       "    .dataframe thead th {\n",
       "        text-align: right;\n",
       "    }\n",
       "</style>\n",
       "<table border=\"1\" class=\"dataframe\">\n",
       "  <thead>\n",
       "    <tr style=\"text-align: right;\">\n",
       "      <th></th>\n",
       "      <th>period</th>\n",
       "      <th>short_desc</th>\n",
       "      <th>temp</th>\n",
       "      <th>desc</th>\n",
       "      <th>temp_num</th>\n",
       "      <th>is_night</th>\n",
       "    </tr>\n",
       "  </thead>\n",
       "  <tbody>\n",
       "    <tr>\n",
       "      <th>0</th>\n",
       "      <td>Tonight</td>\n",
       "      <td>ScatteredT-storms thenSlight ChanceShowers</td>\n",
       "      <td>Low: 74 °F</td>\n",
       "      <td>Tonight: Scattered showers and thunderstorms b...</td>\n",
       "      <td>74</td>\n",
       "      <td>True</td>\n",
       "    </tr>\n",
       "  </tbody>\n",
       "</table>\n",
       "</div>"
      ],
      "text/plain": [
       "    period                                  short_desc        temp  \\\n",
       "0  Tonight  ScatteredT-storms thenSlight ChanceShowers  Low: 74 °F   \n",
       "\n",
       "                                                desc  temp_num  is_night  \n",
       "0  Tonight: Scattered showers and thunderstorms b...        74      True  "
      ]
     },
     "execution_count": 217,
     "metadata": {},
     "output_type": "execute_result"
    }
   ],
   "source": [
    "weather[is_night]"
   ]
  },
  {
   "cell_type": "code",
   "execution_count": null,
   "metadata": {},
   "outputs": [],
   "source": []
  }
 ],
 "metadata": {
  "kernelspec": {
   "display_name": "Python 3",
   "language": "python",
   "name": "python3"
  },
  "language_info": {
   "codemirror_mode": {
    "name": "ipython",
    "version": 3
   },
   "file_extension": ".py",
   "mimetype": "text/x-python",
   "name": "python",
   "nbconvert_exporter": "python",
   "pygments_lexer": "ipython3",
   "version": "3.7.3"
  }
 },
 "nbformat": 4,
 "nbformat_minor": 2
}
