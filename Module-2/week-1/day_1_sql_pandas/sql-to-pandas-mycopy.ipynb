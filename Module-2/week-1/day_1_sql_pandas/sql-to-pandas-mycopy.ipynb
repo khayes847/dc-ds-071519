{
 "cells": [
  {
   "cell_type": "markdown",
   "metadata": {
    "slideshow": {
     "slide_type": "slide"
    }
   },
   "source": [
    "![sql](img/sql-logo.jpg)\n",
    "\n",
    "# A beginner's guide to databases, SQL, & using them with `pandas`"
   ]
  },
  {
   "cell_type": "markdown",
   "metadata": {
    "slideshow": {
     "slide_type": "slide"
    }
   },
   "source": [
    "**Scenario:** You are a data analyst for the Homeland Security, trying to create reports on the active airports world wide. The data you need to access is in a SQL database. YOu need to be able to query for the data in a database!"
   ]
  },
  {
   "cell_type": "markdown",
   "metadata": {
    "slideshow": {
     "slide_type": "slide"
    }
   },
   "source": [
    "## Learning goals:\n",
    "- Goal 1: Summarize the use case for sql in the data science skill set\n",
    "- Goal 2: Define key sql terminology\n",
    "- Goal 3: Get information about DB schema and table structure\n",
    "- Goal 4: Use basic SQL commands:\n",
    "    - Construct SQL queries\n",
    "    - Use JOIN to merge tables along logical columns\n",
    "    - Grouping Data with SQL\n",
    "- Goal 5: Query data from pandas dataframes using SQL\n",
    "- Goal 6: Convert SQL to pandas"
   ]
  },
  {
   "cell_type": "markdown",
   "metadata": {
    "slideshow": {
     "slide_type": "slide"
    }
   },
   "source": [
    "## Goal 1: Summarize\n",
    "\n",
    "[Netflix has a great article](https://medium.com/netflix-techblog/notebook-innovation-591ee3221233) describing three different data roles at their company, their different needs, and their toolsets.\n",
    "\n",
    "![netflix](img/netflix-data-roles.jpeg)\n",
    "\n",
    "Examining that graphic, SQL shows up as one of the tools of the _Data Engineer_ "
   ]
  },
  {
   "cell_type": "markdown",
   "metadata": {
    "slideshow": {
     "slide_type": "slide"
    }
   },
   "source": [
    "Data Engineers provide the essential data architecture services that make data science possible.\n",
    "\n",
    "![hierarchy](img/ai-hierachy.png)\n",
    "\n",
    "[Source: Monica Rogati’s fantastic Medium post “The AI Hierarchy of Needs”\n",
    "](https://hackernoon.com/the-ai-hierarchy-of-needs-18f111fcc007)"
   ]
  },
  {
   "cell_type": "markdown",
   "metadata": {
    "slideshow": {
     "slide_type": "slide"
    }
   },
   "source": [
    "![etl](img/etl.png)\n",
    "\n",
    "[img source: Jeff Hammerbacher’s slide from UC Berkeley CS 194 course ](https://bcourses.berkeley.edu/courses/1377158/pages/cs-194-16-introduction-to-data-science-fall-2015)"
   ]
  },
  {
   "cell_type": "markdown",
   "metadata": {
    "slideshow": {
     "slide_type": "slide"
    }
   },
   "source": [
    "### What is a Relational Database? \n",
    "\n",
    "![rdb](img/relational-dbms-model.png)\n",
    "[reference for image ](https://www.studytonight.com/dbms/database-model.php)"
   ]
  },
  {
   "cell_type": "code",
   "execution_count": null,
   "metadata": {},
   "outputs": [],
   "source": [
    "#fact table (number, main information) v. dimensional table (category, way of dividing facts into groups)"
   ]
  },
  {
   "cell_type": "markdown",
   "metadata": {
    "slideshow": {
     "slide_type": "slide"
    }
   },
   "source": [
    "### POPULAR RDBMS\n",
    "\n",
    "- SQLite\n",
    "- MySQL\n",
    "- PostgreSql\n",
    "- Oracle DB\n",
    "- SQL Server"
   ]
  },
  {
   "cell_type": "markdown",
   "metadata": {
    "slideshow": {
     "slide_type": "slide"
    }
   },
   "source": [
    "***\n",
    "## Goal 2: Database terminology\n",
    "\n",
    "### Relational Database Schema\n",
    "\n",
    "![schema](img/MySQL_Schema_Music_Example.png)\n",
    "\n",
    "[source of image](https://database.guide/what-is-a-database-schema/)"
   ]
  },
  {
   "cell_type": "code",
   "execution_count": null,
   "metadata": {},
   "outputs": [],
   "source": [
    "#When a key is passed from one table to another, it's a secondary key."
   ]
  },
  {
   "cell_type": "markdown",
   "metadata": {
    "slideshow": {
     "slide_type": "slide"
    }
   },
   "source": [
    "### Table columns view\n",
    "![table example](img/columns.png)"
   ]
  },
  {
   "cell_type": "markdown",
   "metadata": {
    "slideshow": {
     "slide_type": "slide"
    }
   },
   "source": [
    "### Terminology\n",
    "\n",
    "- Schema\n",
    "- Primary Key\n",
    "- Foreign Key\n",
    "- Structured queries\n",
    "- Views"
   ]
  },
  {
   "cell_type": "markdown",
   "metadata": {
    "slideshow": {
     "slide_type": "slide"
    }
   },
   "source": [
    "***\n",
    "### SQLite\n",
    "\n",
    "![sqlite](img/SQLite-Python.jpg)\n",
    "\n",
    "\"SQLite is a C library that provides a lightweight disk-based database that doesn’t require a separate server process and allows accessing the database using a nonstandard variant of the SQL query language. Some applications can use SQLite for internal data storage. It’s also possible to prototype an application using SQLite and then port the code to a larger database such as PostgreSQL or Oracle.\" - [sqlite documentation](https://docs.python.org/2/library/sqlite3.html)\n",
    "\n"
   ]
  },
  {
   "cell_type": "markdown",
   "metadata": {
    "slideshow": {
     "slide_type": "slide"
    }
   },
   "source": [
    "## But what about connecting to database servers?\n",
    "\n",
    "To connect to an Oracle database server there is a different package, `cx_Oracle`. The documentation for that package is [here](https://oracle.github.io/python-cx_Oracle/)"
   ]
  },
  {
   "cell_type": "markdown",
   "metadata": {
    "slideshow": {
     "slide_type": "slide"
    }
   },
   "source": [
    "***\n",
    "## Goal 3: Get going with sqlite!"
   ]
  },
  {
   "cell_type": "code",
   "execution_count": 69,
   "metadata": {
    "slideshow": {
     "slide_type": "fragment"
    }
   },
   "outputs": [],
   "source": [
    "import sqlite3"
   ]
  },
  {
   "cell_type": "code",
   "execution_count": 3,
   "metadata": {},
   "outputs": [
    {
     "name": "stdout",
     "output_type": "stream",
     "text": [
      " Volume in drive C is OS\n",
      " Volume Serial Number is 82A5-4D9B\n",
      "\n",
      " Directory of C:\\Users\\Rocio\\Desktop\\Class_files\\dc-ds-071519\\Module-2\\week-1\\day_1_sql_pandas\n",
      "\n"
     ]
    },
    {
     "name": "stderr",
     "output_type": "stream",
     "text": [
      "File Not Found\n"
     ]
    }
   ],
   "source": []
  },
  {
   "cell_type": "markdown",
   "metadata": {
    "slideshow": {
     "slide_type": "slide"
    }
   },
   "source": [
    "#### Load a DB object with `connect` and `cursor`"
   ]
  },
  {
   "cell_type": "code",
   "execution_count": 71,
   "metadata": {
    "slideshow": {
     "slide_type": "fragment"
    }
   },
   "outputs": [],
   "source": [
    "con = sqlite3.connect('flights.db')\n",
    "cursor = con.cursor()"
   ]
  },
  {
   "cell_type": "markdown",
   "metadata": {
    "slideshow": {
     "slide_type": "slide"
    }
   },
   "source": [
    "#### Use sqlite_master to find all the tables in the schema\n",
    "Get the schema of a database from a db in sqlite"
   ]
  },
  {
   "cell_type": "code",
   "execution_count": 72,
   "metadata": {},
   "outputs": [
    {
     "name": "stdout",
     "output_type": "stream",
     "text": [
      "[('airports',), ('airlines',), ('routes',)]\n"
     ]
    }
   ],
   "source": [
    "cursor.execute(\"SELECT name FROM sqlite_master WHERE type='table';\")\n",
    "print(cursor.fetchall())\n",
    "# Tables with actual information in the database"
   ]
  },
  {
   "cell_type": "code",
   "execution_count": 6,
   "metadata": {},
   "outputs": [
    {
     "data": {
      "text/plain": [
       "(('name', None, None, None, None, None, None),)"
      ]
     },
     "execution_count": 6,
     "metadata": {},
     "output_type": "execute_result"
    }
   ],
   "source": [
    "cursor.description\n",
    "#Tables of acutal database"
   ]
  },
  {
   "cell_type": "code",
   "execution_count": 9,
   "metadata": {
    "scrolled": true
   },
   "outputs": [
    {
     "name": "stdout",
     "output_type": "stream",
     "text": [
      "[('airports', 'table'), ('ix_airports_index', 'index'), ('airlines', 'table'), ('ix_airlines_index', 'index'), ('routes', 'table'), ('ix_routes_index', 'index')]\n"
     ]
    }
   ],
   "source": [
    "cursor.execute(\"SELECT name, type From sqlite_master;\")\n",
    "print(cursor.fetchall())"
   ]
  },
  {
   "cell_type": "markdown",
   "metadata": {
    "slideshow": {
     "slide_type": "slide"
    }
   },
   "source": [
    "#### Get information about one table\n",
    "\n",
    "**A note about** `execute`<br>\n",
    "Each time you use it, you reset the value of cursor"
   ]
  },
  {
   "cell_type": "code",
   "execution_count": 13,
   "metadata": {},
   "outputs": [
    {
     "data": {
      "text/plain": [
       "(0,\n",
       " '1',\n",
       " 'Goroka',\n",
       " 'Goroka',\n",
       " 'Papua New Guinea',\n",
       " 'GKA',\n",
       " 'AYGA',\n",
       " '-6.081689',\n",
       " '145.391881',\n",
       " '5282',\n",
       " '10',\n",
       " 'U',\n",
       " 'Pacific/Port_Moresby')"
      ]
     },
     "execution_count": 13,
     "metadata": {},
     "output_type": "execute_result"
    }
   ],
   "source": [
    "cursor.execute(\"SELECT * FROM airports as a\").fetchone()\n",
    "# Only shows one record, like head(1). .fetchall() shows all the data\n",
    "# 'as a' assigns alias"
   ]
  },
  {
   "cell_type": "markdown",
   "metadata": {
    "slideshow": {
     "slide_type": "slide"
    }
   },
   "source": [
    "#### Use description"
   ]
  },
  {
   "cell_type": "code",
   "execution_count": 20,
   "metadata": {
    "slideshow": {
     "slide_type": "fragment"
    }
   },
   "outputs": [
    {
     "data": {
      "text/plain": [
       "(('index', None, None, None, None, None, None),\n",
       " ('id', None, None, None, None, None, None),\n",
       " ('name', None, None, None, None, None, None),\n",
       " ('city', None, None, None, None, None, None),\n",
       " ('country', None, None, None, None, None, None),\n",
       " ('code', None, None, None, None, None, None),\n",
       " ('icao', None, None, None, None, None, None),\n",
       " ('latitude', None, None, None, None, None, None),\n",
       " ('longitude', None, None, None, None, None, None),\n",
       " ('altitude', None, None, None, None, None, None),\n",
       " ('offset', None, None, None, None, None, None),\n",
       " ('dst', None, None, None, None, None, None),\n",
       " ('timezone', None, None, None, None, None, None))"
      ]
     },
     "execution_count": 20,
     "metadata": {},
     "output_type": "execute_result"
    }
   ],
   "source": [
    "cursor.description\n",
    "# Gives name of each column"
   ]
  },
  {
   "cell_type": "markdown",
   "metadata": {
    "slideshow": {
     "slide_type": "slide"
    }
   },
   "source": [
    "#### Or use `Pragma`\n",
    "`Pragma` tool [link here](https://www.sqlite.org/pragma.html#pragma_table_info)\n",
    "\n",
    "**output**<br>\n",
    "`(column id, column name, data type, whether or not the column can be NULL, and the default value for the column)`"
   ]
  },
  {
   "cell_type": "code",
   "execution_count": 27,
   "metadata": {
    "slideshow": {
     "slide_type": "slide"
    }
   },
   "outputs": [
    {
     "name": "stdout",
     "output_type": "stream",
     "text": [
      "(0, 'index', 'INTEGER', 0, None, 0)\n",
      "(1, 'id', 'TEXT', 0, None, 0)\n",
      "(2, 'name', 'TEXT', 0, None, 0)\n",
      "(3, 'city', 'TEXT', 0, None, 0)\n",
      "(4, 'country', 'TEXT', 0, None, 0)\n",
      "(5, 'code', 'TEXT', 0, None, 0)\n",
      "(6, 'icao', 'TEXT', 0, None, 0)\n",
      "(7, 'latitude', 'TEXT', 0, None, 0)\n",
      "(8, 'longitude', 'TEXT', 0, None, 0)\n",
      "(9, 'altitude', 'TEXT', 0, None, 0)\n",
      "(10, 'offset', 'TEXT', 0, None, 0)\n",
      "(11, 'dst', 'TEXT', 0, None, 0)\n",
      "(12, 'timezone', 'TEXT', 0, None, 0)\n"
     ]
    }
   ],
   "source": [
    "cursor.execute(\"PRAGMA table_info(airports)\")\n",
    "info = cursor.fetchall()\n",
    "print(*info, sep = \"\\n\") "
   ]
  },
  {
   "cell_type": "markdown",
   "metadata": {
    "slideshow": {
     "slide_type": "slide"
    }
   },
   "source": [
    "#### Making fetch happen\n",
    "\n",
    "`.fetchall()` is how you get the query results out of the object.\n",
    "\n",
    "You can also `.fetchone()` or `.fetchmany()`"
   ]
  },
  {
   "cell_type": "markdown",
   "metadata": {
    "slideshow": {
     "slide_type": "slide"
    }
   },
   "source": [
    "**Task:** Get the descriptive data for airlines and routes tables"
   ]
  },
  {
   "cell_type": "code",
   "execution_count": 28,
   "metadata": {},
   "outputs": [
    {
     "name": "stdout",
     "output_type": "stream",
     "text": [
      "(0, 'index', 'INTEGER', 0, None, 0)\n",
      "(1, 'id', 'TEXT', 0, None, 0)\n",
      "(2, 'name', 'TEXT', 0, None, 0)\n",
      "(3, 'alias', 'TEXT', 0, None, 0)\n",
      "(4, 'iata', 'TEXT', 0, None, 0)\n",
      "(5, 'icao', 'TEXT', 0, None, 0)\n",
      "(6, 'callsign', 'TEXT', 0, None, 0)\n",
      "(7, 'country', 'TEXT', 0, None, 0)\n",
      "(8, 'active', 'TEXT', 0, None, 0)\n"
     ]
    }
   ],
   "source": [
    "cursor.execute(\"PRAGMA table_info(airlines)\")\n",
    "info = cursor.fetchall()\n",
    "print(*info, sep = \"\\n\")"
   ]
  },
  {
   "cell_type": "code",
   "execution_count": 30,
   "metadata": {},
   "outputs": [
    {
     "name": "stdout",
     "output_type": "stream",
     "text": [
      "(0, 'index', 'INTEGER', 0, None, 0)\n",
      "(1, 'airline', 'TEXT', 0, None, 0)\n",
      "(2, 'airline_id', 'TEXT', 0, None, 0)\n",
      "(3, 'source', 'TEXT', 0, None, 0)\n",
      "(4, 'source_id', 'TEXT', 0, None, 0)\n",
      "(5, 'dest', 'TEXT', 0, None, 0)\n",
      "(6, 'dest_id', 'TEXT', 0, None, 0)\n",
      "(7, 'codeshare', 'TEXT', 0, None, 0)\n",
      "(8, 'stops', 'TEXT', 0, None, 0)\n",
      "(9, 'equipment', 'TEXT', 0, None, 0)\n"
     ]
    }
   ],
   "source": [
    "cursor.execute(\"PRAGMA table_info(routes)\")\n",
    "info = cursor.fetchall()\n",
    "print(*info, sep = \"\\n\") "
   ]
  },
  {
   "cell_type": "markdown",
   "metadata": {
    "slideshow": {
     "slide_type": "slide"
    }
   },
   "source": [
    "***\n",
    "## Goal 4: Use basic SQL commands \n",
    "- Construct SQL queries\n",
    "- Use JOIN to merge tables along logical columns\n",
    "- Grouping Data with SQL"
   ]
  },
  {
   "cell_type": "markdown",
   "metadata": {
    "slideshow": {
     "slide_type": "slide"
    }
   },
   "source": [
    "### Construct SQL queries"
   ]
  },
  {
   "cell_type": "code",
   "execution_count": null,
   "metadata": {},
   "outputs": [],
   "source": [
    "# From is the table.\n",
    "# Select is the columns you want.\n",
    "# Where is the conditional. (Ex. select IDS from Root Table where source is Guatamala city)\n",
    "# Order by: how to group"
   ]
  },
  {
   "cell_type": "markdown",
   "metadata": {
    "slideshow": {
     "slide_type": "fragment"
    }
   },
   "source": [
    "**Select**"
   ]
  },
  {
   "cell_type": "markdown",
   "metadata": {
    "slideshow": {
     "slide_type": "fragment"
    }
   },
   "source": [
    "**From**"
   ]
  },
  {
   "cell_type": "markdown",
   "metadata": {
    "slideshow": {
     "slide_type": "fragment"
    }
   },
   "source": [
    "**Where**"
   ]
  },
  {
   "cell_type": "markdown",
   "metadata": {
    "slideshow": {
     "slide_type": "fragment"
    }
   },
   "source": [
    "**Order by**"
   ]
  },
  {
   "cell_type": "markdown",
   "metadata": {
    "slideshow": {
     "slide_type": "fragment"
    }
   },
   "source": [
    "**Limit**"
   ]
  },
  {
   "cell_type": "markdown",
   "metadata": {
    "slideshow": {
     "slide_type": "slide"
    }
   },
   "source": [
    "#### Options for each:"
   ]
  },
  {
   "cell_type": "markdown",
   "metadata": {
    "slideshow": {
     "slide_type": "fragment"
    }
   },
   "source": [
    "**Select**:  `distinct`, using `as` to rename columns, single number aggregates"
   ]
  },
  {
   "cell_type": "markdown",
   "metadata": {
    "slideshow": {
     "slide_type": "fragment"
    }
   },
   "source": [
    "**From:** also uses aliasing with `as`"
   ]
  },
  {
   "cell_type": "markdown",
   "metadata": {
    "slideshow": {
     "slide_type": "fragment"
    }
   },
   "source": [
    "**Where**: equals is only one `=`, `between`, `in`, wildcards `%`, `AND`, `OR`, `NOT`"
   ]
  },
  {
   "cell_type": "markdown",
   "metadata": {
    "slideshow": {
     "slide_type": "fragment"
    }
   },
   "source": [
    "**Order by**: `asc` and `desc`"
   ]
  },
  {
   "cell_type": "markdown",
   "metadata": {
    "slideshow": {
     "slide_type": "fragment"
    }
   },
   "source": [
    "**Limit**:  #"
   ]
  },
  {
   "cell_type": "code",
   "execution_count": null,
   "metadata": {
    "slideshow": {
     "slide_type": "skip"
    }
   },
   "outputs": [],
   "source": []
  },
  {
   "cell_type": "markdown",
   "metadata": {
    "slideshow": {
     "slide_type": "slide"
    }
   },
   "source": [
    "**Task**: \n",
    "- Select only active airlines in the UK from the airlines table\n",
    "- Select the unique list of countries with airports"
   ]
  },
  {
   "cell_type": "code",
   "execution_count": 34,
   "metadata": {},
   "outputs": [
    {
     "data": {
      "text/plain": [
       "[(None,),\n",
       " ('United States',),\n",
       " ('South Africa',),\n",
       " ('United Kingdom',),\n",
       " ('Russia',),\n",
       " ('Thailand',),\n",
       " ('Canada',),\n",
       " ('Australia',),\n",
       " ('Singapore',),\n",
       " ('Belgium',),\n",
       " ('Mexico',),\n",
       " ('Spain',),\n",
       " ('France',),\n",
       " ('United Arab Emirates',),\n",
       " ('Republic of Korea',),\n",
       " ('Pakistan',),\n",
       " ('Libya',),\n",
       " ('Gambia',),\n",
       " ('Ivory Coast',),\n",
       " ('Ukraine',),\n",
       " ('Democratic Republic of the Congo',),\n",
       " ('Iran',),\n",
       " ('Finland',),\n",
       " ('Brazil',),\n",
       " ('Colombia',),\n",
       " ('AEROCENTER',),\n",
       " ('Ghana',),\n",
       " ('Kenya',),\n",
       " ('Liberia',),\n",
       " ('Togo',),\n",
       " ('Somali Republic',),\n",
       " ('Morocco',),\n",
       " ('Canadian Territories',),\n",
       " ('Dominican Republic',),\n",
       " ('Japan',),\n",
       " ('Albania',),\n",
       " ('Nigeria',),\n",
       " ('Germany',),\n",
       " ('Slovenia',),\n",
       " ('Czech Republic',),\n",
       " ('Benin',),\n",
       " ('AEROCESAR',),\n",
       " ('Greece',),\n",
       " ('Chile',),\n",
       " ('Tanzania',),\n",
       " ('Bolivia',),\n",
       " ('Italy',),\n",
       " ('Sweden',),\n",
       " ('Argentina',),\n",
       " ('Sierra Leone',),\n",
       " ('Indonesia',),\n",
       " ('Senegal',),\n",
       " ('Afghanistan',),\n",
       " ('Uganda',),\n",
       " ('Bosnia and Herzegovina',),\n",
       " ('Gabon',),\n",
       " ('Angola',),\n",
       " ('Uzbekistan',),\n",
       " ('Namibia',),\n",
       " ('Turkey',),\n",
       " ('Vietnam',),\n",
       " ('Zambia',),\n",
       " ('Venezuela',),\n",
       " ('Egypt',),\n",
       " ('Ireland',),\n",
       " ('Switzerland',),\n",
       " ('Serbia',),\n",
       " ('Peru',),\n",
       " ('Slovakia',),\n",
       " ('Denmark',),\n",
       " ('Azerbaijan',),\n",
       " ('AIRPORT HELICOPTER',),\n",
       " ('Hong Kong',),\n",
       " ('Croatia',),\n",
       " ('Hungary',),\n",
       " ('Estonia',),\n",
       " ('Swaziland',),\n",
       " ('India',),\n",
       " ('Reunion',),\n",
       " ('Iceland',),\n",
       " ('Israel',),\n",
       " ('Austria',),\n",
       " ('Jamaica',),\n",
       " ('Malta',),\n",
       " ('Portugal',),\n",
       " ('Cyprus',),\n",
       " ('Kazakhstan',),\n",
       " ('Kyrgyzstan',),\n",
       " ('Turkmenistan',),\n",
       " ('Kiribati',),\n",
       " ('Cambodia',),\n",
       " ('Netherlands Antilles',),\n",
       " ('Sao Tome and Principe',),\n",
       " ('ALNACIONAL',),\n",
       " ('Lithuania',),\n",
       " ('Maldives',),\n",
       " ('Malawi',),\n",
       " ('Moldova',),\n",
       " ('Montenegro',),\n",
       " ('Macao',),\n",
       " ('Seychelles',),\n",
       " ('Bulgaria',),\n",
       " ('Papua New Guinea',),\n",
       " ('Latvia',),\n",
       " ('ANTARES',),\n",
       " ('AVINOR',),\n",
       " ('New Zealand',),\n",
       " ('ALCON',),\n",
       " ('ASTORIA',),\n",
       " ('COMPANY AS',),\n",
       " ('Philippines',),\n",
       " ('AIRPAC',),\n",
       " ('AIRFLIGHT',),\n",
       " ('ASA PESADA',),\n",
       " ('AIR PRINT',),\n",
       " ('APPALACHIAN',),\n",
       " ('ALASKA PACIFIC',),\n",
       " ('AEROPERLAS',),\n",
       " ('AEROPUMA',),\n",
       " ('ATCO',),\n",
       " ('AVIOQUINTANA',),\n",
       " ('Aruba',),\n",
       " (' S.A.',),\n",
       " ('ARMSTRONG',),\n",
       " ('Armenia',),\n",
       " ('AIREX',),\n",
       " ('Chad',),\n",
       " ('ALASKA',),\n",
       " ('SCHEFF',),\n",
       " ('AEROSUN',),\n",
       " ('ALL STAR',),\n",
       " ('AIR CLASS',),\n",
       " ('Nepal',),\n",
       " ('Sudan',),\n",
       " ('Panama',),\n",
       " ('Guinea-Bissau',),\n",
       " ('ATLANTIS CANADA',),\n",
       " ('Burkina Faso',),\n",
       " ('Netherlands',),\n",
       " ('Ecuador',),\n",
       " ('AUDI AIR',),\n",
       " ('Uruguay',),\n",
       " ('AURORA AIR',),\n",
       " ('AUSA',),\n",
       " ('AVIANCA',),\n",
       " ('ALAMO',),\n",
       " ('Djibouti',),\n",
       " ('AVEMEX',),\n",
       " ('Vanuatu',),\n",
       " ('AQUILINE',),\n",
       " ('ACTIVE AERO',),\n",
       " ('Bangladesh',),\n",
       " ('Georgia',),\n",
       " ('El Salvador',),\n",
       " ('AEROVARADERO',),\n",
       " ('AIRNAT',),\n",
       " ('Niger',),\n",
       " ('Jordan',),\n",
       " ('AIRWAVE',),\n",
       " ('AEROWEE',),\n",
       " ('AIR FREIGHTER',),\n",
       " ('Malaysia',),\n",
       " ('RENTAXEL',),\n",
       " ('Macedonia',),\n",
       " ('AIRMAN',),\n",
       " ('ATLANTIC NICARAGUA',),\n",
       " ('AZIMUT',),\n",
       " ('Zimbabwe',),\n",
       " ('ARIZAIR',),\n",
       " ('Lebanon',),\n",
       " ('Guatemala',),\n",
       " ('Bahrain',),\n",
       " ('Barbados',),\n",
       " ('Botswana',),\n",
       " ('French Polynesia',),\n",
       " ('Russian Federation',),\n",
       " ('China',),\n",
       " ('Belize',),\n",
       " ('Mozambique',),\n",
       " ('Marshall Islands',),\n",
       " ('Algeria',),\n",
       " ('Ethiopia',),\n",
       " ('Air S',),\n",
       " ('Fiji',),\n",
       " ('Mali',),\n",
       " ('Faroe Islands',),\n",
       " ('Mauritania',),\n",
       " ('Cameroon',),\n",
       " ('Guinea',),\n",
       " ('Belarus',),\n",
       " ('French Guiana',),\n",
       " ('Haiti',),\n",
       " ('Comoros',),\n",
       " ('Honduras',),\n",
       " ('Norway',),\n",
       " ('Myanmar',),\n",
       " (\"Democratic People's Republic of Korea\",),\n",
       " ('Mauritius',),\n",
       " ('Madagascar',),\n",
       " ('Mongolia',),\n",
       " ('Burundi',),\n",
       " ('Sri Lanka',),\n",
       " ('Romania',),\n",
       " ('Republic of the Congo',),\n",
       " ('Rwanda',),\n",
       " ('Nicaragua',),\n",
       " ('Turks and Caicos Islands',),\n",
       " ('S',),\n",
       " ('Bahamas',),\n",
       " ('Suriname',),\n",
       " ('Syrian Arab Republic',),\n",
       " ('AIR-MAUR',),\n",
       " ('Cape Verde',),\n",
       " ('Luxembourg',),\n",
       " ('Oman',),\n",
       " ('Antigua and Barbuda',),\n",
       " ('Trinidad and Tobago',),\n",
       " ('Hong Kong SAR of China',),\n",
       " ('Cayman Islands',),\n",
       " ('Central African Republic',),\n",
       " ('Democratic Republic of Congo',),\n",
       " ('Poland',),\n",
       " ('Taiwan',),\n",
       " ('ASUR',),\n",
       " ('Paraguay',),\n",
       " ('Cuba',),\n",
       " ('DRAGON',),\n",
       " ('Bhutan',),\n",
       " ('Equatorial Guinea',),\n",
       " ('UNIFORM OSCAR',),\n",
       " ('Russia]]',),\n",
       " ('Eritrea',),\n",
       " ('Tunisia',),\n",
       " ('Costa Rica',),\n",
       " ('Saint Lucia',),\n",
       " ('Monaco',),\n",
       " ('Solomon Islands',),\n",
       " ('ALDAWLYH AIR',),\n",
       " ('Iraq',),\n",
       " ('Kuwait',),\n",
       " ('ODINN',),\n",
       " ('LAP',),\n",
       " ('Lao Peoples Democratic Republic',),\n",
       " ('Bermuda',),\n",
       " ('WATCHDOG',),\n",
       " ('Montserrat',),\n",
       " ('Nauru',),\n",
       " ('Saudi Arabia',),\n",
       " ('Palau',),\n",
       " ('Tonga',),\n",
       " ('Samoa',),\n",
       " ('Qatar',),\n",
       " ('UNited Kingdom',),\n",
       " ('Netherland',),\n",
       " ('Guyana',),\n",
       " ('Cook Islands',),\n",
       " ('Brunei',),\n",
       " ('ACOM',),\n",
       " (' Boonville Stage Line',),\n",
       " ('Saint Vincent and the Grenadines',),\n",
       " ('SWISSBIRD',),\n",
       " ('Yemen',),\n",
       " ('Tajikistan',),\n",
       " ('AEROSOL',),\n",
       " ('Saint Kitts and Nevis',),\n",
       " ('VELES',),\n",
       " (\"Cote d'Ivoire\",),\n",
       " ('\\\\N',),\n",
       " ('Burma',),\n",
       " ('South Korea',),\n",
       " ('Guadeloupe',),\n",
       " ('Congo (Kinshasa)',),\n",
       " ('Syria',),\n",
       " ('American Samoa',),\n",
       " ('British Virgin Islands',),\n",
       " ('Puerto Rico',),\n",
       " ('Congo (Brazzaville)',)]"
      ]
     },
     "execution_count": 34,
     "metadata": {},
     "output_type": "execute_result"
    }
   ],
   "source": [
    "cursor.execute(\"\"\"SELECT distinct country FROM airlines\"\"\").fetchall()"
   ]
  },
  {
   "cell_type": "code",
   "execution_count": 36,
   "metadata": {},
   "outputs": [
    {
     "data": {
      "text/plain": [
       "[('Astraeus',)]"
      ]
     },
     "execution_count": 36,
     "metadata": {},
     "output_type": "execute_result"
    }
   ],
   "source": [
    "cursor.execute(\"\"\"SELECT name FROM airlines WHERE active = 'Y' AND country = 'United Kingdom';\"\"\").fetchmany()"
   ]
  },
  {
   "cell_type": "markdown",
   "metadata": {
    "slideshow": {
     "slide_type": "slide"
    }
   },
   "source": [
    "### SQL Joins"
   ]
  },
  {
   "cell_type": "markdown",
   "metadata": {
    "slideshow": {
     "slide_type": "fragment"
    }
   },
   "source": [
    "SQL joins can be used to both **add** data to a table and **remove** data from a table. "
   ]
  },
  {
   "cell_type": "markdown",
   "metadata": {
    "slideshow": {
     "slide_type": "fragment"
    }
   },
   "source": [
    "![venn](img/venn.png)"
   ]
  },
  {
   "cell_type": "markdown",
   "metadata": {
    "slideshow": {
     "slide_type": "slide"
    }
   },
   "source": [
    "**Task** Write a query that will join the latitude and longitude data from the airports table to the information on the routes table"
   ]
  },
  {
   "cell_type": "code",
   "execution_count": 50,
   "metadata": {
    "slideshow": {
     "slide_type": "skip"
    }
   },
   "outputs": [
    {
     "ename": "OperationalError",
     "evalue": "near \"index\": syntax error",
     "output_type": "error",
     "traceback": [
      "\u001b[1;31m---------------------------------------------------------------------------\u001b[0m",
      "\u001b[1;31mOperationalError\u001b[0m                          Traceback (most recent call last)",
      "\u001b[1;32m<ipython-input-50-f893b7a6eb67>\u001b[0m in \u001b[0;36m<module>\u001b[1;34m\u001b[0m\n\u001b[0;32m      1\u001b[0m cursor.execute(\"\"\"SELECT a.latitude, a.longitutde, r.index, r.airline, r.source, r.dest \n\u001b[0;32m      2\u001b[0m                     \u001b[0mFROM\u001b[0m \u001b[0mairports\u001b[0m \u001b[1;32mas\u001b[0m \u001b[0ma\u001b[0m\u001b[1;33m\u001b[0m\u001b[1;33m\u001b[0m\u001b[0m\n\u001b[1;32m----> 3\u001b[1;33m                     JOIN routes as r on r.source_id = a.id  \"\"\").fetchone()\n\u001b[0m",
      "\u001b[1;31mOperationalError\u001b[0m: near \"index\": syntax error"
     ]
    }
   ],
   "source": [
    "cursor.execute(\"\"\"SELECT a.latitude, a.longitutde, r.index, r.airline, r.source, r.dest \n",
    "                    FROM airports as a\n",
    "                    JOIN routes as r on r.source_id = a.id  \"\"\").fetchone()"
   ]
  },
  {
   "cell_type": "markdown",
   "metadata": {
    "slideshow": {
     "slide_type": "slide"
    }
   },
   "source": [
    "### Grouping statements\n",
    "\n",
    "Combines `select` and `group by` when you want aggregates by values"
   ]
  },
  {
   "cell_type": "markdown",
   "metadata": {
    "slideshow": {
     "slide_type": "fragment"
    }
   },
   "source": [
    "`select` `min(x)` ... `max()`, `sum()`, etc"
   ]
  },
  {
   "cell_type": "markdown",
   "metadata": {
    "slideshow": {
     "slide_type": "fragment"
    }
   },
   "source": [
    "`group by x`"
   ]
  },
  {
   "cell_type": "markdown",
   "metadata": {
    "slideshow": {
     "slide_type": "slide"
    }
   },
   "source": [
    "**Task**<br>\n",
    "- Which countries have the highest amount of active airports?\n",
    "- Which countries have the highest amount of inactive airports?\n",
    "- What about airports by timezones?"
   ]
  },
  {
   "cell_type": "code",
   "execution_count": 58,
   "metadata": {
    "slideshow": {
     "slide_type": "skip"
    }
   },
   "outputs": [
    {
     "name": "stdout",
     "output_type": "stream",
     "text": [
      "('United States', 141)\n",
      "('Russia', 72)\n",
      "('United Kingdom', 40)\n",
      "('Germany', 37)\n",
      "('Canada', 34)\n",
      "('Australia', 26)\n",
      "('China', 25)\n",
      "('Spain', 24)\n",
      "('Brazil', 23)\n",
      "('France', 22)\n"
     ]
    }
   ],
   "source": [
    "cursor.execute(\"\"\"\n",
    "SELECT country, count(*) AS count\n",
    "FROM airlines\n",
    "WHERE active = 'Y'\n",
    "GROUP BY country\n",
    "ORDER BY count DESC\n",
    "LIMIT 10\n",
    "\"\"\")\n",
    "print(*cursor.fetchall(), sep='\\n')"
   ]
  },
  {
   "cell_type": "code",
   "execution_count": 59,
   "metadata": {
    "scrolled": true
   },
   "outputs": [
    {
     "name": "stdout",
     "output_type": "stream",
     "text": [
      "('United States', 939)\n",
      "('Mexico', 427)\n",
      "('United Kingdom', 367)\n",
      "('Canada', 284)\n",
      "('Russia', 158)\n",
      "('Spain', 142)\n",
      "('France', 97)\n",
      "('Germany', 94)\n",
      "('South Africa', 81)\n",
      "('Nigeria', 80)\n"
     ]
    }
   ],
   "source": [
    "cursor.execute(\"\"\"\n",
    "SELECT country, count(*) AS count\n",
    "FROM airlines\n",
    "WHERE active = 'N'\n",
    "GROUP BY country\n",
    "ORDER BY count DESC\n",
    "LIMIT 10\n",
    "\"\"\")\n",
    "print(*cursor.fetchall(), sep='\\n')"
   ]
  },
  {
   "cell_type": "code",
   "execution_count": 64,
   "metadata": {},
   "outputs": [
    {
     "name": "stdout",
     "output_type": "stream",
     "text": [
      "('America/New_York', 628)\n",
      "('America/Chicago', 373)\n",
      "('Europe/Berlin', 319)\n",
      "('America/Anchorage', 258)\n",
      "('Europe/Paris', 232)\n",
      "('America/Los_Angeles', 226)\n",
      "('Asia/Chongqing', 222)\n",
      "('Europe/London', 193)\n",
      "('America/Toronto', 159)\n",
      "('Asia/Calcutta', 141)\n"
     ]
    }
   ],
   "source": [
    "cursor.execute(\"\"\"\n",
    "SELECT timezone, count(*) AS count\n",
    "FROM airports\n",
    "GROUP BY 1\n",
    "ORDER BY 2 DESC\n",
    "LIMIT 10\n",
    "\"\"\")\n",
    "print(*cursor.fetchall(), sep='\\n')\n",
    "# Group by 1 means group by first thing selected, timezone. Order by 2 is order by airports."
   ]
  },
  {
   "cell_type": "code",
   "execution_count": 68,
   "metadata": {},
   "outputs": [
    {
     "ename": "AttributeError",
     "evalue": "'sqlite3.Cursor' object has no attribute 'con'",
     "output_type": "error",
     "traceback": [
      "\u001b[1;31m---------------------------------------------------------------------------\u001b[0m",
      "\u001b[1;31mAttributeError\u001b[0m                            Traceback (most recent call last)",
      "\u001b[1;32m<ipython-input-68-d66fbf3a7019>\u001b[0m in \u001b[0;36m<module>\u001b[1;34m\u001b[0m\n\u001b[1;32m----> 1\u001b[1;33m \u001b[0mcursor\u001b[0m\u001b[1;33m.\u001b[0m\u001b[0mcon\u001b[0m\u001b[1;33m.\u001b[0m\u001b[0mclose\u001b[0m\u001b[1;33m\u001b[0m\u001b[1;33m\u001b[0m\u001b[0m\n\u001b[0m",
      "\u001b[1;31mAttributeError\u001b[0m: 'sqlite3.Cursor' object has no attribute 'con'"
     ]
    }
   ],
   "source": []
  },
  {
   "cell_type": "markdown",
   "metadata": {
    "slideshow": {
     "slide_type": "slide"
    }
   },
   "source": [
    "## Goal 5: Using sql within pandas to filter\n",
    "\n",
    "`.query()`\n",
    "\n",
    "[query documentation](https://pandas.pydata.org/pandas-docs/stable/reference/api/pandas.DataFrame.query.html)"
   ]
  },
  {
   "cell_type": "code",
   "execution_count": 62,
   "metadata": {
    "slideshow": {
     "slide_type": "slide"
    }
   },
   "outputs": [
    {
     "data": {
      "text/plain": [
       "Animal ID           object\n",
       "Name                object\n",
       "DateTime            object\n",
       "MonthYear           object\n",
       "Date of Birth       object\n",
       "Outcome Type        object\n",
       "Outcome Subtype     object\n",
       "Animal Type         object\n",
       "Sex upon Outcome    object\n",
       "Age upon Outcome    object\n",
       "Breed               object\n",
       "Color               object\n",
       "dtype: object"
      ]
     },
     "execution_count": 62,
     "metadata": {},
     "output_type": "execute_result"
    }
   ],
   "source": [
    "# Get data for an example\n",
    "import pandas as pd\n",
    "shelter_data=pd.read_csv('https://data.austintexas.gov/api/views/9t4d-g238/rows.csv?accessType=DOWNLOAD')\n",
    "shelter_data.dtypes"
   ]
  },
  {
   "cell_type": "code",
   "execution_count": 63,
   "metadata": {
    "slideshow": {
     "slide_type": "slide"
    }
   },
   "outputs": [
    {
     "data": {
      "text/html": [
       "<div>\n",
       "<style scoped>\n",
       "    .dataframe tbody tr th:only-of-type {\n",
       "        vertical-align: middle;\n",
       "    }\n",
       "\n",
       "    .dataframe tbody tr th {\n",
       "        vertical-align: top;\n",
       "    }\n",
       "\n",
       "    .dataframe thead th {\n",
       "        text-align: right;\n",
       "    }\n",
       "</style>\n",
       "<table border=\"1\" class=\"dataframe\">\n",
       "  <thead>\n",
       "    <tr style=\"text-align: right;\">\n",
       "      <th></th>\n",
       "      <th>Animal ID</th>\n",
       "      <th>Name</th>\n",
       "      <th>DateTime</th>\n",
       "      <th>MonthYear</th>\n",
       "      <th>Date of Birth</th>\n",
       "      <th>Outcome Type</th>\n",
       "      <th>Outcome Subtype</th>\n",
       "      <th>Animal Type</th>\n",
       "      <th>Sex upon Outcome</th>\n",
       "      <th>Age upon Outcome</th>\n",
       "      <th>Breed</th>\n",
       "      <th>Color</th>\n",
       "    </tr>\n",
       "  </thead>\n",
       "  <tbody>\n",
       "    <tr>\n",
       "      <th>126</th>\n",
       "      <td>A800791</td>\n",
       "      <td>Max</td>\n",
       "      <td>07/29/2019 06:07:00 PM</td>\n",
       "      <td>07/29/2019 06:07:00 PM</td>\n",
       "      <td>07/26/2017</td>\n",
       "      <td>Return to Owner</td>\n",
       "      <td>NaN</td>\n",
       "      <td>Dog</td>\n",
       "      <td>Intact Male</td>\n",
       "      <td>2 years</td>\n",
       "      <td>Pit Bull</td>\n",
       "      <td>Brown/White</td>\n",
       "    </tr>\n",
       "    <tr>\n",
       "      <th>262</th>\n",
       "      <td>A788916</td>\n",
       "      <td>Max</td>\n",
       "      <td>07/27/2019 05:16:00 PM</td>\n",
       "      <td>07/27/2019 05:16:00 PM</td>\n",
       "      <td>11/26/2018</td>\n",
       "      <td>Return to Owner</td>\n",
       "      <td>NaN</td>\n",
       "      <td>Dog</td>\n",
       "      <td>Neutered Male</td>\n",
       "      <td>7 months</td>\n",
       "      <td>Pit Bull Mix</td>\n",
       "      <td>Brown Brindle/White</td>\n",
       "    </tr>\n",
       "    <tr>\n",
       "      <th>290</th>\n",
       "      <td>A799870</td>\n",
       "      <td>Max</td>\n",
       "      <td>07/26/2019 07:17:00 PM</td>\n",
       "      <td>07/26/2019 07:17:00 PM</td>\n",
       "      <td>07/13/2017</td>\n",
       "      <td>Return to Owner</td>\n",
       "      <td>NaN</td>\n",
       "      <td>Dog</td>\n",
       "      <td>Intact Male</td>\n",
       "      <td>2 years</td>\n",
       "      <td>German Shepherd</td>\n",
       "      <td>Brown/Black</td>\n",
       "    </tr>\n",
       "    <tr>\n",
       "      <th>1170</th>\n",
       "      <td>A799881</td>\n",
       "      <td>Max</td>\n",
       "      <td>07/13/2019 02:33:00 PM</td>\n",
       "      <td>07/13/2019 02:33:00 PM</td>\n",
       "      <td>05/13/2019</td>\n",
       "      <td>Transfer</td>\n",
       "      <td>Partner</td>\n",
       "      <td>Dog</td>\n",
       "      <td>Intact Male</td>\n",
       "      <td>1 month</td>\n",
       "      <td>Yorkshire Terrier Mix</td>\n",
       "      <td>Brown/White</td>\n",
       "    </tr>\n",
       "    <tr>\n",
       "      <th>1535</th>\n",
       "      <td>A798950</td>\n",
       "      <td>Max</td>\n",
       "      <td>07/07/2019 01:31:00 PM</td>\n",
       "      <td>07/07/2019 01:31:00 PM</td>\n",
       "      <td>07/02/2017</td>\n",
       "      <td>Adoption</td>\n",
       "      <td>NaN</td>\n",
       "      <td>Dog</td>\n",
       "      <td>Neutered Male</td>\n",
       "      <td>2 years</td>\n",
       "      <td>American Bulldog</td>\n",
       "      <td>White/Blue</td>\n",
       "    </tr>\n",
       "    <tr>\n",
       "      <th>1684</th>\n",
       "      <td>A799025</td>\n",
       "      <td>Max</td>\n",
       "      <td>07/05/2019 11:13:00 AM</td>\n",
       "      <td>07/05/2019 11:13:00 AM</td>\n",
       "      <td>01/19/2019</td>\n",
       "      <td>Return to Owner</td>\n",
       "      <td>NaN</td>\n",
       "      <td>Dog</td>\n",
       "      <td>Neutered Male</td>\n",
       "      <td>5 months</td>\n",
       "      <td>German Shepherd Mix</td>\n",
       "      <td>Tan</td>\n",
       "    </tr>\n",
       "    <tr>\n",
       "      <th>1964</th>\n",
       "      <td>A798743</td>\n",
       "      <td>Max</td>\n",
       "      <td>06/30/2019 04:54:00 PM</td>\n",
       "      <td>06/30/2019 04:54:00 PM</td>\n",
       "      <td>10/29/2018</td>\n",
       "      <td>Return to Owner</td>\n",
       "      <td>NaN</td>\n",
       "      <td>Dog</td>\n",
       "      <td>Intact Male</td>\n",
       "      <td>8 months</td>\n",
       "      <td>Maltese/Miniature Poodle</td>\n",
       "      <td>White/Tan</td>\n",
       "    </tr>\n",
       "    <tr>\n",
       "      <th>2419</th>\n",
       "      <td>A700767</td>\n",
       "      <td>Max</td>\n",
       "      <td>06/25/2019 02:12:00 PM</td>\n",
       "      <td>06/25/2019 02:12:00 PM</td>\n",
       "      <td>04/19/2011</td>\n",
       "      <td>Return to Owner</td>\n",
       "      <td>NaN</td>\n",
       "      <td>Dog</td>\n",
       "      <td>Neutered Male</td>\n",
       "      <td>8 years</td>\n",
       "      <td>Labrador Retriever/Plott Hound</td>\n",
       "      <td>Brown Brindle/White</td>\n",
       "    </tr>\n",
       "    <tr>\n",
       "      <th>2729</th>\n",
       "      <td>A797355</td>\n",
       "      <td>Max</td>\n",
       "      <td>06/21/2019 06:39:00 PM</td>\n",
       "      <td>06/21/2019 06:39:00 PM</td>\n",
       "      <td>12/12/2017</td>\n",
       "      <td>Adoption</td>\n",
       "      <td>NaN</td>\n",
       "      <td>Dog</td>\n",
       "      <td>Neutered Male</td>\n",
       "      <td>1 year</td>\n",
       "      <td>Pit Bull Mix</td>\n",
       "      <td>Chocolate/White</td>\n",
       "    </tr>\n",
       "    <tr>\n",
       "      <th>2741</th>\n",
       "      <td>A797407</td>\n",
       "      <td>Max</td>\n",
       "      <td>06/21/2019 04:05:00 PM</td>\n",
       "      <td>06/21/2019 04:05:00 PM</td>\n",
       "      <td>03/13/2019</td>\n",
       "      <td>Adoption</td>\n",
       "      <td>NaN</td>\n",
       "      <td>Dog</td>\n",
       "      <td>Neutered Male</td>\n",
       "      <td>3 months</td>\n",
       "      <td>German Shepherd/Chinese Sharpei</td>\n",
       "      <td>Tricolor</td>\n",
       "    </tr>\n",
       "    <tr>\n",
       "      <th>2894</th>\n",
       "      <td>A797258</td>\n",
       "      <td>Max</td>\n",
       "      <td>06/19/2019 12:58:00 PM</td>\n",
       "      <td>06/19/2019 12:58:00 PM</td>\n",
       "      <td>02/11/2018</td>\n",
       "      <td>Transfer</td>\n",
       "      <td>Partner</td>\n",
       "      <td>Dog</td>\n",
       "      <td>Intact Male</td>\n",
       "      <td>1 year</td>\n",
       "      <td>Rottweiler Mix</td>\n",
       "      <td>Black/Tan</td>\n",
       "    </tr>\n",
       "    <tr>\n",
       "      <th>2963</th>\n",
       "      <td>A797814</td>\n",
       "      <td>Max</td>\n",
       "      <td>06/18/2019 12:52:00 PM</td>\n",
       "      <td>06/18/2019 12:52:00 PM</td>\n",
       "      <td>06/18/2017</td>\n",
       "      <td>Return to Owner</td>\n",
       "      <td>NaN</td>\n",
       "      <td>Dog</td>\n",
       "      <td>Intact Male</td>\n",
       "      <td>2 years</td>\n",
       "      <td>Pug</td>\n",
       "      <td>Tan/Black</td>\n",
       "    </tr>\n",
       "    <tr>\n",
       "      <th>3007</th>\n",
       "      <td>A797341</td>\n",
       "      <td>Max</td>\n",
       "      <td>06/17/2019 05:12:00 PM</td>\n",
       "      <td>06/17/2019 05:12:00 PM</td>\n",
       "      <td>03/12/2019</td>\n",
       "      <td>Adoption</td>\n",
       "      <td>NaN</td>\n",
       "      <td>Cat</td>\n",
       "      <td>Neutered Male</td>\n",
       "      <td>3 months</td>\n",
       "      <td>Domestic Shorthair</td>\n",
       "      <td>Cream Tabby/White</td>\n",
       "    </tr>\n",
       "    <tr>\n",
       "      <th>3226</th>\n",
       "      <td>A680607</td>\n",
       "      <td>Max</td>\n",
       "      <td>06/14/2019 11:50:00 AM</td>\n",
       "      <td>06/14/2019 11:50:00 AM</td>\n",
       "      <td>04/04/2014</td>\n",
       "      <td>Return to Owner</td>\n",
       "      <td>NaN</td>\n",
       "      <td>Dog</td>\n",
       "      <td>Neutered Male</td>\n",
       "      <td>5 years</td>\n",
       "      <td>Chihuahua Shorthair Mix</td>\n",
       "      <td>Tan/White</td>\n",
       "    </tr>\n",
       "    <tr>\n",
       "      <th>3292</th>\n",
       "      <td>A797339</td>\n",
       "      <td>Max</td>\n",
       "      <td>06/13/2019 11:39:00 AM</td>\n",
       "      <td>06/13/2019 11:39:00 AM</td>\n",
       "      <td>06/12/2017</td>\n",
       "      <td>Return to Owner</td>\n",
       "      <td>NaN</td>\n",
       "      <td>Dog</td>\n",
       "      <td>Intact Male</td>\n",
       "      <td>2 years</td>\n",
       "      <td>Welsh Terrier/Miniature Poodle</td>\n",
       "      <td>Tan/Gray</td>\n",
       "    </tr>\n",
       "    <tr>\n",
       "      <th>3531</th>\n",
       "      <td>A780200</td>\n",
       "      <td>Max</td>\n",
       "      <td>06/10/2019 10:53:00 AM</td>\n",
       "      <td>06/10/2019 10:53:00 AM</td>\n",
       "      <td>09/11/2014</td>\n",
       "      <td>Rto-Adopt</td>\n",
       "      <td>NaN</td>\n",
       "      <td>Dog</td>\n",
       "      <td>Neutered Male</td>\n",
       "      <td>4 years</td>\n",
       "      <td>German Shepherd Mix</td>\n",
       "      <td>Brown/Black</td>\n",
       "    </tr>\n",
       "    <tr>\n",
       "      <th>3555</th>\n",
       "      <td>A793073</td>\n",
       "      <td>Max</td>\n",
       "      <td>06/09/2019 05:52:00 PM</td>\n",
       "      <td>06/09/2019 05:52:00 PM</td>\n",
       "      <td>06/02/2018</td>\n",
       "      <td>Adoption</td>\n",
       "      <td>NaN</td>\n",
       "      <td>Dog</td>\n",
       "      <td>Neutered Male</td>\n",
       "      <td>1 year</td>\n",
       "      <td>Boxer Mix</td>\n",
       "      <td>Brown/Tricolor</td>\n",
       "    </tr>\n",
       "    <tr>\n",
       "      <th>3908</th>\n",
       "      <td>A744193</td>\n",
       "      <td>Max</td>\n",
       "      <td>06/04/2019 03:30:00 PM</td>\n",
       "      <td>06/04/2019 03:30:00 PM</td>\n",
       "      <td>09/27/2016</td>\n",
       "      <td>Adoption</td>\n",
       "      <td>NaN</td>\n",
       "      <td>Dog</td>\n",
       "      <td>Neutered Male</td>\n",
       "      <td>2 years</td>\n",
       "      <td>Cairn Terrier Mix</td>\n",
       "      <td>Tan/White</td>\n",
       "    </tr>\n",
       "    <tr>\n",
       "      <th>3971</th>\n",
       "      <td>A794951</td>\n",
       "      <td>Max</td>\n",
       "      <td>06/03/2019 07:30:00 PM</td>\n",
       "      <td>06/03/2019 07:30:00 PM</td>\n",
       "      <td>05/14/2017</td>\n",
       "      <td>Rto-Adopt</td>\n",
       "      <td>NaN</td>\n",
       "      <td>Dog</td>\n",
       "      <td>Intact Male</td>\n",
       "      <td>2 years</td>\n",
       "      <td>Labrador Retriever</td>\n",
       "      <td>Red</td>\n",
       "    </tr>\n",
       "    <tr>\n",
       "      <th>4130</th>\n",
       "      <td>A796351</td>\n",
       "      <td>Max</td>\n",
       "      <td>06/01/2019 04:18:00 PM</td>\n",
       "      <td>06/01/2019 04:18:00 PM</td>\n",
       "      <td>05/31/2010</td>\n",
       "      <td>Return to Owner</td>\n",
       "      <td>NaN</td>\n",
       "      <td>Cat</td>\n",
       "      <td>Neutered Male</td>\n",
       "      <td>9 years</td>\n",
       "      <td>Domestic Shorthair</td>\n",
       "      <td>Black/White</td>\n",
       "    </tr>\n",
       "    <tr>\n",
       "      <th>4262</th>\n",
       "      <td>A795976</td>\n",
       "      <td>Max</td>\n",
       "      <td>05/30/2019 11:20:00 AM</td>\n",
       "      <td>05/30/2019 11:20:00 AM</td>\n",
       "      <td>05/27/2008</td>\n",
       "      <td>Transfer</td>\n",
       "      <td>Partner</td>\n",
       "      <td>Dog</td>\n",
       "      <td>Neutered Male</td>\n",
       "      <td>11 years</td>\n",
       "      <td>Maltese</td>\n",
       "      <td>White</td>\n",
       "    </tr>\n",
       "    <tr>\n",
       "      <th>4762</th>\n",
       "      <td>A784016</td>\n",
       "      <td>Max</td>\n",
       "      <td>05/21/2019 03:13:00 PM</td>\n",
       "      <td>05/21/2019 03:13:00 PM</td>\n",
       "      <td>08/10/2018</td>\n",
       "      <td>Return to Owner</td>\n",
       "      <td>NaN</td>\n",
       "      <td>Dog</td>\n",
       "      <td>Intact Male</td>\n",
       "      <td>9 months</td>\n",
       "      <td>Staffordshire Mix</td>\n",
       "      <td>Brown Brindle/White</td>\n",
       "    </tr>\n",
       "    <tr>\n",
       "      <th>5569</th>\n",
       "      <td>A443876</td>\n",
       "      <td>Max</td>\n",
       "      <td>05/06/2019 04:56:00 PM</td>\n",
       "      <td>05/06/2019 04:56:00 PM</td>\n",
       "      <td>03/21/2006</td>\n",
       "      <td>Adoption</td>\n",
       "      <td>NaN</td>\n",
       "      <td>Cat</td>\n",
       "      <td>Neutered Male</td>\n",
       "      <td>13 years</td>\n",
       "      <td>Domestic Shorthair Mix</td>\n",
       "      <td>Blue Tabby/White</td>\n",
       "    </tr>\n",
       "    <tr>\n",
       "      <th>5896</th>\n",
       "      <td>A793215</td>\n",
       "      <td>Max</td>\n",
       "      <td>04/30/2019 11:49:00 AM</td>\n",
       "      <td>04/30/2019 11:49:00 AM</td>\n",
       "      <td>04/21/2017</td>\n",
       "      <td>Return to Owner</td>\n",
       "      <td>NaN</td>\n",
       "      <td>Dog</td>\n",
       "      <td>Neutered Male</td>\n",
       "      <td>2 years</td>\n",
       "      <td>Chihuahua Shorthair Mix</td>\n",
       "      <td>Black/White</td>\n",
       "    </tr>\n",
       "    <tr>\n",
       "      <th>6046</th>\n",
       "      <td>A731802</td>\n",
       "      <td>Max</td>\n",
       "      <td>04/26/2019 06:17:00 PM</td>\n",
       "      <td>04/26/2019 06:17:00 PM</td>\n",
       "      <td>07/27/2015</td>\n",
       "      <td>Adoption</td>\n",
       "      <td>NaN</td>\n",
       "      <td>Dog</td>\n",
       "      <td>Neutered Male</td>\n",
       "      <td>3 years</td>\n",
       "      <td>Maltese Mix</td>\n",
       "      <td>White</td>\n",
       "    </tr>\n",
       "    <tr>\n",
       "      <th>6047</th>\n",
       "      <td>A789320</td>\n",
       "      <td>Max</td>\n",
       "      <td>04/26/2019 06:01:00 PM</td>\n",
       "      <td>04/26/2019 06:01:00 PM</td>\n",
       "      <td>08/19/2017</td>\n",
       "      <td>Adoption</td>\n",
       "      <td>NaN</td>\n",
       "      <td>Dog</td>\n",
       "      <td>Neutered Male</td>\n",
       "      <td>1 year</td>\n",
       "      <td>Pit Bull Mix</td>\n",
       "      <td>White/Black</td>\n",
       "    </tr>\n",
       "    <tr>\n",
       "      <th>6385</th>\n",
       "      <td>A793073</td>\n",
       "      <td>Max</td>\n",
       "      <td>04/19/2019 01:55:00 PM</td>\n",
       "      <td>04/19/2019 01:55:00 PM</td>\n",
       "      <td>06/02/2018</td>\n",
       "      <td>Return to Owner</td>\n",
       "      <td>NaN</td>\n",
       "      <td>Dog</td>\n",
       "      <td>Intact Male</td>\n",
       "      <td>10 months</td>\n",
       "      <td>Boxer Mix</td>\n",
       "      <td>Brown/Tricolor</td>\n",
       "    </tr>\n",
       "    <tr>\n",
       "      <th>6505</th>\n",
       "      <td>A791972</td>\n",
       "      <td>Max</td>\n",
       "      <td>04/17/2019 01:35:00 PM</td>\n",
       "      <td>04/17/2019 01:35:00 PM</td>\n",
       "      <td>04/03/2018</td>\n",
       "      <td>Transfer</td>\n",
       "      <td>Partner</td>\n",
       "      <td>Dog</td>\n",
       "      <td>Neutered Male</td>\n",
       "      <td>1 year</td>\n",
       "      <td>Golden Retriever/Border Collie</td>\n",
       "      <td>Tan/White</td>\n",
       "    </tr>\n",
       "    <tr>\n",
       "      <th>6721</th>\n",
       "      <td>A789119</td>\n",
       "      <td>Max</td>\n",
       "      <td>04/13/2019 12:45:00 PM</td>\n",
       "      <td>04/13/2019 12:45:00 PM</td>\n",
       "      <td>12/17/2014</td>\n",
       "      <td>Adoption</td>\n",
       "      <td>NaN</td>\n",
       "      <td>Dog</td>\n",
       "      <td>Intact Male</td>\n",
       "      <td>4 years</td>\n",
       "      <td>Catahoula Mix</td>\n",
       "      <td>Red</td>\n",
       "    </tr>\n",
       "    <tr>\n",
       "      <th>6792</th>\n",
       "      <td>A787013</td>\n",
       "      <td>Max</td>\n",
       "      <td>04/12/2019 12:53:00 PM</td>\n",
       "      <td>04/12/2019 12:53:00 PM</td>\n",
       "      <td>10/26/2018</td>\n",
       "      <td>Transfer</td>\n",
       "      <td>Partner</td>\n",
       "      <td>Dog</td>\n",
       "      <td>Neutered Male</td>\n",
       "      <td>5 months</td>\n",
       "      <td>German Shepherd Mix</td>\n",
       "      <td>Tricolor</td>\n",
       "    </tr>\n",
       "    <tr>\n",
       "      <th>...</th>\n",
       "      <td>...</td>\n",
       "      <td>...</td>\n",
       "      <td>...</td>\n",
       "      <td>...</td>\n",
       "      <td>...</td>\n",
       "      <td>...</td>\n",
       "      <td>...</td>\n",
       "      <td>...</td>\n",
       "      <td>...</td>\n",
       "      <td>...</td>\n",
       "      <td>...</td>\n",
       "      <td>...</td>\n",
       "    </tr>\n",
       "    <tr>\n",
       "      <th>98160</th>\n",
       "      <td>A648236</td>\n",
       "      <td>Max</td>\n",
       "      <td>02/26/2014 04:50:00 PM</td>\n",
       "      <td>02/26/2014 04:50:00 PM</td>\n",
       "      <td>04/24/2012</td>\n",
       "      <td>Return to Owner</td>\n",
       "      <td>NaN</td>\n",
       "      <td>Dog</td>\n",
       "      <td>Neutered Male</td>\n",
       "      <td>1 year</td>\n",
       "      <td>Australian Cattle Dog Mix</td>\n",
       "      <td>Red Tick/White</td>\n",
       "    </tr>\n",
       "    <tr>\n",
       "      <th>98423</th>\n",
       "      <td>A673191</td>\n",
       "      <td>Max</td>\n",
       "      <td>02/20/2014 03:40:00 PM</td>\n",
       "      <td>02/20/2014 03:40:00 PM</td>\n",
       "      <td>02/19/2011</td>\n",
       "      <td>Euthanasia</td>\n",
       "      <td>Rabies Risk</td>\n",
       "      <td>Dog</td>\n",
       "      <td>Intact Male</td>\n",
       "      <td>3 years</td>\n",
       "      <td>Labrador Retriever Mix</td>\n",
       "      <td>Brown/White</td>\n",
       "    </tr>\n",
       "    <tr>\n",
       "      <th>98621</th>\n",
       "      <td>A671314</td>\n",
       "      <td>Max</td>\n",
       "      <td>02/16/2014 11:53:00 AM</td>\n",
       "      <td>02/16/2014 11:53:00 AM</td>\n",
       "      <td>03/22/2013</td>\n",
       "      <td>Adoption</td>\n",
       "      <td>NaN</td>\n",
       "      <td>Dog</td>\n",
       "      <td>Neutered Male</td>\n",
       "      <td>10 months</td>\n",
       "      <td>Collie Rough Mix</td>\n",
       "      <td>White/Black</td>\n",
       "    </tr>\n",
       "    <tr>\n",
       "      <th>98788</th>\n",
       "      <td>A672335</td>\n",
       "      <td>Max</td>\n",
       "      <td>02/11/2014 06:20:00 PM</td>\n",
       "      <td>02/11/2014 06:20:00 PM</td>\n",
       "      <td>02/08/2012</td>\n",
       "      <td>Return to Owner</td>\n",
       "      <td>NaN</td>\n",
       "      <td>Dog</td>\n",
       "      <td>Neutered Male</td>\n",
       "      <td>2 years</td>\n",
       "      <td>Chihuahua Shorthair Mix</td>\n",
       "      <td>Black/Tan</td>\n",
       "    </tr>\n",
       "    <tr>\n",
       "      <th>99085</th>\n",
       "      <td>A671503</td>\n",
       "      <td>Max</td>\n",
       "      <td>02/03/2014 06:11:00 PM</td>\n",
       "      <td>02/03/2014 06:11:00 PM</td>\n",
       "      <td>01/25/2012</td>\n",
       "      <td>Adoption</td>\n",
       "      <td>NaN</td>\n",
       "      <td>Dog</td>\n",
       "      <td>Neutered Male</td>\n",
       "      <td>2 years</td>\n",
       "      <td>Beagle/Dachshund</td>\n",
       "      <td>White/Brown</td>\n",
       "    </tr>\n",
       "    <tr>\n",
       "      <th>99128</th>\n",
       "      <td>A652954</td>\n",
       "      <td>Max</td>\n",
       "      <td>02/03/2014 11:40:00 AM</td>\n",
       "      <td>02/03/2014 11:40:00 AM</td>\n",
       "      <td>12/17/2012</td>\n",
       "      <td>Adoption</td>\n",
       "      <td>NaN</td>\n",
       "      <td>Dog</td>\n",
       "      <td>Neutered Male</td>\n",
       "      <td>1 year</td>\n",
       "      <td>German Shepherd/Labrador Retriever</td>\n",
       "      <td>Brown/Black</td>\n",
       "    </tr>\n",
       "    <tr>\n",
       "      <th>99159</th>\n",
       "      <td>A671583</td>\n",
       "      <td>Max</td>\n",
       "      <td>02/02/2014 02:59:00 PM</td>\n",
       "      <td>02/02/2014 02:59:00 PM</td>\n",
       "      <td>04/01/2013</td>\n",
       "      <td>Adoption</td>\n",
       "      <td>NaN</td>\n",
       "      <td>Dog</td>\n",
       "      <td>Neutered Male</td>\n",
       "      <td>10 months</td>\n",
       "      <td>Wire Hair Fox Terrier Mix</td>\n",
       "      <td>White/Black</td>\n",
       "    </tr>\n",
       "    <tr>\n",
       "      <th>99188</th>\n",
       "      <td>A671583</td>\n",
       "      <td>Max</td>\n",
       "      <td>02/01/2014 05:40:00 PM</td>\n",
       "      <td>02/01/2014 05:40:00 PM</td>\n",
       "      <td>04/01/2013</td>\n",
       "      <td>Adoption</td>\n",
       "      <td>NaN</td>\n",
       "      <td>Dog</td>\n",
       "      <td>Neutered Male</td>\n",
       "      <td>10 months</td>\n",
       "      <td>Wire Hair Fox Terrier Mix</td>\n",
       "      <td>White/Black</td>\n",
       "    </tr>\n",
       "    <tr>\n",
       "      <th>99878</th>\n",
       "      <td>A670802</td>\n",
       "      <td>Max</td>\n",
       "      <td>01/15/2014 06:53:00 PM</td>\n",
       "      <td>01/15/2014 06:53:00 PM</td>\n",
       "      <td>07/14/2010</td>\n",
       "      <td>Return to Owner</td>\n",
       "      <td>NaN</td>\n",
       "      <td>Dog</td>\n",
       "      <td>Neutered Male</td>\n",
       "      <td>3 years</td>\n",
       "      <td>Labrador Retriever Mix</td>\n",
       "      <td>Tan</td>\n",
       "    </tr>\n",
       "    <tr>\n",
       "      <th>100083</th>\n",
       "      <td>A665405</td>\n",
       "      <td>Max</td>\n",
       "      <td>01/10/2014 06:41:00 PM</td>\n",
       "      <td>01/10/2014 06:41:00 PM</td>\n",
       "      <td>06/17/2013</td>\n",
       "      <td>Adoption</td>\n",
       "      <td>NaN</td>\n",
       "      <td>Dog</td>\n",
       "      <td>Neutered Male</td>\n",
       "      <td>6 months</td>\n",
       "      <td>Labrador Retriever Mix</td>\n",
       "      <td>Black/White</td>\n",
       "    </tr>\n",
       "    <tr>\n",
       "      <th>100101</th>\n",
       "      <td>A648236</td>\n",
       "      <td>Max</td>\n",
       "      <td>01/10/2014 03:19:00 PM</td>\n",
       "      <td>01/10/2014 03:19:00 PM</td>\n",
       "      <td>04/24/2012</td>\n",
       "      <td>Return to Owner</td>\n",
       "      <td>NaN</td>\n",
       "      <td>Dog</td>\n",
       "      <td>Neutered Male</td>\n",
       "      <td>1 year</td>\n",
       "      <td>Australian Cattle Dog Mix</td>\n",
       "      <td>Red Tick/White</td>\n",
       "    </tr>\n",
       "    <tr>\n",
       "      <th>100157</th>\n",
       "      <td>A664369</td>\n",
       "      <td>Max</td>\n",
       "      <td>01/08/2014 07:19:00 PM</td>\n",
       "      <td>01/08/2014 07:19:00 PM</td>\n",
       "      <td>05/27/2013</td>\n",
       "      <td>Return to Owner</td>\n",
       "      <td>NaN</td>\n",
       "      <td>Dog</td>\n",
       "      <td>Neutered Male</td>\n",
       "      <td>7 months</td>\n",
       "      <td>Labrador Retriever/German Shepherd</td>\n",
       "      <td>Black</td>\n",
       "    </tr>\n",
       "    <tr>\n",
       "      <th>100263</th>\n",
       "      <td>A669946</td>\n",
       "      <td>Max</td>\n",
       "      <td>01/05/2014 06:11:00 PM</td>\n",
       "      <td>01/05/2014 06:11:00 PM</td>\n",
       "      <td>12/30/2012</td>\n",
       "      <td>Adoption</td>\n",
       "      <td>NaN</td>\n",
       "      <td>Dog</td>\n",
       "      <td>Neutered Male</td>\n",
       "      <td>1 year</td>\n",
       "      <td>Labrador Retriever Mix</td>\n",
       "      <td>Black</td>\n",
       "    </tr>\n",
       "    <tr>\n",
       "      <th>100515</th>\n",
       "      <td>A669266</td>\n",
       "      <td>Max</td>\n",
       "      <td>12/31/2013 04:51:00 PM</td>\n",
       "      <td>12/31/2013 04:51:00 PM</td>\n",
       "      <td>07/27/2013</td>\n",
       "      <td>Adoption</td>\n",
       "      <td>NaN</td>\n",
       "      <td>Dog</td>\n",
       "      <td>Neutered Male</td>\n",
       "      <td>5 months</td>\n",
       "      <td>Pit Bull Mix</td>\n",
       "      <td>White/Black Brindle</td>\n",
       "    </tr>\n",
       "    <tr>\n",
       "      <th>100930</th>\n",
       "      <td>A522774</td>\n",
       "      <td>Max</td>\n",
       "      <td>12/23/2013 04:45:00 PM</td>\n",
       "      <td>12/23/2013 04:45:00 PM</td>\n",
       "      <td>10/02/2006</td>\n",
       "      <td>Return to Owner</td>\n",
       "      <td>NaN</td>\n",
       "      <td>Dog</td>\n",
       "      <td>Neutered Male</td>\n",
       "      <td>7 years</td>\n",
       "      <td>Chihuahua Shorthair</td>\n",
       "      <td>Tricolor</td>\n",
       "    </tr>\n",
       "    <tr>\n",
       "      <th>101048</th>\n",
       "      <td>A669211</td>\n",
       "      <td>Max</td>\n",
       "      <td>12/21/2013 06:25:00 PM</td>\n",
       "      <td>12/21/2013 06:25:00 PM</td>\n",
       "      <td>12/17/2011</td>\n",
       "      <td>Adoption</td>\n",
       "      <td>NaN</td>\n",
       "      <td>Dog</td>\n",
       "      <td>Neutered Male</td>\n",
       "      <td>2 years</td>\n",
       "      <td>Chihuahua Shorthair Mix</td>\n",
       "      <td>White/Brown</td>\n",
       "    </tr>\n",
       "    <tr>\n",
       "      <th>101162</th>\n",
       "      <td>A669274</td>\n",
       "      <td>Max</td>\n",
       "      <td>12/19/2013 05:10:00 PM</td>\n",
       "      <td>12/19/2013 05:10:00 PM</td>\n",
       "      <td>12/17/2011</td>\n",
       "      <td>Return to Owner</td>\n",
       "      <td>NaN</td>\n",
       "      <td>Dog</td>\n",
       "      <td>Neutered Male</td>\n",
       "      <td>2 years</td>\n",
       "      <td>Cardigan Welsh Corgi Mix</td>\n",
       "      <td>White</td>\n",
       "    </tr>\n",
       "    <tr>\n",
       "      <th>101429</th>\n",
       "      <td>A590637</td>\n",
       "      <td>Max</td>\n",
       "      <td>12/14/2013 01:10:00 PM</td>\n",
       "      <td>12/14/2013 01:10:00 PM</td>\n",
       "      <td>12/21/2009</td>\n",
       "      <td>Adoption</td>\n",
       "      <td>NaN</td>\n",
       "      <td>Dog</td>\n",
       "      <td>Neutered Male</td>\n",
       "      <td>3 years</td>\n",
       "      <td>German Shepherd Mix</td>\n",
       "      <td>Tan/White</td>\n",
       "    </tr>\n",
       "    <tr>\n",
       "      <th>101474</th>\n",
       "      <td>A668634</td>\n",
       "      <td>Max</td>\n",
       "      <td>12/13/2013 12:10:00 PM</td>\n",
       "      <td>12/13/2013 12:10:00 PM</td>\n",
       "      <td>02/06/2013</td>\n",
       "      <td>Adoption</td>\n",
       "      <td>NaN</td>\n",
       "      <td>Dog</td>\n",
       "      <td>Neutered Male</td>\n",
       "      <td>10 months</td>\n",
       "      <td>Anatol Shepherd/Labrador Retriever</td>\n",
       "      <td>Brown Brindle/White</td>\n",
       "    </tr>\n",
       "    <tr>\n",
       "      <th>101667</th>\n",
       "      <td>A668750</td>\n",
       "      <td>Max</td>\n",
       "      <td>12/08/2013 06:13:00 PM</td>\n",
       "      <td>12/08/2013 06:13:00 PM</td>\n",
       "      <td>12/08/2011</td>\n",
       "      <td>Return to Owner</td>\n",
       "      <td>NaN</td>\n",
       "      <td>Dog</td>\n",
       "      <td>Neutered Male</td>\n",
       "      <td>2 years</td>\n",
       "      <td>Basset Hound Mix</td>\n",
       "      <td>Black/White</td>\n",
       "    </tr>\n",
       "    <tr>\n",
       "      <th>101707</th>\n",
       "      <td>A668202</td>\n",
       "      <td>Max</td>\n",
       "      <td>12/08/2013 01:01:00 PM</td>\n",
       "      <td>12/08/2013 01:01:00 PM</td>\n",
       "      <td>01/29/2013</td>\n",
       "      <td>Adoption</td>\n",
       "      <td>NaN</td>\n",
       "      <td>Dog</td>\n",
       "      <td>Neutered Male</td>\n",
       "      <td>10 months</td>\n",
       "      <td>German Shepherd Mix</td>\n",
       "      <td>Brown/White</td>\n",
       "    </tr>\n",
       "    <tr>\n",
       "      <th>102603</th>\n",
       "      <td>A661874</td>\n",
       "      <td>Max</td>\n",
       "      <td>11/17/2013 12:53:00 PM</td>\n",
       "      <td>11/17/2013 12:53:00 PM</td>\n",
       "      <td>06/15/2013</td>\n",
       "      <td>Transfer</td>\n",
       "      <td>Partner</td>\n",
       "      <td>Dog</td>\n",
       "      <td>Neutered Male</td>\n",
       "      <td>5 months</td>\n",
       "      <td>Miniature Schnauzer Mix</td>\n",
       "      <td>Black/White</td>\n",
       "    </tr>\n",
       "    <tr>\n",
       "      <th>103317</th>\n",
       "      <td>A605315</td>\n",
       "      <td>Max</td>\n",
       "      <td>11/02/2013 12:08:00 PM</td>\n",
       "      <td>11/02/2013 12:08:00 PM</td>\n",
       "      <td>01/06/2009</td>\n",
       "      <td>Return to Owner</td>\n",
       "      <td>NaN</td>\n",
       "      <td>Dog</td>\n",
       "      <td>Neutered Male</td>\n",
       "      <td>4 years</td>\n",
       "      <td>American Pit Bull Terrier</td>\n",
       "      <td>Black/White</td>\n",
       "    </tr>\n",
       "    <tr>\n",
       "      <th>103373</th>\n",
       "      <td>A665263</td>\n",
       "      <td>Max</td>\n",
       "      <td>11/01/2013 11:37:00 AM</td>\n",
       "      <td>11/01/2013 11:37:00 AM</td>\n",
       "      <td>07/31/2013</td>\n",
       "      <td>Adoption</td>\n",
       "      <td>NaN</td>\n",
       "      <td>Dog</td>\n",
       "      <td>Neutered Male</td>\n",
       "      <td>3 months</td>\n",
       "      <td>Labrador Retriever Mix</td>\n",
       "      <td>Black</td>\n",
       "    </tr>\n",
       "    <tr>\n",
       "      <th>103407</th>\n",
       "      <td>A665445</td>\n",
       "      <td>Max</td>\n",
       "      <td>10/31/2013 01:03:00 PM</td>\n",
       "      <td>10/31/2013 01:03:00 PM</td>\n",
       "      <td>06/18/2013</td>\n",
       "      <td>Adoption</td>\n",
       "      <td>NaN</td>\n",
       "      <td>Dog</td>\n",
       "      <td>Neutered Male</td>\n",
       "      <td>4 months</td>\n",
       "      <td>Labrador Retriever Mix</td>\n",
       "      <td>Brown/Black</td>\n",
       "    </tr>\n",
       "    <tr>\n",
       "      <th>103589</th>\n",
       "      <td>A664692</td>\n",
       "      <td>Max</td>\n",
       "      <td>10/27/2013 02:45:00 PM</td>\n",
       "      <td>10/27/2013 02:45:00 PM</td>\n",
       "      <td>10/07/2007</td>\n",
       "      <td>Transfer</td>\n",
       "      <td>Partner</td>\n",
       "      <td>Cat</td>\n",
       "      <td>Neutered Male</td>\n",
       "      <td>6 years</td>\n",
       "      <td>Russian Blue Mix</td>\n",
       "      <td>Blue</td>\n",
       "    </tr>\n",
       "    <tr>\n",
       "      <th>103621</th>\n",
       "      <td>A665743</td>\n",
       "      <td>Max</td>\n",
       "      <td>10/26/2013 06:38:00 PM</td>\n",
       "      <td>10/26/2013 06:38:00 PM</td>\n",
       "      <td>12/22/2012</td>\n",
       "      <td>Adoption</td>\n",
       "      <td>NaN</td>\n",
       "      <td>Dog</td>\n",
       "      <td>Neutered Male</td>\n",
       "      <td>10 months</td>\n",
       "      <td>Jack Russell Terrier/Chihuahua Shorthair</td>\n",
       "      <td>White/Brown</td>\n",
       "    </tr>\n",
       "    <tr>\n",
       "      <th>103867</th>\n",
       "      <td>A665405</td>\n",
       "      <td>Max</td>\n",
       "      <td>10/21/2013 04:59:00 PM</td>\n",
       "      <td>10/21/2013 04:59:00 PM</td>\n",
       "      <td>06/17/2013</td>\n",
       "      <td>Adoption</td>\n",
       "      <td>NaN</td>\n",
       "      <td>Dog</td>\n",
       "      <td>Neutered Male</td>\n",
       "      <td>4 months</td>\n",
       "      <td>Labrador Retriever Mix</td>\n",
       "      <td>Black/White</td>\n",
       "    </tr>\n",
       "    <tr>\n",
       "      <th>104395</th>\n",
       "      <td>A664369</td>\n",
       "      <td>Max</td>\n",
       "      <td>10/12/2013 06:00:00 PM</td>\n",
       "      <td>10/12/2013 06:00:00 PM</td>\n",
       "      <td>05/27/2013</td>\n",
       "      <td>Return to Owner</td>\n",
       "      <td>NaN</td>\n",
       "      <td>Dog</td>\n",
       "      <td>Neutered Male</td>\n",
       "      <td>4 months</td>\n",
       "      <td>Labrador Retriever/German Shepherd</td>\n",
       "      <td>Black</td>\n",
       "    </tr>\n",
       "    <tr>\n",
       "      <th>104404</th>\n",
       "      <td>A662933</td>\n",
       "      <td>Max</td>\n",
       "      <td>10/12/2013 05:13:00 PM</td>\n",
       "      <td>10/12/2013 05:13:00 PM</td>\n",
       "      <td>09/10/2006</td>\n",
       "      <td>Return to Owner</td>\n",
       "      <td>NaN</td>\n",
       "      <td>Dog</td>\n",
       "      <td>Neutered Male</td>\n",
       "      <td>7 years</td>\n",
       "      <td>Pug Mix</td>\n",
       "      <td>Brown/Black</td>\n",
       "    </tr>\n",
       "  </tbody>\n",
       "</table>\n",
       "<p>469 rows × 12 columns</p>\n",
       "</div>"
      ],
      "text/plain": [
       "       Animal ID Name                DateTime               MonthYear  \\\n",
       "126      A800791  Max  07/29/2019 06:07:00 PM  07/29/2019 06:07:00 PM   \n",
       "262      A788916  Max  07/27/2019 05:16:00 PM  07/27/2019 05:16:00 PM   \n",
       "290      A799870  Max  07/26/2019 07:17:00 PM  07/26/2019 07:17:00 PM   \n",
       "1170     A799881  Max  07/13/2019 02:33:00 PM  07/13/2019 02:33:00 PM   \n",
       "1535     A798950  Max  07/07/2019 01:31:00 PM  07/07/2019 01:31:00 PM   \n",
       "1684     A799025  Max  07/05/2019 11:13:00 AM  07/05/2019 11:13:00 AM   \n",
       "1964     A798743  Max  06/30/2019 04:54:00 PM  06/30/2019 04:54:00 PM   \n",
       "2419     A700767  Max  06/25/2019 02:12:00 PM  06/25/2019 02:12:00 PM   \n",
       "2729     A797355  Max  06/21/2019 06:39:00 PM  06/21/2019 06:39:00 PM   \n",
       "2741     A797407  Max  06/21/2019 04:05:00 PM  06/21/2019 04:05:00 PM   \n",
       "2894     A797258  Max  06/19/2019 12:58:00 PM  06/19/2019 12:58:00 PM   \n",
       "2963     A797814  Max  06/18/2019 12:52:00 PM  06/18/2019 12:52:00 PM   \n",
       "3007     A797341  Max  06/17/2019 05:12:00 PM  06/17/2019 05:12:00 PM   \n",
       "3226     A680607  Max  06/14/2019 11:50:00 AM  06/14/2019 11:50:00 AM   \n",
       "3292     A797339  Max  06/13/2019 11:39:00 AM  06/13/2019 11:39:00 AM   \n",
       "3531     A780200  Max  06/10/2019 10:53:00 AM  06/10/2019 10:53:00 AM   \n",
       "3555     A793073  Max  06/09/2019 05:52:00 PM  06/09/2019 05:52:00 PM   \n",
       "3908     A744193  Max  06/04/2019 03:30:00 PM  06/04/2019 03:30:00 PM   \n",
       "3971     A794951  Max  06/03/2019 07:30:00 PM  06/03/2019 07:30:00 PM   \n",
       "4130     A796351  Max  06/01/2019 04:18:00 PM  06/01/2019 04:18:00 PM   \n",
       "4262     A795976  Max  05/30/2019 11:20:00 AM  05/30/2019 11:20:00 AM   \n",
       "4762     A784016  Max  05/21/2019 03:13:00 PM  05/21/2019 03:13:00 PM   \n",
       "5569     A443876  Max  05/06/2019 04:56:00 PM  05/06/2019 04:56:00 PM   \n",
       "5896     A793215  Max  04/30/2019 11:49:00 AM  04/30/2019 11:49:00 AM   \n",
       "6046     A731802  Max  04/26/2019 06:17:00 PM  04/26/2019 06:17:00 PM   \n",
       "6047     A789320  Max  04/26/2019 06:01:00 PM  04/26/2019 06:01:00 PM   \n",
       "6385     A793073  Max  04/19/2019 01:55:00 PM  04/19/2019 01:55:00 PM   \n",
       "6505     A791972  Max  04/17/2019 01:35:00 PM  04/17/2019 01:35:00 PM   \n",
       "6721     A789119  Max  04/13/2019 12:45:00 PM  04/13/2019 12:45:00 PM   \n",
       "6792     A787013  Max  04/12/2019 12:53:00 PM  04/12/2019 12:53:00 PM   \n",
       "...          ...  ...                     ...                     ...   \n",
       "98160    A648236  Max  02/26/2014 04:50:00 PM  02/26/2014 04:50:00 PM   \n",
       "98423    A673191  Max  02/20/2014 03:40:00 PM  02/20/2014 03:40:00 PM   \n",
       "98621    A671314  Max  02/16/2014 11:53:00 AM  02/16/2014 11:53:00 AM   \n",
       "98788    A672335  Max  02/11/2014 06:20:00 PM  02/11/2014 06:20:00 PM   \n",
       "99085    A671503  Max  02/03/2014 06:11:00 PM  02/03/2014 06:11:00 PM   \n",
       "99128    A652954  Max  02/03/2014 11:40:00 AM  02/03/2014 11:40:00 AM   \n",
       "99159    A671583  Max  02/02/2014 02:59:00 PM  02/02/2014 02:59:00 PM   \n",
       "99188    A671583  Max  02/01/2014 05:40:00 PM  02/01/2014 05:40:00 PM   \n",
       "99878    A670802  Max  01/15/2014 06:53:00 PM  01/15/2014 06:53:00 PM   \n",
       "100083   A665405  Max  01/10/2014 06:41:00 PM  01/10/2014 06:41:00 PM   \n",
       "100101   A648236  Max  01/10/2014 03:19:00 PM  01/10/2014 03:19:00 PM   \n",
       "100157   A664369  Max  01/08/2014 07:19:00 PM  01/08/2014 07:19:00 PM   \n",
       "100263   A669946  Max  01/05/2014 06:11:00 PM  01/05/2014 06:11:00 PM   \n",
       "100515   A669266  Max  12/31/2013 04:51:00 PM  12/31/2013 04:51:00 PM   \n",
       "100930   A522774  Max  12/23/2013 04:45:00 PM  12/23/2013 04:45:00 PM   \n",
       "101048   A669211  Max  12/21/2013 06:25:00 PM  12/21/2013 06:25:00 PM   \n",
       "101162   A669274  Max  12/19/2013 05:10:00 PM  12/19/2013 05:10:00 PM   \n",
       "101429   A590637  Max  12/14/2013 01:10:00 PM  12/14/2013 01:10:00 PM   \n",
       "101474   A668634  Max  12/13/2013 12:10:00 PM  12/13/2013 12:10:00 PM   \n",
       "101667   A668750  Max  12/08/2013 06:13:00 PM  12/08/2013 06:13:00 PM   \n",
       "101707   A668202  Max  12/08/2013 01:01:00 PM  12/08/2013 01:01:00 PM   \n",
       "102603   A661874  Max  11/17/2013 12:53:00 PM  11/17/2013 12:53:00 PM   \n",
       "103317   A605315  Max  11/02/2013 12:08:00 PM  11/02/2013 12:08:00 PM   \n",
       "103373   A665263  Max  11/01/2013 11:37:00 AM  11/01/2013 11:37:00 AM   \n",
       "103407   A665445  Max  10/31/2013 01:03:00 PM  10/31/2013 01:03:00 PM   \n",
       "103589   A664692  Max  10/27/2013 02:45:00 PM  10/27/2013 02:45:00 PM   \n",
       "103621   A665743  Max  10/26/2013 06:38:00 PM  10/26/2013 06:38:00 PM   \n",
       "103867   A665405  Max  10/21/2013 04:59:00 PM  10/21/2013 04:59:00 PM   \n",
       "104395   A664369  Max  10/12/2013 06:00:00 PM  10/12/2013 06:00:00 PM   \n",
       "104404   A662933  Max  10/12/2013 05:13:00 PM  10/12/2013 05:13:00 PM   \n",
       "\n",
       "       Date of Birth     Outcome Type Outcome Subtype Animal Type  \\\n",
       "126       07/26/2017  Return to Owner             NaN         Dog   \n",
       "262       11/26/2018  Return to Owner             NaN         Dog   \n",
       "290       07/13/2017  Return to Owner             NaN         Dog   \n",
       "1170      05/13/2019         Transfer         Partner         Dog   \n",
       "1535      07/02/2017         Adoption             NaN         Dog   \n",
       "1684      01/19/2019  Return to Owner             NaN         Dog   \n",
       "1964      10/29/2018  Return to Owner             NaN         Dog   \n",
       "2419      04/19/2011  Return to Owner             NaN         Dog   \n",
       "2729      12/12/2017         Adoption             NaN         Dog   \n",
       "2741      03/13/2019         Adoption             NaN         Dog   \n",
       "2894      02/11/2018         Transfer         Partner         Dog   \n",
       "2963      06/18/2017  Return to Owner             NaN         Dog   \n",
       "3007      03/12/2019         Adoption             NaN         Cat   \n",
       "3226      04/04/2014  Return to Owner             NaN         Dog   \n",
       "3292      06/12/2017  Return to Owner             NaN         Dog   \n",
       "3531      09/11/2014        Rto-Adopt             NaN         Dog   \n",
       "3555      06/02/2018         Adoption             NaN         Dog   \n",
       "3908      09/27/2016         Adoption             NaN         Dog   \n",
       "3971      05/14/2017        Rto-Adopt             NaN         Dog   \n",
       "4130      05/31/2010  Return to Owner             NaN         Cat   \n",
       "4262      05/27/2008         Transfer         Partner         Dog   \n",
       "4762      08/10/2018  Return to Owner             NaN         Dog   \n",
       "5569      03/21/2006         Adoption             NaN         Cat   \n",
       "5896      04/21/2017  Return to Owner             NaN         Dog   \n",
       "6046      07/27/2015         Adoption             NaN         Dog   \n",
       "6047      08/19/2017         Adoption             NaN         Dog   \n",
       "6385      06/02/2018  Return to Owner             NaN         Dog   \n",
       "6505      04/03/2018         Transfer         Partner         Dog   \n",
       "6721      12/17/2014         Adoption             NaN         Dog   \n",
       "6792      10/26/2018         Transfer         Partner         Dog   \n",
       "...              ...              ...             ...         ...   \n",
       "98160     04/24/2012  Return to Owner             NaN         Dog   \n",
       "98423     02/19/2011       Euthanasia     Rabies Risk         Dog   \n",
       "98621     03/22/2013         Adoption             NaN         Dog   \n",
       "98788     02/08/2012  Return to Owner             NaN         Dog   \n",
       "99085     01/25/2012         Adoption             NaN         Dog   \n",
       "99128     12/17/2012         Adoption             NaN         Dog   \n",
       "99159     04/01/2013         Adoption             NaN         Dog   \n",
       "99188     04/01/2013         Adoption             NaN         Dog   \n",
       "99878     07/14/2010  Return to Owner             NaN         Dog   \n",
       "100083    06/17/2013         Adoption             NaN         Dog   \n",
       "100101    04/24/2012  Return to Owner             NaN         Dog   \n",
       "100157    05/27/2013  Return to Owner             NaN         Dog   \n",
       "100263    12/30/2012         Adoption             NaN         Dog   \n",
       "100515    07/27/2013         Adoption             NaN         Dog   \n",
       "100930    10/02/2006  Return to Owner             NaN         Dog   \n",
       "101048    12/17/2011         Adoption             NaN         Dog   \n",
       "101162    12/17/2011  Return to Owner             NaN         Dog   \n",
       "101429    12/21/2009         Adoption             NaN         Dog   \n",
       "101474    02/06/2013         Adoption             NaN         Dog   \n",
       "101667    12/08/2011  Return to Owner             NaN         Dog   \n",
       "101707    01/29/2013         Adoption             NaN         Dog   \n",
       "102603    06/15/2013         Transfer         Partner         Dog   \n",
       "103317    01/06/2009  Return to Owner             NaN         Dog   \n",
       "103373    07/31/2013         Adoption             NaN         Dog   \n",
       "103407    06/18/2013         Adoption             NaN         Dog   \n",
       "103589    10/07/2007         Transfer         Partner         Cat   \n",
       "103621    12/22/2012         Adoption             NaN         Dog   \n",
       "103867    06/17/2013         Adoption             NaN         Dog   \n",
       "104395    05/27/2013  Return to Owner             NaN         Dog   \n",
       "104404    09/10/2006  Return to Owner             NaN         Dog   \n",
       "\n",
       "       Sex upon Outcome Age upon Outcome  \\\n",
       "126         Intact Male          2 years   \n",
       "262       Neutered Male         7 months   \n",
       "290         Intact Male          2 years   \n",
       "1170        Intact Male          1 month   \n",
       "1535      Neutered Male          2 years   \n",
       "1684      Neutered Male         5 months   \n",
       "1964        Intact Male         8 months   \n",
       "2419      Neutered Male          8 years   \n",
       "2729      Neutered Male           1 year   \n",
       "2741      Neutered Male         3 months   \n",
       "2894        Intact Male           1 year   \n",
       "2963        Intact Male          2 years   \n",
       "3007      Neutered Male         3 months   \n",
       "3226      Neutered Male          5 years   \n",
       "3292        Intact Male          2 years   \n",
       "3531      Neutered Male          4 years   \n",
       "3555      Neutered Male           1 year   \n",
       "3908      Neutered Male          2 years   \n",
       "3971        Intact Male          2 years   \n",
       "4130      Neutered Male          9 years   \n",
       "4262      Neutered Male         11 years   \n",
       "4762        Intact Male         9 months   \n",
       "5569      Neutered Male         13 years   \n",
       "5896      Neutered Male          2 years   \n",
       "6046      Neutered Male          3 years   \n",
       "6047      Neutered Male           1 year   \n",
       "6385        Intact Male        10 months   \n",
       "6505      Neutered Male           1 year   \n",
       "6721        Intact Male          4 years   \n",
       "6792      Neutered Male         5 months   \n",
       "...                 ...              ...   \n",
       "98160     Neutered Male           1 year   \n",
       "98423       Intact Male          3 years   \n",
       "98621     Neutered Male        10 months   \n",
       "98788     Neutered Male          2 years   \n",
       "99085     Neutered Male          2 years   \n",
       "99128     Neutered Male           1 year   \n",
       "99159     Neutered Male        10 months   \n",
       "99188     Neutered Male        10 months   \n",
       "99878     Neutered Male          3 years   \n",
       "100083    Neutered Male         6 months   \n",
       "100101    Neutered Male           1 year   \n",
       "100157    Neutered Male         7 months   \n",
       "100263    Neutered Male           1 year   \n",
       "100515    Neutered Male         5 months   \n",
       "100930    Neutered Male          7 years   \n",
       "101048    Neutered Male          2 years   \n",
       "101162    Neutered Male          2 years   \n",
       "101429    Neutered Male          3 years   \n",
       "101474    Neutered Male        10 months   \n",
       "101667    Neutered Male          2 years   \n",
       "101707    Neutered Male        10 months   \n",
       "102603    Neutered Male         5 months   \n",
       "103317    Neutered Male          4 years   \n",
       "103373    Neutered Male         3 months   \n",
       "103407    Neutered Male         4 months   \n",
       "103589    Neutered Male          6 years   \n",
       "103621    Neutered Male        10 months   \n",
       "103867    Neutered Male         4 months   \n",
       "104395    Neutered Male         4 months   \n",
       "104404    Neutered Male          7 years   \n",
       "\n",
       "                                           Breed                Color  \n",
       "126                                     Pit Bull          Brown/White  \n",
       "262                                 Pit Bull Mix  Brown Brindle/White  \n",
       "290                              German Shepherd          Brown/Black  \n",
       "1170                       Yorkshire Terrier Mix          Brown/White  \n",
       "1535                            American Bulldog           White/Blue  \n",
       "1684                         German Shepherd Mix                  Tan  \n",
       "1964                    Maltese/Miniature Poodle            White/Tan  \n",
       "2419              Labrador Retriever/Plott Hound  Brown Brindle/White  \n",
       "2729                                Pit Bull Mix      Chocolate/White  \n",
       "2741             German Shepherd/Chinese Sharpei             Tricolor  \n",
       "2894                              Rottweiler Mix            Black/Tan  \n",
       "2963                                         Pug            Tan/Black  \n",
       "3007                          Domestic Shorthair    Cream Tabby/White  \n",
       "3226                     Chihuahua Shorthair Mix            Tan/White  \n",
       "3292              Welsh Terrier/Miniature Poodle             Tan/Gray  \n",
       "3531                         German Shepherd Mix          Brown/Black  \n",
       "3555                                   Boxer Mix       Brown/Tricolor  \n",
       "3908                           Cairn Terrier Mix            Tan/White  \n",
       "3971                          Labrador Retriever                  Red  \n",
       "4130                          Domestic Shorthair          Black/White  \n",
       "4262                                     Maltese                White  \n",
       "4762                           Staffordshire Mix  Brown Brindle/White  \n",
       "5569                      Domestic Shorthair Mix     Blue Tabby/White  \n",
       "5896                     Chihuahua Shorthair Mix          Black/White  \n",
       "6046                                 Maltese Mix                White  \n",
       "6047                                Pit Bull Mix          White/Black  \n",
       "6385                                   Boxer Mix       Brown/Tricolor  \n",
       "6505              Golden Retriever/Border Collie            Tan/White  \n",
       "6721                               Catahoula Mix                  Red  \n",
       "6792                         German Shepherd Mix             Tricolor  \n",
       "...                                          ...                  ...  \n",
       "98160                  Australian Cattle Dog Mix       Red Tick/White  \n",
       "98423                     Labrador Retriever Mix          Brown/White  \n",
       "98621                           Collie Rough Mix          White/Black  \n",
       "98788                    Chihuahua Shorthair Mix            Black/Tan  \n",
       "99085                           Beagle/Dachshund          White/Brown  \n",
       "99128         German Shepherd/Labrador Retriever          Brown/Black  \n",
       "99159                  Wire Hair Fox Terrier Mix          White/Black  \n",
       "99188                  Wire Hair Fox Terrier Mix          White/Black  \n",
       "99878                     Labrador Retriever Mix                  Tan  \n",
       "100083                    Labrador Retriever Mix          Black/White  \n",
       "100101                 Australian Cattle Dog Mix       Red Tick/White  \n",
       "100157        Labrador Retriever/German Shepherd                Black  \n",
       "100263                    Labrador Retriever Mix                Black  \n",
       "100515                              Pit Bull Mix  White/Black Brindle  \n",
       "100930                       Chihuahua Shorthair             Tricolor  \n",
       "101048                   Chihuahua Shorthair Mix          White/Brown  \n",
       "101162                  Cardigan Welsh Corgi Mix                White  \n",
       "101429                       German Shepherd Mix            Tan/White  \n",
       "101474        Anatol Shepherd/Labrador Retriever  Brown Brindle/White  \n",
       "101667                          Basset Hound Mix          Black/White  \n",
       "101707                       German Shepherd Mix          Brown/White  \n",
       "102603                   Miniature Schnauzer Mix          Black/White  \n",
       "103317                 American Pit Bull Terrier          Black/White  \n",
       "103373                    Labrador Retriever Mix                Black  \n",
       "103407                    Labrador Retriever Mix          Brown/Black  \n",
       "103589                          Russian Blue Mix                 Blue  \n",
       "103621  Jack Russell Terrier/Chihuahua Shorthair          White/Brown  \n",
       "103867                    Labrador Retriever Mix          Black/White  \n",
       "104395        Labrador Retriever/German Shepherd                Black  \n",
       "104404                                   Pug Mix          Brown/Black  \n",
       "\n",
       "[469 rows x 12 columns]"
      ]
     },
     "execution_count": 63,
     "metadata": {},
     "output_type": "execute_result"
    }
   ],
   "source": [
    "max_data = shelter_data.query('Name == \"Max\"')\n",
    "max_data.head()\n",
    "#vs\n",
    "shelter_data[shelter_data['Name']==\"Max\"]"
   ]
  },
  {
   "cell_type": "code",
   "execution_count": 65,
   "metadata": {
    "slideshow": {
     "slide_type": "slide"
    }
   },
   "outputs": [
    {
     "data": {
      "text/html": [
       "<div>\n",
       "<style scoped>\n",
       "    .dataframe tbody tr th:only-of-type {\n",
       "        vertical-align: middle;\n",
       "    }\n",
       "\n",
       "    .dataframe tbody tr th {\n",
       "        vertical-align: top;\n",
       "    }\n",
       "\n",
       "    .dataframe thead th {\n",
       "        text-align: right;\n",
       "    }\n",
       "</style>\n",
       "<table border=\"1\" class=\"dataframe\">\n",
       "  <thead>\n",
       "    <tr style=\"text-align: right;\">\n",
       "      <th></th>\n",
       "      <th>Animal ID</th>\n",
       "      <th>Name</th>\n",
       "      <th>DateTime</th>\n",
       "      <th>MonthYear</th>\n",
       "      <th>Date of Birth</th>\n",
       "      <th>Outcome Type</th>\n",
       "      <th>Outcome Subtype</th>\n",
       "      <th>animal_type</th>\n",
       "      <th>Sex upon Outcome</th>\n",
       "      <th>Age upon Outcome</th>\n",
       "      <th>Breed</th>\n",
       "      <th>Color</th>\n",
       "    </tr>\n",
       "  </thead>\n",
       "  <tbody>\n",
       "    <tr>\n",
       "      <th>1</th>\n",
       "      <td>A800473</td>\n",
       "      <td>Bruce</td>\n",
       "      <td>07/31/2019 06:19:00 PM</td>\n",
       "      <td>07/31/2019 06:19:00 PM</td>\n",
       "      <td>07/21/2018</td>\n",
       "      <td>Adoption</td>\n",
       "      <td>NaN</td>\n",
       "      <td>Dog</td>\n",
       "      <td>Neutered Male</td>\n",
       "      <td>1 year</td>\n",
       "      <td>Labrador Retriever/German Shepherd</td>\n",
       "      <td>Black/Tan</td>\n",
       "    </tr>\n",
       "    <tr>\n",
       "      <th>7</th>\n",
       "      <td>A799309</td>\n",
       "      <td>*Kermit</td>\n",
       "      <td>07/31/2019 05:41:00 PM</td>\n",
       "      <td>07/31/2019 05:41:00 PM</td>\n",
       "      <td>07/07/2017</td>\n",
       "      <td>Adoption</td>\n",
       "      <td>NaN</td>\n",
       "      <td>Dog</td>\n",
       "      <td>Neutered Male</td>\n",
       "      <td>2 years</td>\n",
       "      <td>Pit Bull</td>\n",
       "      <td>White/Brown</td>\n",
       "    </tr>\n",
       "    <tr>\n",
       "      <th>8</th>\n",
       "      <td>A799783</td>\n",
       "      <td>Luna</td>\n",
       "      <td>07/31/2019 05:29:00 PM</td>\n",
       "      <td>07/31/2019 05:29:00 PM</td>\n",
       "      <td>05/27/2019</td>\n",
       "      <td>Adoption</td>\n",
       "      <td>NaN</td>\n",
       "      <td>Dog</td>\n",
       "      <td>Spayed Female</td>\n",
       "      <td>2 months</td>\n",
       "      <td>Labrador Retriever Mix</td>\n",
       "      <td>Tan/Brown</td>\n",
       "    </tr>\n",
       "    <tr>\n",
       "      <th>9</th>\n",
       "      <td>A800528</td>\n",
       "      <td>NaN</td>\n",
       "      <td>07/31/2019 04:54:00 PM</td>\n",
       "      <td>07/31/2019 04:54:00 PM</td>\n",
       "      <td>07/22/2018</td>\n",
       "      <td>Adoption</td>\n",
       "      <td>NaN</td>\n",
       "      <td>Dog</td>\n",
       "      <td>Spayed Female</td>\n",
       "      <td>1 year</td>\n",
       "      <td>Miniature Schnauzer Mix</td>\n",
       "      <td>Gray/Tan</td>\n",
       "    </tr>\n",
       "    <tr>\n",
       "      <th>10</th>\n",
       "      <td>A800741</td>\n",
       "      <td>Fat Girl</td>\n",
       "      <td>07/31/2019 04:29:00 PM</td>\n",
       "      <td>07/31/2019 04:29:00 PM</td>\n",
       "      <td>07/25/2017</td>\n",
       "      <td>Adoption</td>\n",
       "      <td>NaN</td>\n",
       "      <td>Dog</td>\n",
       "      <td>Spayed Female</td>\n",
       "      <td>2 years</td>\n",
       "      <td>Soft Coated Wheaten Terrier Mix</td>\n",
       "      <td>Cream/Black</td>\n",
       "    </tr>\n",
       "  </tbody>\n",
       "</table>\n",
       "</div>"
      ],
      "text/plain": [
       "   Animal ID      Name                DateTime               MonthYear  \\\n",
       "1    A800473     Bruce  07/31/2019 06:19:00 PM  07/31/2019 06:19:00 PM   \n",
       "7    A799309   *Kermit  07/31/2019 05:41:00 PM  07/31/2019 05:41:00 PM   \n",
       "8    A799783      Luna  07/31/2019 05:29:00 PM  07/31/2019 05:29:00 PM   \n",
       "9    A800528       NaN  07/31/2019 04:54:00 PM  07/31/2019 04:54:00 PM   \n",
       "10   A800741  Fat Girl  07/31/2019 04:29:00 PM  07/31/2019 04:29:00 PM   \n",
       "\n",
       "   Date of Birth Outcome Type Outcome Subtype animal_type Sex upon Outcome  \\\n",
       "1     07/21/2018     Adoption             NaN         Dog    Neutered Male   \n",
       "7     07/07/2017     Adoption             NaN         Dog    Neutered Male   \n",
       "8     05/27/2019     Adoption             NaN         Dog    Spayed Female   \n",
       "9     07/22/2018     Adoption             NaN         Dog    Spayed Female   \n",
       "10    07/25/2017     Adoption             NaN         Dog    Spayed Female   \n",
       "\n",
       "   Age upon Outcome                               Breed        Color  \n",
       "1            1 year  Labrador Retriever/German Shepherd    Black/Tan  \n",
       "7           2 years                            Pit Bull  White/Brown  \n",
       "8          2 months              Labrador Retriever Mix    Tan/Brown  \n",
       "9            1 year             Miniature Schnauzer Mix     Gray/Tan  \n",
       "10          2 years     Soft Coated Wheaten Terrier Mix  Cream/Black  "
      ]
     },
     "execution_count": 65,
     "metadata": {},
     "output_type": "execute_result"
    }
   ],
   "source": [
    "shelter_data.rename(index=str, columns={\"Animal Type\": \"animal_type\"}, inplace = True)\n",
    "test = shelter_data.query('animal_type == \"Dog\"')\n",
    "test.head()"
   ]
  },
  {
   "cell_type": "markdown",
   "metadata": {
    "slideshow": {
     "slide_type": "slide"
    }
   },
   "source": [
    "## Goal 6: Transfering from sqlite to pandas"
   ]
  },
  {
   "cell_type": "code",
   "execution_count": 66,
   "metadata": {
    "slideshow": {
     "slide_type": "fragment"
    }
   },
   "outputs": [
    {
     "ename": "TypeError",
     "evalue": "'NoneType' object is not iterable",
     "output_type": "error",
     "traceback": [
      "\u001b[1;31m---------------------------------------------------------------------------\u001b[0m",
      "\u001b[1;31mTypeError\u001b[0m                                 Traceback (most recent call last)",
      "\u001b[1;32m<ipython-input-66-2531bdad039a>\u001b[0m in \u001b[0;36m<module>\u001b[1;34m\u001b[0m\n\u001b[0;32m      1\u001b[0m \u001b[0mconn\u001b[0m \u001b[1;33m=\u001b[0m \u001b[0msqlite3\u001b[0m\u001b[1;33m.\u001b[0m\u001b[0mconnect\u001b[0m\u001b[1;33m(\u001b[0m\u001b[1;34m\"flights.db\"\u001b[0m\u001b[1;33m)\u001b[0m\u001b[1;33m\u001b[0m\u001b[1;33m\u001b[0m\u001b[0m\n\u001b[1;32m----> 2\u001b[1;33m \u001b[0mdf\u001b[0m \u001b[1;33m=\u001b[0m \u001b[0mpd\u001b[0m\u001b[1;33m.\u001b[0m\u001b[0mread_sql_query\u001b[0m\u001b[1;33m(\u001b[0m\u001b[1;34m\";\"\u001b[0m\u001b[1;33m,\u001b[0m \u001b[0mconn\u001b[0m\u001b[1;33m)\u001b[0m\u001b[1;33m\u001b[0m\u001b[1;33m\u001b[0m\u001b[0m\n\u001b[0m\u001b[0;32m      3\u001b[0m \u001b[0mdf\u001b[0m\u001b[1;33m\u001b[0m\u001b[1;33m\u001b[0m\u001b[0m\n",
      "\u001b[1;32m~\\Anaconda3\\lib\\site-packages\\pandas\\io\\sql.py\u001b[0m in \u001b[0;36mread_sql_query\u001b[1;34m(sql, con, index_col, coerce_float, params, parse_dates, chunksize)\u001b[0m\n\u001b[0;32m    312\u001b[0m     return pandas_sql.read_query(\n\u001b[0;32m    313\u001b[0m         \u001b[0msql\u001b[0m\u001b[1;33m,\u001b[0m \u001b[0mindex_col\u001b[0m\u001b[1;33m=\u001b[0m\u001b[0mindex_col\u001b[0m\u001b[1;33m,\u001b[0m \u001b[0mparams\u001b[0m\u001b[1;33m=\u001b[0m\u001b[0mparams\u001b[0m\u001b[1;33m,\u001b[0m \u001b[0mcoerce_float\u001b[0m\u001b[1;33m=\u001b[0m\u001b[0mcoerce_float\u001b[0m\u001b[1;33m,\u001b[0m\u001b[1;33m\u001b[0m\u001b[1;33m\u001b[0m\u001b[0m\n\u001b[1;32m--> 314\u001b[1;33m         parse_dates=parse_dates, chunksize=chunksize)\n\u001b[0m\u001b[0;32m    315\u001b[0m \u001b[1;33m\u001b[0m\u001b[0m\n\u001b[0;32m    316\u001b[0m \u001b[1;33m\u001b[0m\u001b[0m\n",
      "\u001b[1;32m~\\Anaconda3\\lib\\site-packages\\pandas\\io\\sql.py\u001b[0m in \u001b[0;36mread_query\u001b[1;34m(self, sql, index_col, coerce_float, params, parse_dates, chunksize)\u001b[0m\n\u001b[0;32m   1467\u001b[0m         \u001b[0margs\u001b[0m \u001b[1;33m=\u001b[0m \u001b[0m_convert_params\u001b[0m\u001b[1;33m(\u001b[0m\u001b[0msql\u001b[0m\u001b[1;33m,\u001b[0m \u001b[0mparams\u001b[0m\u001b[1;33m)\u001b[0m\u001b[1;33m\u001b[0m\u001b[1;33m\u001b[0m\u001b[0m\n\u001b[0;32m   1468\u001b[0m         \u001b[0mcursor\u001b[0m \u001b[1;33m=\u001b[0m \u001b[0mself\u001b[0m\u001b[1;33m.\u001b[0m\u001b[0mexecute\u001b[0m\u001b[1;33m(\u001b[0m\u001b[1;33m*\u001b[0m\u001b[0margs\u001b[0m\u001b[1;33m)\u001b[0m\u001b[1;33m\u001b[0m\u001b[1;33m\u001b[0m\u001b[0m\n\u001b[1;32m-> 1469\u001b[1;33m         \u001b[0mcolumns\u001b[0m \u001b[1;33m=\u001b[0m \u001b[1;33m[\u001b[0m\u001b[0mcol_desc\u001b[0m\u001b[1;33m[\u001b[0m\u001b[1;36m0\u001b[0m\u001b[1;33m]\u001b[0m \u001b[1;32mfor\u001b[0m \u001b[0mcol_desc\u001b[0m \u001b[1;32min\u001b[0m \u001b[0mcursor\u001b[0m\u001b[1;33m.\u001b[0m\u001b[0mdescription\u001b[0m\u001b[1;33m]\u001b[0m\u001b[1;33m\u001b[0m\u001b[1;33m\u001b[0m\u001b[0m\n\u001b[0m\u001b[0;32m   1470\u001b[0m \u001b[1;33m\u001b[0m\u001b[0m\n\u001b[0;32m   1471\u001b[0m         \u001b[1;32mif\u001b[0m \u001b[0mchunksize\u001b[0m \u001b[1;32mis\u001b[0m \u001b[1;32mnot\u001b[0m \u001b[1;32mNone\u001b[0m\u001b[1;33m:\u001b[0m\u001b[1;33m\u001b[0m\u001b[1;33m\u001b[0m\u001b[0m\n",
      "\u001b[1;31mTypeError\u001b[0m: 'NoneType' object is not iterable"
     ]
    }
   ],
   "source": [
    "conn = sqlite3.connect(\"flights.db\")\n",
    "df = pd.read_sql_query(\";\", conn)\n",
    "df"
   ]
  },
  {
   "cell_type": "markdown",
   "metadata": {
    "slideshow": {
     "slide_type": "slide"
    }
   },
   "source": [
    "**Task**: \n",
    "Convert one of the earlier queries in the lesson to a pandas data frame"
   ]
  },
  {
   "cell_type": "markdown",
   "metadata": {
    "slideshow": {
     "slide_type": "slide"
    }
   },
   "source": [
    "## Integration\n",
    "\n",
    "The [Chinook database](https://github.com/lerocha/chinook-database) is a sample database, representing a digital media store.\n",
    "\n",
    "You need to create a query that can rank tracks in term of popularity.\n",
    "\n",
    "The name of the database is `Chinook_Sqlite.sqlite`"
   ]
  },
  {
   "cell_type": "markdown",
   "metadata": {
    "slideshow": {
     "slide_type": "slide"
    }
   },
   "source": [
    "Database information:<br>\n",
    "- How many tables are in the database?\n",
    "- What's the primary key of each table?\n",
    "- What foreign keys join the tables together?\n",
    "- If you had to draw a schema of how the tables are connected, what would it look like?"
   ]
  },
  {
   "cell_type": "code",
   "execution_count": 73,
   "metadata": {},
   "outputs": [],
   "source": [
    "con = sqlite3.connect('Chinook_Sqlite.sqlite')\n",
    "cursor = con.cursor()"
   ]
  },
  {
   "cell_type": "code",
   "execution_count": 77,
   "metadata": {},
   "outputs": [
    {
     "name": "stdout",
     "output_type": "stream",
     "text": [
      "11\n"
     ]
    }
   ],
   "source": [
    "cursor.execute(\"SELECT name FROM sqlite_master WHERE type='table';\")\n",
    "print(len(cursor.fetchall()))"
   ]
  },
  {
   "cell_type": "code",
   "execution_count": 92,
   "metadata": {
    "scrolled": false
   },
   "outputs": [
    {
     "data": {
      "text/plain": [
       "[('Album',),\n",
       " ('Artist',),\n",
       " ('Customer',),\n",
       " ('Employee',),\n",
       " ('Genre',),\n",
       " ('Invoice',),\n",
       " ('InvoiceLine',),\n",
       " ('MediaType',),\n",
       " ('Playlist',),\n",
       " ('PlaylistTrack',),\n",
       " ('Track',)]"
      ]
     },
     "execution_count": 92,
     "metadata": {},
     "output_type": "execute_result"
    }
   ],
   "source": [
    "cursor.execute(\"SELECT name FROM sqlite_master WHERE type='table';\").fetchall()"
   ]
  },
  {
   "cell_type": "code",
   "execution_count": 91,
   "metadata": {},
   "outputs": [
    {
     "data": {
      "text/plain": [
       "(('cid', None, None, None, None, None, None),\n",
       " ('name', None, None, None, None, None, None),\n",
       " ('type', None, None, None, None, None, None),\n",
       " ('notnull', None, None, None, None, None, None),\n",
       " ('dflt_value', None, None, None, None, None, None),\n",
       " ('pk', None, None, None, None, None, None))"
      ]
     },
     "execution_count": 91,
     "metadata": {},
     "output_type": "execute_result"
    }
   ],
   "source": [
    "cursor.description"
   ]
  },
  {
   "cell_type": "code",
   "execution_count": 98,
   "metadata": {},
   "outputs": [
    {
     "name": "stdout",
     "output_type": "stream",
     "text": [
      "(0, 'CustomerId', 'INTEGER', 1, None, 1)\n",
      "(1, 'FirstName', 'NVARCHAR(40)', 1, None, 0)\n",
      "(2, 'LastName', 'NVARCHAR(20)', 1, None, 0)\n",
      "(3, 'Company', 'NVARCHAR(80)', 0, None, 0)\n",
      "(4, 'Address', 'NVARCHAR(70)', 0, None, 0)\n",
      "(5, 'City', 'NVARCHAR(40)', 0, None, 0)\n",
      "(6, 'State', 'NVARCHAR(40)', 0, None, 0)\n",
      "(7, 'Country', 'NVARCHAR(40)', 0, None, 0)\n",
      "(8, 'PostalCode', 'NVARCHAR(10)', 0, None, 0)\n",
      "(9, 'Phone', 'NVARCHAR(24)', 0, None, 0)\n",
      "(10, 'Fax', 'NVARCHAR(24)', 0, None, 0)\n",
      "(11, 'Email', 'NVARCHAR(60)', 1, None, 0)\n",
      "(12, 'SupportRepId', 'INTEGER', 0, None, 0)\n"
     ]
    }
   ],
   "source": [
    "cursor.execute(\"PRAGMA table_info(customer)\")\n",
    "info = cursor.fetchall()\n",
    "print(*info, sep = \"\\n\")"
   ]
  },
  {
   "cell_type": "markdown",
   "metadata": {
    "slideshow": {
     "slide_type": "slide"
    }
   },
   "source": [
    "To answer the question:<br>\n",
    "- What are the max and min dates in the Invoice table?\n",
    "- What tables would you need to answer \"what is your most popular track?\"\n",
    "- What values from each table?"
   ]
  },
  {
   "cell_type": "code",
   "execution_count": null,
   "metadata": {
    "slideshow": {
     "slide_type": "skip"
    }
   },
   "outputs": [],
   "source": []
  },
  {
   "cell_type": "markdown",
   "metadata": {
    "slideshow": {
     "slide_type": "slide"
    }
   },
   "source": [
    "## Reflection"
   ]
  }
 ],
 "metadata": {
  "kernelspec": {
   "display_name": "Python 3",
   "language": "python",
   "name": "python3"
  },
  "language_info": {
   "codemirror_mode": {
    "name": "ipython",
    "version": 3
   },
   "file_extension": ".py",
   "mimetype": "text/x-python",
   "name": "python",
   "nbconvert_exporter": "python",
   "pygments_lexer": "ipython3",
   "version": "3.7.3"
  }
 },
 "nbformat": 4,
 "nbformat_minor": 2
}
