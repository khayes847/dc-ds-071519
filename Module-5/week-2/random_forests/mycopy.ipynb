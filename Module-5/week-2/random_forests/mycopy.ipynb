{
 "cells": [
  {
   "cell_type": "markdown",
   "metadata": {},
   "source": [
    "> To live! like a tree alone and free,\n",
    "> and like a forest in brotherhood/sisterhood...\n",
    "> Nazim Hikmet\n",
    "\n",
    "<center> <h1> Random Forests (Yes! No Forest Image) </h1> </center>\n",
    "\n",
    "\n",
    "\n",
    "## Objectives\n",
    "\n",
    "- Review of decision trees\n",
    "\n",
    "- Defining Bootstrapping process\n",
    "\n",
    "- Explaining the need for bootstrapping\n",
    "\n",
    "- Identifying the need for bootstrapping for decision trees.\n",
    "\n",
    "- Comparing Random forests and bagging methods\n",
    "\n",
    "- Evaulating a model by random forest model\n",
    "\n",
    "<center> <h1> Bootstrapping </h1> </center>\n",
    "\n",
    "<img src= \"img/bootstrapping2.jpg\" style=\"height:400px\">"
   ]
  },
  {
   "cell_type": "markdown",
   "metadata": {},
   "source": [
    "Consider a case that we want to invest to either X or Y a fixed amount of money.\n",
    "\n",
    "- $\\alpha$ amount to X and $1- \\alpha$ amount to Y\n",
    "\n",
    "- We want to minimize variance in our investment! This is minimize $V(\\alpha X + (1-\\alpha )Y)$\n",
    "\n",
    "- The $\\alpha$ that minimizes the variance: \n",
    "\n",
    "$$ \\alpha = \\frac{\\sigma^{2}_{Y} - \\sigma_{XY}}{\\sigma_{X}^{2} + \\sigma^{2}_{Y} - 2\\sigma_{XY}}$$\n",
    "\n",
    "where $\\sigma_{XY}$ is the covariance of X and Y. \n",
    "\n",
    "Q: Do you see the problem here?\n",
    "\n",
    "Hint: Let's rewrite the equation with hats! What are the hats refering to ?\n",
    "\n",
    "\n",
    "$$ \\widehat{\\alpha}= \\frac{\\widehat{\\sigma}^{2}_{Y} - \\widehat{\\sigma}_{XY}}{\\widehat{\\sigma}_{X}^{2} + \\widehat{\\sigma}^{2}_{Y} - 2\\widehat{\\sigma}_{XY}}$$\n",
    "\n",
    "Q: How much do we certain about $\\widehat{\\alpha}$?"
   ]
  },
  {
   "cell_type": "code",
   "execution_count": 1,
   "metadata": {},
   "outputs": [],
   "source": [
    "import numpy as np \n"
   ]
  },
  {
   "cell_type": "code",
   "execution_count": 2,
   "metadata": {},
   "outputs": [],
   "source": [
    "a = (1.25-0.5)/(1+1.25-(2*.5))"
   ]
  },
  {
   "cell_type": "code",
   "execution_count": 3,
   "metadata": {},
   "outputs": [
    {
     "data": {
      "text/plain": [
       "0.6"
      ]
     },
     "execution_count": 3,
     "metadata": {},
     "output_type": "execute_result"
    }
   ],
   "source": [
    "a"
   ]
  },
  {
   "cell_type": "code",
   "execution_count": 4,
   "metadata": {},
   "outputs": [],
   "source": [
    "sample = np.random.multivariate_normal(mean = [10,10], cov = [[1, 0.5], [0.5, 1.25]] , size = 100)\n"
   ]
  },
  {
   "cell_type": "code",
   "execution_count": 5,
   "metadata": {
    "scrolled": true
   },
   "outputs": [
    {
     "data": {
      "text/plain": [
       "array([[10.23500355,  9.73750164],\n",
       "       [10.73542166, 11.58394115],\n",
       "       [10.47735828, 11.53674899],\n",
       "       [10.28703746,  8.7175607 ],\n",
       "       [ 9.06503   , 10.16143512],\n",
       "       [ 9.54388614,  9.66834494],\n",
       "       [12.35108295, 12.45662267],\n",
       "       [12.59379253, 11.85335903],\n",
       "       [ 9.55715325,  9.39127472],\n",
       "       [10.11045713, 10.0007949 ],\n",
       "       [10.87211483, 10.16262166],\n",
       "       [10.27799138, 10.15749378],\n",
       "       [12.66501859, 11.07920284],\n",
       "       [ 9.36387253,  9.47976671],\n",
       "       [ 7.65783794,  7.95098868],\n",
       "       [10.87313881, 10.23828995],\n",
       "       [ 9.2517671 , 11.38886108],\n",
       "       [ 8.78437743,  9.53577354],\n",
       "       [10.40605805,  8.35453456],\n",
       "       [10.35940218, 10.10378473],\n",
       "       [ 9.62957785, 10.31536993],\n",
       "       [10.34242782,  9.1895836 ],\n",
       "       [10.44663741, 11.51225188],\n",
       "       [ 9.41011697,  9.59035422],\n",
       "       [10.05820765, 10.94223128],\n",
       "       [10.08735093, 10.21606196],\n",
       "       [10.37846269,  7.94101956],\n",
       "       [ 9.66318685,  7.67378631],\n",
       "       [10.98076486,  9.35922421],\n",
       "       [10.70492146, 11.31842342],\n",
       "       [ 8.83211965,  8.61018417],\n",
       "       [ 9.03095025,  7.79816397],\n",
       "       [11.30353765,  8.59152057],\n",
       "       [ 9.68320776, 10.10174014],\n",
       "       [ 9.68409976,  9.09204947],\n",
       "       [ 8.75359521,  9.51997473],\n",
       "       [ 9.43421472, 10.35614575],\n",
       "       [11.53226063,  9.28337244],\n",
       "       [10.1669466 ,  9.42194156],\n",
       "       [ 9.34289712,  8.39478559],\n",
       "       [10.01635822,  9.91806969],\n",
       "       [10.75918214, 10.29482237],\n",
       "       [10.55744166, 11.08935208],\n",
       "       [11.6359554 , 12.38400408],\n",
       "       [10.23995209, 11.00818431],\n",
       "       [ 9.41796246, 10.35505365],\n",
       "       [10.28929347, 10.58047784],\n",
       "       [ 9.33558542,  7.08852719],\n",
       "       [ 9.6996383 , 10.13078087],\n",
       "       [ 9.93565458,  9.07710371],\n",
       "       [10.91860237, 10.67400873],\n",
       "       [10.4749827 ,  9.38207865],\n",
       "       [10.01335682,  9.17033279],\n",
       "       [10.12464713, 10.03606081],\n",
       "       [10.58612308, 10.51269763],\n",
       "       [10.24153601, 10.01546953],\n",
       "       [ 9.86441256,  8.68398233],\n",
       "       [10.6310285 ,  9.44050964],\n",
       "       [ 9.2408773 ,  8.73278798],\n",
       "       [10.95293338, 11.56425608],\n",
       "       [11.58879379, 10.26989126],\n",
       "       [10.18050911,  9.29144358],\n",
       "       [ 9.48638338,  9.89089042],\n",
       "       [10.49088156,  9.15721156],\n",
       "       [10.58179722, 10.43207163],\n",
       "       [ 9.60608752,  8.29072648],\n",
       "       [ 8.88995344,  9.41695226],\n",
       "       [10.09471687,  9.90681686],\n",
       "       [11.21607322, 11.56031554],\n",
       "       [10.26043662, 10.43994196],\n",
       "       [ 9.67164141,  9.2931776 ],\n",
       "       [10.17483053, 11.85422381],\n",
       "       [ 8.2022059 ,  9.71333956],\n",
       "       [10.19013701, 11.40208513],\n",
       "       [ 8.51149645,  8.85986101],\n",
       "       [ 9.6620052 , 10.79681804],\n",
       "       [ 9.96726625,  9.38671888],\n",
       "       [11.12869616, 10.34246778],\n",
       "       [10.63549743, 10.09919843],\n",
       "       [10.55124109, 11.85497286],\n",
       "       [ 9.87621735, 10.43009772],\n",
       "       [ 9.57761195,  7.86097589],\n",
       "       [10.29207923,  9.70608375],\n",
       "       [ 9.01642811,  9.65552557],\n",
       "       [ 9.52905863,  9.72043566],\n",
       "       [ 9.258292  ,  9.15130363],\n",
       "       [10.90353628, 11.58445715],\n",
       "       [ 9.92991075,  8.73322563],\n",
       "       [ 8.65182894,  9.32586976],\n",
       "       [ 8.8199816 ,  8.90149001],\n",
       "       [10.27288402,  9.78555493],\n",
       "       [ 9.99633827, 10.28531226],\n",
       "       [10.3607231 ,  8.47006907],\n",
       "       [ 9.27791613,  8.9121655 ],\n",
       "       [ 9.78688049,  9.63859159],\n",
       "       [ 9.90530801, 10.86579819],\n",
       "       [ 9.70716481,  7.98977706],\n",
       "       [11.12344835,  9.99587421],\n",
       "       [ 8.32551572,  9.92737122],\n",
       "       [ 9.55596838, 10.03253233]])"
      ]
     },
     "execution_count": 5,
     "metadata": {},
     "output_type": "execute_result"
    }
   ],
   "source": [
    "sample"
   ]
  },
  {
   "cell_type": "code",
   "execution_count": 6,
   "metadata": {},
   "outputs": [
    {
     "data": {
      "text/plain": [
       "0.7573475663801302"
      ]
     },
     "execution_count": 6,
     "metadata": {},
     "output_type": "execute_result"
    }
   ],
   "source": [
    "sample[:,0].var()"
   ]
  },
  {
   "cell_type": "code",
   "execution_count": 7,
   "metadata": {},
   "outputs": [
    {
     "data": {
      "text/plain": [
       "1.196152737356418"
      ]
     },
     "execution_count": 7,
     "metadata": {},
     "output_type": "execute_result"
    }
   ],
   "source": [
    "sample[:, 1].var()"
   ]
  },
  {
   "cell_type": "code",
   "execution_count": 8,
   "metadata": {},
   "outputs": [
    {
     "data": {
      "text/plain": [
       "0.4815655164333491"
      ]
     },
     "execution_count": 8,
     "metadata": {},
     "output_type": "execute_result"
    }
   ],
   "source": [
    "np.cov(sample.T)[0,1]"
   ]
  },
  {
   "cell_type": "code",
   "execution_count": 9,
   "metadata": {},
   "outputs": [
    {
     "name": "stdout",
     "output_type": "stream",
     "text": [
      "[[0.76499754 0.48156552]\n",
      " [0.48156552 1.20823509]]\n",
      "0.7215361400454606\n"
     ]
    }
   ],
   "source": [
    "sigma_x = sample[:,0].var()\n",
    "\n",
    "sigma_y = sample[:, 1].var()\n",
    "\n",
    "sigma_xy = np.cov(sample.T)[0,1]\n",
    "\n",
    "print(np.cov(sample.T))\n",
    "\n",
    "alpha_hat = (sigma_y - sigma_xy)/(sigma_x + sigma_y - 2* sigma_xy)\n",
    "\n",
    "print(alpha_hat)"
   ]
  },
  {
   "cell_type": "code",
   "execution_count": 32,
   "metadata": {},
   "outputs": [],
   "source": [
    "alphas = []\n",
    "\n",
    "for i in range(1000):\n",
    "    s = np.random.multivariate_normal(mean = [10,10], cov = [[1, 0.5], [0.5, 1.25]] , size = 100)\n",
    "    s_x = s[:,0].var()\n",
    "    s_y = s[:,1].var()\n",
    "    s_xy = np.cov(s.T)[0,1]\n",
    "    a_hat = (s_y - s_xy)/(s_x + s_y - 2* s_xy)\n",
    "    alphas.append(a_hat)\n",
    "    \n"
   ]
  },
  {
   "cell_type": "code",
   "execution_count": 33,
   "metadata": {},
   "outputs": [],
   "source": [
    "import matplotlib.pyplot as plt"
   ]
  },
  {
   "cell_type": "code",
   "execution_count": 34,
   "metadata": {
    "scrolled": true
   },
   "outputs": [
    {
     "data": {
      "text/plain": [
       "(array([  7.,  22., 104., 242., 281., 198., 113.,  28.,   2.,   3.]),\n",
       " array([0.33508567, 0.39444553, 0.45380539, 0.51316526, 0.57252512,\n",
       "        0.63188498, 0.69124484, 0.7506047 , 0.80996456, 0.86932442,\n",
       "        0.92868428]),\n",
       " <a list of 10 Patch objects>)"
      ]
     },
     "execution_count": 34,
     "metadata": {},
     "output_type": "execute_result"
    },
    {
     "data": {
      "image/png": "[encoded data removed]",
      "text/plain": [
       "<Figure size 432x288 with 1 Axes>"
      ]
     },
     "metadata": {
      "needs_background": "light"
     },
     "output_type": "display_data"
    }
   ],
   "source": [
    "plt.hist(alphas)"
   ]
  },
  {
   "cell_type": "code",
   "execution_count": 13,
   "metadata": {},
   "outputs": [
    {
     "data": {
      "text/plain": [
       "0.0829659253366882"
      ]
     },
     "execution_count": 13,
     "metadata": {},
     "output_type": "execute_result"
    }
   ],
   "source": [
    "np.std(alphas, ddof=1)"
   ]
  },
  {
   "cell_type": "code",
   "execution_count": null,
   "metadata": {},
   "outputs": [],
   "source": [
    "# find the mean of the alphas\n",
    "# find the standard error of alphas - note that the degree of freedom is 1 in this case"
   ]
  },
  {
   "cell_type": "markdown",
   "metadata": {},
   "source": [
    "Q: what is wrong with this approach?\n",
    "\n",
    "A: What can we do about this -- Bootstapping \n"
   ]
  },
  {
   "cell_type": "code",
   "execution_count": 15,
   "metadata": {},
   "outputs": [
    {
     "data": {
      "text/plain": [
       "array([1, 1, 1, 1, 1, 1, 1, 1, 1, 2, 1, 2, 1, 1, 3, 1, 2, 1, 2, 3, 2, 1,\n",
       "       1, 2, 1, 3, 1, 1, 2, 1, 2, 1, 1, 1, 1, 1, 1, 1, 2, 3, 2, 1, 1, 1,\n",
       "       3, 1, 1, 2, 3, 3, 1, 1, 1, 1, 2, 1, 1, 3, 2, 1, 2, 3, 1, 1, 1, 1,\n",
       "       2], dtype=int64)"
      ]
     },
     "execution_count": 15,
     "metadata": {},
     "output_type": "execute_result"
    }
   ],
   "source": [
    "## Bootstrapping\n",
    "\n",
    "boot_sample = sample[np.random.choice(np.arange(100), replace = True, size = 100)]\n",
    "\n",
    "np.unique(boot_sample, return_counts= True, axis = 0)[1]\n",
    "\n",
    "## Homework: find alpha_hats with bootstrapping"
   ]
  },
  {
   "cell_type": "code",
   "execution_count": 28,
   "metadata": {},
   "outputs": [],
   "source": [
    "alphas = []\n",
    "\n",
    "for i in range(1000):\n",
    "    s = sample[np.random.choice(np.arange(100), replace = True, size = 100)]\n",
    "    s_x = s[:,0].var()\n",
    "    s_y = s[:,1].var()\n",
    "    s_xy = np.cov(s.T)[0,1]\n",
    "    a_hat = (s_y - s_xy)/(s_x + s_y - 2* s_xy)\n",
    "    alphas.append(a_hat)\n",
    "    "
   ]
  },
  {
   "cell_type": "code",
   "execution_count": 29,
   "metadata": {
    "scrolled": true
   },
   "outputs": [
    {
     "data": {
      "text/plain": [
       "0.7242864112382823"
      ]
     },
     "execution_count": 29,
     "metadata": {},
     "output_type": "execute_result"
    }
   ],
   "source": [
    "np.mean(alphas)"
   ]
  },
  {
   "cell_type": "code",
   "execution_count": 30,
   "metadata": {},
   "outputs": [
    {
     "data": {
      "text/plain": [
       "0.08710472866534737"
      ]
     },
     "execution_count": 30,
     "metadata": {},
     "output_type": "execute_result"
    }
   ],
   "source": [
    "np.std(alphas, ddof=1)"
   ]
  },
  {
   "cell_type": "code",
   "execution_count": 31,
   "metadata": {},
   "outputs": [
    {
     "data": {
      "text/plain": [
       "(array([  2.,  19.,  68., 168., 224., 232., 182.,  78.,  22.,   5.]),\n",
       " array([0.43424769, 0.49125184, 0.54825599, 0.60526015, 0.6622643 ,\n",
       "        0.71926845, 0.77627261, 0.83327676, 0.89028091, 0.94728507,\n",
       "        1.00428922]),\n",
       " <a list of 10 Patch objects>)"
      ]
     },
     "execution_count": 31,
     "metadata": {},
     "output_type": "execute_result"
    },
    {
     "data": {
      "image/png": "[encoded data removed]",
      "text/plain": [
       "<Figure size 432x288 with 1 Axes>"
      ]
     },
     "metadata": {
      "needs_background": "light"
     },
     "output_type": "display_data"
    }
   ],
   "source": [
    "plt.hist(alphas)"
   ]
  },
  {
   "cell_type": "markdown",
   "metadata": {},
   "source": [
    "<img src= \"img/bootstrap1.png\" style=\"height:400px\">\n"
   ]
  },
  {
   "cell_type": "markdown",
   "metadata": {},
   "source": [
    "### Bagging\n",
    "\n",
    "\n",
    "Let's us one more time recall that if $Z_{1}, \\cdots, Z_{n}$ are independent observations with variance $\\sigma^{2}$ then the variance of the mean $\\bar{Z}$ is given by $\\frac{\\sigma^{2}}{n}$. \n",
    "\n",
    "So what?\n",
    "\n",
    "We will use this idea calculate $$ \\hat{f}^{1}(x), \\cdots, \\hat{f}^{B}(x)$$ where each $\\hat{f}^{i}$ represents a decision tree fitted to the bootstrapped data.\n",
    "\n",
    "\n",
    "Then we will make a prediction by: \n",
    "\n",
    "$$ \\hat{f}_{\\text{avg}}(x) = \\frac{1}{B}\\sum_{b=1}^{B} \\hat{f}^{b}(x)$$\n",
    "\n",
    "Note that this is for regression and for the classification we can get majority vote.\n",
    "\n",
    "__Problem__ We still have some problem with this approach and random forests will address this problem. Can you see the issue?\n",
    "\n",
    "- If we have a strong predictor then this will dominate in each tree.\n",
    "\n",
    "\n",
    "\n"
   ]
  },
  {
   "cell_type": "markdown",
   "metadata": {},
   "source": [
    "Bagging helps with high-variance. It is not necessary with linear regression, because linear regression has low variance and high bias."
   ]
  },
  {
   "cell_type": "code",
   "execution_count": 46,
   "metadata": {},
   "outputs": [],
   "source": [
    "import pandas as pd"
   ]
  },
  {
   "cell_type": "code",
   "execution_count": 54,
   "metadata": {},
   "outputs": [],
   "source": [
    "## you can download the data from -- https://www.kaggle.com/ishaanv/ISLR-Auto#Heart.csv\n",
    "\n",
    "## or http://faculty.marshall.usc.edu/gareth-james/ISL/data.html\n",
    "heart = pd.read_csv('data\\Heart.csv')"
   ]
  },
  {
   "cell_type": "code",
   "execution_count": 55,
   "metadata": {},
   "outputs": [
    {
     "name": "stdout",
     "output_type": "stream",
     "text": [
      "<class 'pandas.core.frame.DataFrame'>\n",
      "RangeIndex: 303 entries, 0 to 302\n",
      "Data columns (total 15 columns):\n",
      "Unnamed: 0    303 non-null int64\n",
      "Age           303 non-null int64\n",
      "Sex           303 non-null int64\n",
      "ChestPain     303 non-null object\n",
      "RestBP        303 non-null int64\n",
      "Chol          303 non-null int64\n",
      "Fbs           303 non-null int64\n",
      "RestECG       303 non-null int64\n",
      "MaxHR         303 non-null int64\n",
      "ExAng         303 non-null int64\n",
      "Oldpeak       303 non-null float64\n",
      "Slope         303 non-null int64\n",
      "Ca            299 non-null float64\n",
      "Thal          301 non-null object\n",
      "AHD           303 non-null object\n",
      "dtypes: float64(2), int64(10), object(3)\n",
      "memory usage: 35.6+ KB\n"
     ]
    }
   ],
   "source": [
    "heart.info()"
   ]
  },
  {
   "cell_type": "code",
   "execution_count": 56,
   "metadata": {},
   "outputs": [],
   "source": [
    "heart.dropna(axis= 0, how= 'any', inplace = True)\n",
    "\n",
    "y = heart.AHD\n",
    "\n",
    "heart.drop(columns= 'AHD', inplace = True)"
   ]
  },
  {
   "cell_type": "code",
   "execution_count": 57,
   "metadata": {},
   "outputs": [],
   "source": [
    "X = pd.get_dummies(heart)"
   ]
  },
  {
   "cell_type": "code",
   "execution_count": 1,
   "metadata": {},
   "outputs": [],
   "source": [
    "from sklearn.ensemble import RandomForestClassifier"
   ]
  },
  {
   "cell_type": "code",
   "execution_count": null,
   "metadata": {},
   "outputs": [],
   "source": [
    "RandomForestClassifier()"
   ]
  },
  {
   "cell_type": "code",
   "execution_count": 60,
   "metadata": {},
   "outputs": [],
   "source": [
    "rfc = RandomForestClassifier(n_estimators=300, max_features= 'sqrt', max_depth= 7,  oob_score=True)"
   ]
  },
  {
   "cell_type": "code",
   "execution_count": 61,
   "metadata": {},
   "outputs": [],
   "source": [
    "from sklearn.model_selection import cross_validate"
   ]
  },
  {
   "cell_type": "code",
   "execution_count": 62,
   "metadata": {},
   "outputs": [],
   "source": [
    "cv = cross_validate(rfc, X, y, return_estimator=True, cv=5)"
   ]
  },
  {
   "cell_type": "code",
   "execution_count": 63,
   "metadata": {},
   "outputs": [
    {
     "data": {
      "text/plain": [
       "array([0.81666667, 0.9       , 0.77966102, 0.79661017, 0.79661017])"
      ]
     },
     "execution_count": 63,
     "metadata": {},
     "output_type": "execute_result"
    }
   ],
   "source": [
    "cv['test_score']"
   ]
  },
  {
   "cell_type": "code",
   "execution_count": 64,
   "metadata": {},
   "outputs": [],
   "source": [
    "est = cv['estimator'][3]"
   ]
  },
  {
   "cell_type": "code",
   "execution_count": 65,
   "metadata": {},
   "outputs": [
    {
     "data": {
      "text/plain": [
       "0.8319327731092437"
      ]
     },
     "execution_count": 65,
     "metadata": {},
     "output_type": "execute_result"
    }
   ],
   "source": [
    "est.oob_score_"
   ]
  },
  {
   "cell_type": "code",
   "execution_count": 66,
   "metadata": {},
   "outputs": [],
   "source": [
    "est.feature_importances_\n",
    "\n",
    "index = X.columns.tolist()"
   ]
  },
  {
   "cell_type": "code",
   "execution_count": 67,
   "metadata": {},
   "outputs": [],
   "source": [
    "feat_imp = pd.DataFrame(est.feature_importances_, index = index, columns = ['importances'])"
   ]
  },
  {
   "cell_type": "code",
   "execution_count": 68,
   "metadata": {},
   "outputs": [
    {
     "data": {
      "text/html": [
       "<div>\n",
       "<style scoped>\n",
       "    .dataframe tbody tr th:only-of-type {\n",
       "        vertical-align: middle;\n",
       "    }\n",
       "\n",
       "    .dataframe tbody tr th {\n",
       "        vertical-align: top;\n",
       "    }\n",
       "\n",
       "    .dataframe thead th {\n",
       "        text-align: right;\n",
       "    }\n",
       "</style>\n",
       "<table border=\"1\" class=\"dataframe\">\n",
       "  <thead>\n",
       "    <tr style=\"text-align: right;\">\n",
       "      <th></th>\n",
       "      <th>importances</th>\n",
       "    </tr>\n",
       "  </thead>\n",
       "  <tbody>\n",
       "    <tr>\n",
       "      <th>Thal_normal</th>\n",
       "      <td>0.121308</td>\n",
       "    </tr>\n",
       "    <tr>\n",
       "      <th>Ca</th>\n",
       "      <td>0.112431</td>\n",
       "    </tr>\n",
       "    <tr>\n",
       "      <th>Oldpeak</th>\n",
       "      <td>0.100405</td>\n",
       "    </tr>\n",
       "    <tr>\n",
       "      <th>Thal_reversable</th>\n",
       "      <td>0.085313</td>\n",
       "    </tr>\n",
       "    <tr>\n",
       "      <th>ChestPain_asymptomatic</th>\n",
       "      <td>0.084279</td>\n",
       "    </tr>\n",
       "    <tr>\n",
       "      <th>MaxHR</th>\n",
       "      <td>0.078986</td>\n",
       "    </tr>\n",
       "    <tr>\n",
       "      <th>Age</th>\n",
       "      <td>0.075522</td>\n",
       "    </tr>\n",
       "    <tr>\n",
       "      <th>RestBP</th>\n",
       "      <td>0.063471</td>\n",
       "    </tr>\n",
       "    <tr>\n",
       "      <th>Unnamed: 0</th>\n",
       "      <td>0.058992</td>\n",
       "    </tr>\n",
       "    <tr>\n",
       "      <th>Chol</th>\n",
       "      <td>0.056464</td>\n",
       "    </tr>\n",
       "    <tr>\n",
       "      <th>ExAng</th>\n",
       "      <td>0.036839</td>\n",
       "    </tr>\n",
       "    <tr>\n",
       "      <th>Slope</th>\n",
       "      <td>0.033401</td>\n",
       "    </tr>\n",
       "    <tr>\n",
       "      <th>Sex</th>\n",
       "      <td>0.021624</td>\n",
       "    </tr>\n",
       "    <tr>\n",
       "      <th>ChestPain_nonanginal</th>\n",
       "      <td>0.019344</td>\n",
       "    </tr>\n",
       "    <tr>\n",
       "      <th>RestECG</th>\n",
       "      <td>0.017565</td>\n",
       "    </tr>\n",
       "    <tr>\n",
       "      <th>ChestPain_nontypical</th>\n",
       "      <td>0.011856</td>\n",
       "    </tr>\n",
       "    <tr>\n",
       "      <th>ChestPain_typical</th>\n",
       "      <td>0.009221</td>\n",
       "    </tr>\n",
       "    <tr>\n",
       "      <th>Fbs</th>\n",
       "      <td>0.006529</td>\n",
       "    </tr>\n",
       "    <tr>\n",
       "      <th>Thal_fixed</th>\n",
       "      <td>0.006448</td>\n",
       "    </tr>\n",
       "  </tbody>\n",
       "</table>\n",
       "</div>"
      ],
      "text/plain": [
       "                        importances\n",
       "Thal_normal                0.121308\n",
       "Ca                         0.112431\n",
       "Oldpeak                    0.100405\n",
       "Thal_reversable            0.085313\n",
       "ChestPain_asymptomatic     0.084279\n",
       "MaxHR                      0.078986\n",
       "Age                        0.075522\n",
       "RestBP                     0.063471\n",
       "Unnamed: 0                 0.058992\n",
       "Chol                       0.056464\n",
       "ExAng                      0.036839\n",
       "Slope                      0.033401\n",
       "Sex                        0.021624\n",
       "ChestPain_nonanginal       0.019344\n",
       "RestECG                    0.017565\n",
       "ChestPain_nontypical       0.011856\n",
       "ChestPain_typical          0.009221\n",
       "Fbs                        0.006529\n",
       "Thal_fixed                 0.006448"
      ]
     },
     "execution_count": 68,
     "metadata": {},
     "output_type": "execute_result"
    }
   ],
   "source": [
    "feat_imp.sort_values(by = 'importances', ascending = False)"
   ]
  },
  {
   "cell_type": "markdown",
   "metadata": {},
   "source": [
    "### Extra Material \n",
    "\n",
    "- [On the variance](https://newonlinecourses.science.psu.edu/stat414/node/167/)\n",
    "\n",
    "- [Discussion on Random Forests and overfitting](https://en.wikipedia.org/wiki/Talk%3ARandom_forest)\n",
    "\n",
    "- [Tricky stuff with respect to feature importance](http://rnowling.github.io/machine/learning/2015/08/10/random-forest-bias.html)\n",
    "\n",
    "- [ISLR - section 8.2](http://faculty.marshall.usc.edu/gareth-james/ISL/ISLR%20Seventh%20Printing.pdf)"
   ]
  },
  {
   "cell_type": "code",
   "execution_count": null,
   "metadata": {},
   "outputs": [],
   "source": []
  }
 ],
 "metadata": {
  "kernelspec": {
   "display_name": "Python 3",
   "language": "python",
   "name": "python3"
  },
  "language_info": {
   "codemirror_mode": {
    "name": "ipython",
    "version": 3
   },
   "file_extension": ".py",
   "mimetype": "text/x-python",
   "name": "python",
   "nbconvert_exporter": "python",
   "pygments_lexer": "ipython3",
   "version": "3.7.3"
  }
 },
 "nbformat": 4,
 "nbformat_minor": 2
}
